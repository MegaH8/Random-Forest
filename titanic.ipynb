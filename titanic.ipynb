{
 "cells": [
  {
   "attachments": {},
   "cell_type": "markdown",
   "metadata": {},
   "source": [
    "# Задача: \n",
    "Предсказать, кто из пассажиров титаника выживет, а кто умрет."
   ]
  },
  {
   "cell_type": "code",
   "execution_count": 82,
   "metadata": {},
   "outputs": [],
   "source": [
    "import pandas as pd\n",
    "import numpy as np\n",
    "import matplotlib.pyplot as plt\n",
    "import seaborn as sns\n",
    "from sklearn import tree\n",
    "%matplotlib inline\n",
    "\n",
    "from sklearn.model_selection import cross_val_score "
   ]
  },
  {
   "cell_type": "code",
   "execution_count": 83,
   "metadata": {},
   "outputs": [],
   "source": [
    "# Визуализация\n",
    "from IPython.display import SVG, display, HTML\n",
    "from graphviz import Source\n",
    "\n",
    "style = \"<style>svg{width: 10% !important; height: 10% !important;}</style>\"\n",
    "HTML(style)\n",
    "import os\n",
    "os.environ[\"PATH\"] += os.pathsep + \"C:\\\\Program Files\\\\Graphviz\\\\bin\" + os.pathsep + \"C:\\\\Program Files\\\\Graphviz\""
   ]
  },
  {
   "attachments": {},
   "cell_type": "markdown",
   "metadata": {},
   "source": [
    "Загрузка данных"
   ]
  },
  {
   "cell_type": "code",
   "execution_count": 84,
   "metadata": {},
   "outputs": [
    {
     "data": {
      "text/html": [
       "<div>\n",
       "<style scoped>\n",
       "    .dataframe tbody tr th:only-of-type {\n",
       "        vertical-align: middle;\n",
       "    }\n",
       "\n",
       "    .dataframe tbody tr th {\n",
       "        vertical-align: top;\n",
       "    }\n",
       "\n",
       "    .dataframe thead th {\n",
       "        text-align: right;\n",
       "    }\n",
       "</style>\n",
       "<table border=\"1\" class=\"dataframe\">\n",
       "  <thead>\n",
       "    <tr style=\"text-align: right;\">\n",
       "      <th></th>\n",
       "      <th>Survived</th>\n",
       "      <th>Pclass</th>\n",
       "      <th>Name</th>\n",
       "      <th>Sex</th>\n",
       "      <th>Age</th>\n",
       "      <th>SibSp</th>\n",
       "      <th>Parch</th>\n",
       "      <th>Ticket</th>\n",
       "      <th>Fare</th>\n",
       "      <th>Cabin</th>\n",
       "      <th>Embarked</th>\n",
       "    </tr>\n",
       "    <tr>\n",
       "      <th>PassengerId</th>\n",
       "      <th></th>\n",
       "      <th></th>\n",
       "      <th></th>\n",
       "      <th></th>\n",
       "      <th></th>\n",
       "      <th></th>\n",
       "      <th></th>\n",
       "      <th></th>\n",
       "      <th></th>\n",
       "      <th></th>\n",
       "      <th></th>\n",
       "    </tr>\n",
       "  </thead>\n",
       "  <tbody>\n",
       "    <tr>\n",
       "      <th>1</th>\n",
       "      <td>0</td>\n",
       "      <td>3</td>\n",
       "      <td>Braund, Mr. Owen Harris</td>\n",
       "      <td>male</td>\n",
       "      <td>22.0</td>\n",
       "      <td>1</td>\n",
       "      <td>0</td>\n",
       "      <td>A/5 21171</td>\n",
       "      <td>7.2500</td>\n",
       "      <td>NaN</td>\n",
       "      <td>S</td>\n",
       "    </tr>\n",
       "    <tr>\n",
       "      <th>2</th>\n",
       "      <td>1</td>\n",
       "      <td>1</td>\n",
       "      <td>Cumings, Mrs. John Bradley (Florence Briggs Th...</td>\n",
       "      <td>female</td>\n",
       "      <td>38.0</td>\n",
       "      <td>1</td>\n",
       "      <td>0</td>\n",
       "      <td>PC 17599</td>\n",
       "      <td>71.2833</td>\n",
       "      <td>C85</td>\n",
       "      <td>C</td>\n",
       "    </tr>\n",
       "    <tr>\n",
       "      <th>3</th>\n",
       "      <td>1</td>\n",
       "      <td>3</td>\n",
       "      <td>Heikkinen, Miss. Laina</td>\n",
       "      <td>female</td>\n",
       "      <td>26.0</td>\n",
       "      <td>0</td>\n",
       "      <td>0</td>\n",
       "      <td>STON/O2. 3101282</td>\n",
       "      <td>7.9250</td>\n",
       "      <td>NaN</td>\n",
       "      <td>S</td>\n",
       "    </tr>\n",
       "    <tr>\n",
       "      <th>4</th>\n",
       "      <td>1</td>\n",
       "      <td>1</td>\n",
       "      <td>Futrelle, Mrs. Jacques Heath (Lily May Peel)</td>\n",
       "      <td>female</td>\n",
       "      <td>35.0</td>\n",
       "      <td>1</td>\n",
       "      <td>0</td>\n",
       "      <td>113803</td>\n",
       "      <td>53.1000</td>\n",
       "      <td>C123</td>\n",
       "      <td>S</td>\n",
       "    </tr>\n",
       "    <tr>\n",
       "      <th>5</th>\n",
       "      <td>0</td>\n",
       "      <td>3</td>\n",
       "      <td>Allen, Mr. William Henry</td>\n",
       "      <td>male</td>\n",
       "      <td>35.0</td>\n",
       "      <td>0</td>\n",
       "      <td>0</td>\n",
       "      <td>373450</td>\n",
       "      <td>8.0500</td>\n",
       "      <td>NaN</td>\n",
       "      <td>S</td>\n",
       "    </tr>\n",
       "  </tbody>\n",
       "</table>\n",
       "</div>"
      ],
      "text/plain": [
       "             Survived  Pclass  \\\n",
       "PassengerId                     \n",
       "1                   0       3   \n",
       "2                   1       1   \n",
       "3                   1       3   \n",
       "4                   1       1   \n",
       "5                   0       3   \n",
       "\n",
       "                                                          Name     Sex   Age  \\\n",
       "PassengerId                                                                    \n",
       "1                                      Braund, Mr. Owen Harris    male  22.0   \n",
       "2            Cumings, Mrs. John Bradley (Florence Briggs Th...  female  38.0   \n",
       "3                                       Heikkinen, Miss. Laina  female  26.0   \n",
       "4                 Futrelle, Mrs. Jacques Heath (Lily May Peel)  female  35.0   \n",
       "5                                     Allen, Mr. William Henry    male  35.0   \n",
       "\n",
       "             SibSp  Parch            Ticket     Fare Cabin Embarked  \n",
       "PassengerId                                                          \n",
       "1                1      0         A/5 21171   7.2500   NaN        S  \n",
       "2                1      0          PC 17599  71.2833   C85        C  \n",
       "3                0      0  STON/O2. 3101282   7.9250   NaN        S  \n",
       "4                1      0            113803  53.1000  C123        S  \n",
       "5                0      0            373450   8.0500   NaN        S  "
      ]
     },
     "execution_count": 84,
     "metadata": {},
     "output_type": "execute_result"
    }
   ],
   "source": [
    "# Данные на которых модель будет обучаться\n",
    "train_data = pd.read_csv('train.csv', index_col='PassengerId')\n",
    "train_data.head(5)"
   ]
  },
  {
   "cell_type": "code",
   "execution_count": 85,
   "metadata": {},
   "outputs": [
    {
     "data": {
      "text/html": [
       "<div>\n",
       "<style scoped>\n",
       "    .dataframe tbody tr th:only-of-type {\n",
       "        vertical-align: middle;\n",
       "    }\n",
       "\n",
       "    .dataframe tbody tr th {\n",
       "        vertical-align: top;\n",
       "    }\n",
       "\n",
       "    .dataframe thead th {\n",
       "        text-align: right;\n",
       "    }\n",
       "</style>\n",
       "<table border=\"1\" class=\"dataframe\">\n",
       "  <thead>\n",
       "    <tr style=\"text-align: right;\">\n",
       "      <th></th>\n",
       "      <th>Pclass</th>\n",
       "      <th>Name</th>\n",
       "      <th>Sex</th>\n",
       "      <th>Age</th>\n",
       "      <th>SibSp</th>\n",
       "      <th>Parch</th>\n",
       "      <th>Ticket</th>\n",
       "      <th>Fare</th>\n",
       "      <th>Cabin</th>\n",
       "      <th>Embarked</th>\n",
       "    </tr>\n",
       "    <tr>\n",
       "      <th>PassengerId</th>\n",
       "      <th></th>\n",
       "      <th></th>\n",
       "      <th></th>\n",
       "      <th></th>\n",
       "      <th></th>\n",
       "      <th></th>\n",
       "      <th></th>\n",
       "      <th></th>\n",
       "      <th></th>\n",
       "      <th></th>\n",
       "    </tr>\n",
       "  </thead>\n",
       "  <tbody>\n",
       "    <tr>\n",
       "      <th>892</th>\n",
       "      <td>3</td>\n",
       "      <td>Kelly, Mr. James</td>\n",
       "      <td>male</td>\n",
       "      <td>34.5</td>\n",
       "      <td>0</td>\n",
       "      <td>0</td>\n",
       "      <td>330911</td>\n",
       "      <td>7.8292</td>\n",
       "      <td>NaN</td>\n",
       "      <td>Q</td>\n",
       "    </tr>\n",
       "    <tr>\n",
       "      <th>893</th>\n",
       "      <td>3</td>\n",
       "      <td>Wilkes, Mrs. James (Ellen Needs)</td>\n",
       "      <td>female</td>\n",
       "      <td>47.0</td>\n",
       "      <td>1</td>\n",
       "      <td>0</td>\n",
       "      <td>363272</td>\n",
       "      <td>7.0000</td>\n",
       "      <td>NaN</td>\n",
       "      <td>S</td>\n",
       "    </tr>\n",
       "    <tr>\n",
       "      <th>894</th>\n",
       "      <td>2</td>\n",
       "      <td>Myles, Mr. Thomas Francis</td>\n",
       "      <td>male</td>\n",
       "      <td>62.0</td>\n",
       "      <td>0</td>\n",
       "      <td>0</td>\n",
       "      <td>240276</td>\n",
       "      <td>9.6875</td>\n",
       "      <td>NaN</td>\n",
       "      <td>Q</td>\n",
       "    </tr>\n",
       "    <tr>\n",
       "      <th>895</th>\n",
       "      <td>3</td>\n",
       "      <td>Wirz, Mr. Albert</td>\n",
       "      <td>male</td>\n",
       "      <td>27.0</td>\n",
       "      <td>0</td>\n",
       "      <td>0</td>\n",
       "      <td>315154</td>\n",
       "      <td>8.6625</td>\n",
       "      <td>NaN</td>\n",
       "      <td>S</td>\n",
       "    </tr>\n",
       "    <tr>\n",
       "      <th>896</th>\n",
       "      <td>3</td>\n",
       "      <td>Hirvonen, Mrs. Alexander (Helga E Lindqvist)</td>\n",
       "      <td>female</td>\n",
       "      <td>22.0</td>\n",
       "      <td>1</td>\n",
       "      <td>1</td>\n",
       "      <td>3101298</td>\n",
       "      <td>12.2875</td>\n",
       "      <td>NaN</td>\n",
       "      <td>S</td>\n",
       "    </tr>\n",
       "  </tbody>\n",
       "</table>\n",
       "</div>"
      ],
      "text/plain": [
       "             Pclass                                          Name     Sex  \\\n",
       "PassengerId                                                                 \n",
       "892               3                              Kelly, Mr. James    male   \n",
       "893               3              Wilkes, Mrs. James (Ellen Needs)  female   \n",
       "894               2                     Myles, Mr. Thomas Francis    male   \n",
       "895               3                              Wirz, Mr. Albert    male   \n",
       "896               3  Hirvonen, Mrs. Alexander (Helga E Lindqvist)  female   \n",
       "\n",
       "              Age  SibSp  Parch   Ticket     Fare Cabin Embarked  \n",
       "PassengerId                                                       \n",
       "892          34.5      0      0   330911   7.8292   NaN        Q  \n",
       "893          47.0      1      0   363272   7.0000   NaN        S  \n",
       "894          62.0      0      0   240276   9.6875   NaN        Q  \n",
       "895          27.0      0      0   315154   8.6625   NaN        S  \n",
       "896          22.0      1      1  3101298  12.2875   NaN        S  "
      ]
     },
     "execution_count": 85,
     "metadata": {},
     "output_type": "execute_result"
    }
   ],
   "source": [
    "# Данные на котрых модель будет предсказывать\n",
    "test_data = pd.read_csv('test.csv', index_col='PassengerId')\n",
    "test_data.head()"
   ]
  },
  {
   "cell_type": "code",
   "execution_count": 86,
   "metadata": {},
   "outputs": [
    {
     "data": {
      "text/html": [
       "<div>\n",
       "<style scoped>\n",
       "    .dataframe tbody tr th:only-of-type {\n",
       "        vertical-align: middle;\n",
       "    }\n",
       "\n",
       "    .dataframe tbody tr th {\n",
       "        vertical-align: top;\n",
       "    }\n",
       "\n",
       "    .dataframe thead th {\n",
       "        text-align: right;\n",
       "    }\n",
       "</style>\n",
       "<table border=\"1\" class=\"dataframe\">\n",
       "  <thead>\n",
       "    <tr style=\"text-align: right;\">\n",
       "      <th></th>\n",
       "      <th>Survived</th>\n",
       "    </tr>\n",
       "    <tr>\n",
       "      <th>PassengerId</th>\n",
       "      <th></th>\n",
       "    </tr>\n",
       "  </thead>\n",
       "  <tbody>\n",
       "    <tr>\n",
       "      <th>892</th>\n",
       "      <td>0</td>\n",
       "    </tr>\n",
       "    <tr>\n",
       "      <th>893</th>\n",
       "      <td>1</td>\n",
       "    </tr>\n",
       "    <tr>\n",
       "      <th>894</th>\n",
       "      <td>0</td>\n",
       "    </tr>\n",
       "    <tr>\n",
       "      <th>895</th>\n",
       "      <td>0</td>\n",
       "    </tr>\n",
       "    <tr>\n",
       "      <th>896</th>\n",
       "      <td>1</td>\n",
       "    </tr>\n",
       "  </tbody>\n",
       "</table>\n",
       "</div>"
      ],
      "text/plain": [
       "             Survived\n",
       "PassengerId          \n",
       "892                 0\n",
       "893                 1\n",
       "894                 0\n",
       "895                 0\n",
       "896                 1"
      ]
     },
     "execution_count": 86,
     "metadata": {},
     "output_type": "execute_result"
    }
   ],
   "source": [
    "# Данные для проверки\n",
    "y = pd.read_csv('gender_submission.csv', index_col='PassengerId')\n",
    "y.head()"
   ]
  },
  {
   "attachments": {},
   "cell_type": "markdown",
   "metadata": {},
   "source": [
    "# Подготавливаем данные"
   ]
  },
  {
   "cell_type": "code",
   "execution_count": 87,
   "metadata": {},
   "outputs": [
    {
     "name": "stdout",
     "output_type": "stream",
     "text": [
      "<class 'pandas.core.frame.DataFrame'>\n",
      "Int64Index: 891 entries, 1 to 891\n",
      "Data columns (total 10 columns):\n",
      " #   Column      Non-Null Count  Dtype  \n",
      "---  ------      --------------  -----  \n",
      " 0   Pclass      891 non-null    int64  \n",
      " 1   Age         891 non-null    float64\n",
      " 2   SibSp       891 non-null    int64  \n",
      " 3   Parch       891 non-null    int64  \n",
      " 4   Fare        891 non-null    float64\n",
      " 5   Sex_female  891 non-null    uint8  \n",
      " 6   Sex_male    891 non-null    uint8  \n",
      " 7   Embarked_C  891 non-null    uint8  \n",
      " 8   Embarked_Q  891 non-null    uint8  \n",
      " 9   Embarked_S  891 non-null    uint8  \n",
      "dtypes: float64(2), int64(3), uint8(5)\n",
      "memory usage: 46.1 KB\n"
     ]
    }
   ],
   "source": [
    "X_train.info()"
   ]
  },
  {
   "cell_type": "code",
   "execution_count": 88,
   "metadata": {},
   "outputs": [],
   "source": [
    "X_train = train_data.drop(['Name', 'Survived', 'Ticket', 'Cabin'], axis=1) # То на чем модель будет учится\n",
    "y_train = train_data.Survived # То что модель будет предсказывать при обучении\n",
    "X_test  = test_data.drop(['Name', 'Ticket', 'Cabin'], axis=1) # Данные для предсказания"
   ]
  },
  {
   "cell_type": "code",
   "execution_count": 89,
   "metadata": {},
   "outputs": [
    {
     "data": {
      "text/plain": [
       "PassengerId\n",
       "1    0\n",
       "2    1\n",
       "3    1\n",
       "4    1\n",
       "5    0\n",
       "Name: Survived, dtype: int64"
      ]
     },
     "execution_count": 89,
     "metadata": {},
     "output_type": "execute_result"
    }
   ],
   "source": [
    "y_train.head()"
   ]
  },
  {
   "cell_type": "code",
   "execution_count": 90,
   "metadata": {},
   "outputs": [],
   "source": [
    "X_train = pd.get_dummies(X_train) # Преобразование категориальных переменных в индикаторные переменные\n",
    "X_train = X_train.fillna({'Age': X_train.Age.median()}) # Заполняем пропуски в возрасте серединным значением"
   ]
  },
  {
   "cell_type": "code",
   "execution_count": 91,
   "metadata": {},
   "outputs": [
    {
     "name": "stdout",
     "output_type": "stream",
     "text": [
      "<class 'pandas.core.frame.DataFrame'>\n",
      "Int64Index: 418 entries, 892 to 1309\n",
      "Data columns (total 10 columns):\n",
      " #   Column      Non-Null Count  Dtype  \n",
      "---  ------      --------------  -----  \n",
      " 0   Pclass      418 non-null    int64  \n",
      " 1   Age         418 non-null    float64\n",
      " 2   SibSp       418 non-null    int64  \n",
      " 3   Parch       418 non-null    int64  \n",
      " 4   Fare        418 non-null    float64\n",
      " 5   Sex_female  418 non-null    uint8  \n",
      " 6   Sex_male    418 non-null    uint8  \n",
      " 7   Embarked_C  418 non-null    uint8  \n",
      " 8   Embarked_Q  418 non-null    uint8  \n",
      " 9   Embarked_S  418 non-null    uint8  \n",
      "dtypes: float64(2), int64(3), uint8(5)\n",
      "memory usage: 21.6 KB\n"
     ]
    }
   ],
   "source": [
    "X_test = pd.get_dummies(X_test) \n",
    "X_test= X_test.fillna({'Age': X_test.Age.median(),\n",
    "                        'Fare': X_test.Fare.median()})\n",
    "X_test.info()"
   ]
  },
  {
   "attachments": {},
   "cell_type": "markdown",
   "metadata": {},
   "source": [
    "# Обучаем дерево решений\n",
    "### Ищем наилучшие параметры для дерева решений"
   ]
  },
  {
   "cell_type": "code",
   "execution_count": 92,
   "metadata": {},
   "outputs": [],
   "source": [
    "from sklearn.model_selection import GridSearchCV \n",
    "\n",
    "tree_clf = tree.DecisionTreeClassifier() # Создаем дерево"
   ]
  },
  {
   "cell_type": "code",
   "execution_count": 93,
   "metadata": {},
   "outputs": [],
   "source": [
    "parametrs = {'criterion':['gini', 'entropy'], 'max_depth': range(1, 30)} # Определяем возможные параметры \n",
    "grid_search_cv_clf = GridSearchCV(tree_clf, param_grid=parametrs, cv=5) # Находим подходящие параметры"
   ]
  },
  {
   "attachments": {},
   "cell_type": "markdown",
   "metadata": {},
   "source": [
    "Обучаем дерево"
   ]
  },
  {
   "cell_type": "code",
   "execution_count": 94,
   "metadata": {},
   "outputs": [
    {
     "data": {
      "text/html": [
       "<style>#sk-container-id-2 {color: black;background-color: white;}#sk-container-id-2 pre{padding: 0;}#sk-container-id-2 div.sk-toggleable {background-color: white;}#sk-container-id-2 label.sk-toggleable__label {cursor: pointer;display: block;width: 100%;margin-bottom: 0;padding: 0.3em;box-sizing: border-box;text-align: center;}#sk-container-id-2 label.sk-toggleable__label-arrow:before {content: \"▸\";float: left;margin-right: 0.25em;color: #696969;}#sk-container-id-2 label.sk-toggleable__label-arrow:hover:before {color: black;}#sk-container-id-2 div.sk-estimator:hover label.sk-toggleable__label-arrow:before {color: black;}#sk-container-id-2 div.sk-toggleable__content {max-height: 0;max-width: 0;overflow: hidden;text-align: left;background-color: #f0f8ff;}#sk-container-id-2 div.sk-toggleable__content pre {margin: 0.2em;color: black;border-radius: 0.25em;background-color: #f0f8ff;}#sk-container-id-2 input.sk-toggleable__control:checked~div.sk-toggleable__content {max-height: 200px;max-width: 100%;overflow: auto;}#sk-container-id-2 input.sk-toggleable__control:checked~label.sk-toggleable__label-arrow:before {content: \"▾\";}#sk-container-id-2 div.sk-estimator input.sk-toggleable__control:checked~label.sk-toggleable__label {background-color: #d4ebff;}#sk-container-id-2 div.sk-label input.sk-toggleable__control:checked~label.sk-toggleable__label {background-color: #d4ebff;}#sk-container-id-2 input.sk-hidden--visually {border: 0;clip: rect(1px 1px 1px 1px);clip: rect(1px, 1px, 1px, 1px);height: 1px;margin: -1px;overflow: hidden;padding: 0;position: absolute;width: 1px;}#sk-container-id-2 div.sk-estimator {font-family: monospace;background-color: #f0f8ff;border: 1px dotted black;border-radius: 0.25em;box-sizing: border-box;margin-bottom: 0.5em;}#sk-container-id-2 div.sk-estimator:hover {background-color: #d4ebff;}#sk-container-id-2 div.sk-parallel-item::after {content: \"\";width: 100%;border-bottom: 1px solid gray;flex-grow: 1;}#sk-container-id-2 div.sk-label:hover label.sk-toggleable__label {background-color: #d4ebff;}#sk-container-id-2 div.sk-serial::before {content: \"\";position: absolute;border-left: 1px solid gray;box-sizing: border-box;top: 0;bottom: 0;left: 50%;z-index: 0;}#sk-container-id-2 div.sk-serial {display: flex;flex-direction: column;align-items: center;background-color: white;padding-right: 0.2em;padding-left: 0.2em;position: relative;}#sk-container-id-2 div.sk-item {position: relative;z-index: 1;}#sk-container-id-2 div.sk-parallel {display: flex;align-items: stretch;justify-content: center;background-color: white;position: relative;}#sk-container-id-2 div.sk-item::before, #sk-container-id-2 div.sk-parallel-item::before {content: \"\";position: absolute;border-left: 1px solid gray;box-sizing: border-box;top: 0;bottom: 0;left: 50%;z-index: -1;}#sk-container-id-2 div.sk-parallel-item {display: flex;flex-direction: column;z-index: 1;position: relative;background-color: white;}#sk-container-id-2 div.sk-parallel-item:first-child::after {align-self: flex-end;width: 50%;}#sk-container-id-2 div.sk-parallel-item:last-child::after {align-self: flex-start;width: 50%;}#sk-container-id-2 div.sk-parallel-item:only-child::after {width: 0;}#sk-container-id-2 div.sk-dashed-wrapped {border: 1px dashed gray;margin: 0 0.4em 0.5em 0.4em;box-sizing: border-box;padding-bottom: 0.4em;background-color: white;}#sk-container-id-2 div.sk-label label {font-family: monospace;font-weight: bold;display: inline-block;line-height: 1.2em;}#sk-container-id-2 div.sk-label-container {text-align: center;}#sk-container-id-2 div.sk-container {/* jupyter's `normalize.less` sets `[hidden] { display: none; }` but bootstrap.min.css set `[hidden] { display: none !important; }` so we also need the `!important` here to be able to override the default hidden behavior on the sphinx rendered scikit-learn.org. See: https://github.com/scikit-learn/scikit-learn/issues/21755 */display: inline-block !important;position: relative;}#sk-container-id-2 div.sk-text-repr-fallback {display: none;}</style><div id=\"sk-container-id-2\" class=\"sk-top-container\"><div class=\"sk-text-repr-fallback\"><pre>GridSearchCV(cv=5, estimator=DecisionTreeClassifier(),\n",
       "             param_grid={&#x27;criterion&#x27;: [&#x27;gini&#x27;, &#x27;entropy&#x27;],\n",
       "                         &#x27;max_depth&#x27;: range(1, 30)})</pre><b>In a Jupyter environment, please rerun this cell to show the HTML representation or trust the notebook. <br />On GitHub, the HTML representation is unable to render, please try loading this page with nbviewer.org.</b></div><div class=\"sk-container\" hidden><div class=\"sk-item sk-dashed-wrapped\"><div class=\"sk-label-container\"><div class=\"sk-label sk-toggleable\"><input class=\"sk-toggleable__control sk-hidden--visually\" id=\"sk-estimator-id-4\" type=\"checkbox\" ><label for=\"sk-estimator-id-4\" class=\"sk-toggleable__label sk-toggleable__label-arrow\">GridSearchCV</label><div class=\"sk-toggleable__content\"><pre>GridSearchCV(cv=5, estimator=DecisionTreeClassifier(),\n",
       "             param_grid={&#x27;criterion&#x27;: [&#x27;gini&#x27;, &#x27;entropy&#x27;],\n",
       "                         &#x27;max_depth&#x27;: range(1, 30)})</pre></div></div></div><div class=\"sk-parallel\"><div class=\"sk-parallel-item\"><div class=\"sk-item\"><div class=\"sk-label-container\"><div class=\"sk-label sk-toggleable\"><input class=\"sk-toggleable__control sk-hidden--visually\" id=\"sk-estimator-id-5\" type=\"checkbox\" ><label for=\"sk-estimator-id-5\" class=\"sk-toggleable__label sk-toggleable__label-arrow\">estimator: DecisionTreeClassifier</label><div class=\"sk-toggleable__content\"><pre>DecisionTreeClassifier()</pre></div></div></div><div class=\"sk-serial\"><div class=\"sk-item\"><div class=\"sk-estimator sk-toggleable\"><input class=\"sk-toggleable__control sk-hidden--visually\" id=\"sk-estimator-id-6\" type=\"checkbox\" ><label for=\"sk-estimator-id-6\" class=\"sk-toggleable__label sk-toggleable__label-arrow\">DecisionTreeClassifier</label><div class=\"sk-toggleable__content\"><pre>DecisionTreeClassifier()</pre></div></div></div></div></div></div></div></div></div></div>"
      ],
      "text/plain": [
       "GridSearchCV(cv=5, estimator=DecisionTreeClassifier(),\n",
       "             param_grid={'criterion': ['gini', 'entropy'],\n",
       "                         'max_depth': range(1, 30)})"
      ]
     },
     "execution_count": 94,
     "metadata": {},
     "output_type": "execute_result"
    }
   ],
   "source": [
    "grid_search_cv_clf.fit(X_train, y_train)"
   ]
  },
  {
   "cell_type": "code",
   "execution_count": 95,
   "metadata": {},
   "outputs": [
    {
     "data": {
      "text/plain": [
       "{'criterion': 'entropy', 'max_depth': 8}"
      ]
     },
     "execution_count": 95,
     "metadata": {},
     "output_type": "execute_result"
    }
   ],
   "source": [
    "grid_search_cv_clf.best_params_ # Лучшие параметры для максимального accurecy в кросвалидации"
   ]
  },
  {
   "cell_type": "code",
   "execution_count": 96,
   "metadata": {},
   "outputs": [],
   "source": [
    "best_clf = grid_search_cv_clf.best_estimator_ # Дерево с этими парраметрами"
   ]
  },
  {
   "cell_type": "code",
   "execution_count": 97,
   "metadata": {},
   "outputs": [
    {
     "data": {
      "image/svg+xml": "<svg xmlns=\"http://www.w3.org/2000/svg\" xmlns:xlink=\"http://www.w3.org/1999/xlink\" width=\"4139pt\" height=\"1028pt\" viewBox=\"0.00 0.00 4139.00 1028.00\">\n<g id=\"graph0\" class=\"graph\" transform=\"scale(1 1) rotate(0) translate(4 1024)\">\n<title>Tree</title>\n<polygon fill=\"white\" stroke=\"none\" points=\"-4,4 -4,-1024 4135,-1024 4135,4 -4,4\"/>\n<!-- 0 -->\n<g id=\"node1\" class=\"node\">\n<title>0</title>\n<polygon fill=\"#f5cfb4\" stroke=\"black\" points=\"2253.5,-1020 2116.5,-1020 2116.5,-937 2253.5,-937 2253.5,-1020\"/>\n<text text-anchor=\"middle\" x=\"2185\" y=\"-1004.8\" font-family=\"Helvetica,sans-Serif\" font-size=\"14.00\">Sex_female &lt;= 0.5</text>\n<text text-anchor=\"middle\" x=\"2185\" y=\"-989.8\" font-family=\"Helvetica,sans-Serif\" font-size=\"14.00\">entropy = 0.961</text>\n<text text-anchor=\"middle\" x=\"2185\" y=\"-974.8\" font-family=\"Helvetica,sans-Serif\" font-size=\"14.00\">samples = 891</text>\n<text text-anchor=\"middle\" x=\"2185\" y=\"-959.8\" font-family=\"Helvetica,sans-Serif\" font-size=\"14.00\">value = [549, 342]</text>\n<text text-anchor=\"middle\" x=\"2185\" y=\"-944.8\" font-family=\"Helvetica,sans-Serif\" font-size=\"14.00\">class = Died</text>\n</g>\n<!-- 1 -->\n<g id=\"node2\" class=\"node\">\n<title>1</title>\n<polygon fill=\"#eb9e67\" stroke=\"black\" points=\"1937,-901 1807,-901 1807,-818 1937,-818 1937,-901\"/>\n<text text-anchor=\"middle\" x=\"1872\" y=\"-885.8\" font-family=\"Helvetica,sans-Serif\" font-size=\"14.00\">Fare &lt;= 26.269</text>\n<text text-anchor=\"middle\" x=\"1872\" y=\"-870.8\" font-family=\"Helvetica,sans-Serif\" font-size=\"14.00\">entropy = 0.699</text>\n<text text-anchor=\"middle\" x=\"1872\" y=\"-855.8\" font-family=\"Helvetica,sans-Serif\" font-size=\"14.00\">samples = 577</text>\n<text text-anchor=\"middle\" x=\"1872\" y=\"-840.8\" font-family=\"Helvetica,sans-Serif\" font-size=\"14.00\">value = [468, 109]</text>\n<text text-anchor=\"middle\" x=\"1872\" y=\"-825.8\" font-family=\"Helvetica,sans-Serif\" font-size=\"14.00\">class = Died</text>\n</g>\n<!-- 0&#45;&gt;1 -->\n<g id=\"edge1\" class=\"edge\">\n<title>0-&gt;1</title>\n<path fill=\"none\" stroke=\"black\" d=\"M2116.31,-951.82C2066.58,-933.23 1999.36,-908.11 1948.02,-888.92\"/>\n<polygon fill=\"black\" stroke=\"black\" points=\"1949.33,-885.67 1938.74,-885.45 1946.88,-892.23 1949.33,-885.67\"/>\n<text text-anchor=\"middle\" x=\"1947.69\" y=\"-903.96\" font-family=\"Helvetica,sans-Serif\" font-size=\"14.00\">True</text>\n</g>\n<!-- 66 -->\n<g id=\"node67\" class=\"node\">\n<title>66</title>\n<polygon fill=\"#7ebfee\" stroke=\"black\" points=\"2570,-901 2448,-901 2448,-818 2570,-818 2570,-901\"/>\n<text text-anchor=\"middle\" x=\"2509\" y=\"-885.8\" font-family=\"Helvetica,sans-Serif\" font-size=\"14.00\">Pclass &lt;= 2.5</text>\n<text text-anchor=\"middle\" x=\"2509\" y=\"-870.8\" font-family=\"Helvetica,sans-Serif\" font-size=\"14.00\">entropy = 0.824</text>\n<text text-anchor=\"middle\" x=\"2509\" y=\"-855.8\" font-family=\"Helvetica,sans-Serif\" font-size=\"14.00\">samples = 314</text>\n<text text-anchor=\"middle\" x=\"2509\" y=\"-840.8\" font-family=\"Helvetica,sans-Serif\" font-size=\"14.00\">value = [81, 233]</text>\n<text text-anchor=\"middle\" x=\"2509\" y=\"-825.8\" font-family=\"Helvetica,sans-Serif\" font-size=\"14.00\">class = Survived</text>\n</g>\n<!-- 0&#45;&gt;66 -->\n<g id=\"edge66\" class=\"edge\">\n<title>0-&gt;66</title>\n<path fill=\"none\" stroke=\"black\" d=\"M2253.71,-952.69C2307.61,-933.22 2382.41,-906.21 2437.11,-886.46\"/>\n<polygon fill=\"black\" stroke=\"black\" points=\"2438.13,-889.81 2446.34,-883.13 2435.75,-883.23 2438.13,-889.81\"/>\n<text text-anchor=\"middle\" x=\"2437.14\" y=\"-901.54\" font-family=\"Helvetica,sans-Serif\" font-size=\"14.00\">False</text>\n</g>\n<!-- 2 -->\n<g id=\"node3\" class=\"node\">\n<title>2</title>\n<polygon fill=\"#e99457\" stroke=\"black\" points=\"1001,-782 879,-782 879,-699 1001,-699 1001,-782\"/>\n<text text-anchor=\"middle\" x=\"940\" y=\"-766.8\" font-family=\"Helvetica,sans-Serif\" font-size=\"14.00\">Age &lt;= 13.5</text>\n<text text-anchor=\"middle\" x=\"940\" y=\"-751.8\" font-family=\"Helvetica,sans-Serif\" font-size=\"14.00\">entropy = 0.558</text>\n<text text-anchor=\"middle\" x=\"940\" y=\"-736.8\" font-family=\"Helvetica,sans-Serif\" font-size=\"14.00\">samples = 415</text>\n<text text-anchor=\"middle\" x=\"940\" y=\"-721.8\" font-family=\"Helvetica,sans-Serif\" font-size=\"14.00\">value = [361, 54]</text>\n<text text-anchor=\"middle\" x=\"940\" y=\"-706.8\" font-family=\"Helvetica,sans-Serif\" font-size=\"14.00\">class = Died</text>\n</g>\n<!-- 1&#45;&gt;2 -->\n<g id=\"edge2\" class=\"edge\">\n<title>1-&gt;2</title>\n<path fill=\"none\" stroke=\"black\" d=\"M1806.83,-850.32C1638.28,-829.16 1188.82,-772.74 1012.46,-750.6\"/>\n<polygon fill=\"black\" stroke=\"black\" points=\"1013.1,-747.15 1002.75,-749.38 1012.23,-754.1 1013.1,-747.15\"/>\n</g>\n<!-- 43 -->\n<g id=\"node44\" class=\"node\">\n<title>43</title>\n<polygon fill=\"#f2c29f\" stroke=\"black\" points=\"1933,-782 1811,-782 1811,-699 1933,-699 1933,-782\"/>\n<text text-anchor=\"middle\" x=\"1872\" y=\"-766.8\" font-family=\"Helvetica,sans-Serif\" font-size=\"14.00\">SibSp &lt;= 2.5</text>\n<text text-anchor=\"middle\" x=\"1872\" y=\"-751.8\" font-family=\"Helvetica,sans-Serif\" font-size=\"14.00\">entropy = 0.924</text>\n<text text-anchor=\"middle\" x=\"1872\" y=\"-736.8\" font-family=\"Helvetica,sans-Serif\" font-size=\"14.00\">samples = 162</text>\n<text text-anchor=\"middle\" x=\"1872\" y=\"-721.8\" font-family=\"Helvetica,sans-Serif\" font-size=\"14.00\">value = [107, 55]</text>\n<text text-anchor=\"middle\" x=\"1872\" y=\"-706.8\" font-family=\"Helvetica,sans-Serif\" font-size=\"14.00\">class = Died</text>\n</g>\n<!-- 1&#45;&gt;43 -->\n<g id=\"edge43\" class=\"edge\">\n<title>1-&gt;43</title>\n<path fill=\"none\" stroke=\"black\" d=\"M1872,-817.58C1872,-809.79 1872,-801.53 1872,-793.45\"/>\n<polygon fill=\"black\" stroke=\"black\" points=\"1875.5,-793.71 1872,-783.71 1868.5,-793.71 1875.5,-793.71\"/>\n</g>\n<!-- 3 -->\n<g id=\"node4\" class=\"node\">\n<title>3</title>\n<polygon fill=\"#57ace9\" stroke=\"black\" points=\"635,-663 515,-663 515,-580 635,-580 635,-663\"/>\n<text text-anchor=\"middle\" x=\"575\" y=\"-647.8\" font-family=\"Helvetica,sans-Serif\" font-size=\"14.00\">SibSp &lt;= 2.0</text>\n<text text-anchor=\"middle\" x=\"575\" y=\"-632.8\" font-family=\"Helvetica,sans-Serif\" font-size=\"14.00\">entropy = 0.567</text>\n<text text-anchor=\"middle\" x=\"575\" y=\"-617.8\" font-family=\"Helvetica,sans-Serif\" font-size=\"14.00\">samples = 15</text>\n<text text-anchor=\"middle\" x=\"575\" y=\"-602.8\" font-family=\"Helvetica,sans-Serif\" font-size=\"14.00\">value = [2, 13]</text>\n<text text-anchor=\"middle\" x=\"575\" y=\"-587.8\" font-family=\"Helvetica,sans-Serif\" font-size=\"14.00\">class = Survived</text>\n</g>\n<!-- 2&#45;&gt;3 -->\n<g id=\"edge3\" class=\"edge\">\n<title>2-&gt;3</title>\n<path fill=\"none\" stroke=\"black\" d=\"M878.91,-719.92C814.66,-699.32 713.68,-666.95 645.95,-645.24\"/>\n<polygon fill=\"black\" stroke=\"black\" points=\"647.41,-642.04 636.82,-642.32 645.28,-648.7 647.41,-642.04\"/>\n</g>\n<!-- 10 -->\n<g id=\"node11\" class=\"node\">\n<title>10</title>\n<polygon fill=\"#e88f50\" stroke=\"black\" points=\"1012.5,-663 867.5,-663 867.5,-580 1012.5,-580 1012.5,-663\"/>\n<text text-anchor=\"middle\" x=\"940\" y=\"-647.8\" font-family=\"Helvetica,sans-Serif\" font-size=\"14.00\">Embarked_C &lt;= 0.5</text>\n<text text-anchor=\"middle\" x=\"940\" y=\"-632.8\" font-family=\"Helvetica,sans-Serif\" font-size=\"14.00\">entropy = 0.477</text>\n<text text-anchor=\"middle\" x=\"940\" y=\"-617.8\" font-family=\"Helvetica,sans-Serif\" font-size=\"14.00\">samples = 400</text>\n<text text-anchor=\"middle\" x=\"940\" y=\"-602.8\" font-family=\"Helvetica,sans-Serif\" font-size=\"14.00\">value = [359, 41]</text>\n<text text-anchor=\"middle\" x=\"940\" y=\"-587.8\" font-family=\"Helvetica,sans-Serif\" font-size=\"14.00\">class = Died</text>\n</g>\n<!-- 2&#45;&gt;10 -->\n<g id=\"edge10\" class=\"edge\">\n<title>2-&gt;10</title>\n<path fill=\"none\" stroke=\"black\" d=\"M940,-698.58C940,-690.79 940,-682.53 940,-674.45\"/>\n<polygon fill=\"black\" stroke=\"black\" points=\"943.5,-674.71 940,-664.71 936.5,-674.71 943.5,-674.71\"/>\n</g>\n<!-- 4 -->\n<g id=\"node5\" class=\"node\">\n<title>4</title>\n<polygon fill=\"#48a5e7\" stroke=\"black\" points=\"436,-544 316,-544 316,-461 436,-461 436,-544\"/>\n<text text-anchor=\"middle\" x=\"376\" y=\"-528.8\" font-family=\"Helvetica,sans-Serif\" font-size=\"14.00\">Parch &lt;= 0.5</text>\n<text text-anchor=\"middle\" x=\"376\" y=\"-513.8\" font-family=\"Helvetica,sans-Serif\" font-size=\"14.00\">entropy = 0.371</text>\n<text text-anchor=\"middle\" x=\"376\" y=\"-498.8\" font-family=\"Helvetica,sans-Serif\" font-size=\"14.00\">samples = 14</text>\n<text text-anchor=\"middle\" x=\"376\" y=\"-483.8\" font-family=\"Helvetica,sans-Serif\" font-size=\"14.00\">value = [1, 13]</text>\n<text text-anchor=\"middle\" x=\"376\" y=\"-468.8\" font-family=\"Helvetica,sans-Serif\" font-size=\"14.00\">class = Survived</text>\n</g>\n<!-- 3&#45;&gt;4 -->\n<g id=\"edge4\" class=\"edge\">\n<title>3-&gt;4</title>\n<path fill=\"none\" stroke=\"black\" d=\"M514.75,-585.08C493.13,-572.37 468.56,-557.92 446.17,-544.75\"/>\n<polygon fill=\"black\" stroke=\"black\" points=\"448.08,-541.82 437.69,-539.77 444.54,-547.86 448.08,-541.82\"/>\n</g>\n<!-- 9 -->\n<g id=\"node10\" class=\"node\">\n<title>9</title>\n<polygon fill=\"#e58139\" stroke=\"black\" points=\"625,-536.5 525,-536.5 525,-468.5 625,-468.5 625,-536.5\"/>\n<text text-anchor=\"middle\" x=\"575\" y=\"-521.3\" font-family=\"Helvetica,sans-Serif\" font-size=\"14.00\">entropy = 0.0</text>\n<text text-anchor=\"middle\" x=\"575\" y=\"-506.3\" font-family=\"Helvetica,sans-Serif\" font-size=\"14.00\">samples = 1</text>\n<text text-anchor=\"middle\" x=\"575\" y=\"-491.3\" font-family=\"Helvetica,sans-Serif\" font-size=\"14.00\">value = [1, 0]</text>\n<text text-anchor=\"middle\" x=\"575\" y=\"-476.3\" font-family=\"Helvetica,sans-Serif\" font-size=\"14.00\">class = Died</text>\n</g>\n<!-- 3&#45;&gt;9 -->\n<g id=\"edge9\" class=\"edge\">\n<title>3-&gt;9</title>\n<path fill=\"none\" stroke=\"black\" d=\"M575,-579.58C575,-569.43 575,-558.5 575,-548.18\"/>\n<polygon fill=\"black\" stroke=\"black\" points=\"578.5,-548.37 575,-538.37 571.5,-548.37 578.5,-548.37\"/>\n</g>\n<!-- 5 -->\n<g id=\"node6\" class=\"node\">\n<title>5</title>\n<polygon fill=\"#ffffff\" stroke=\"black\" points=\"239,-425 139,-425 139,-342 239,-342 239,-425\"/>\n<text text-anchor=\"middle\" x=\"189\" y=\"-409.8\" font-family=\"Helvetica,sans-Serif\" font-size=\"14.00\">Age &lt;= 11.5</text>\n<text text-anchor=\"middle\" x=\"189\" y=\"-394.8\" font-family=\"Helvetica,sans-Serif\" font-size=\"14.00\">entropy = 1.0</text>\n<text text-anchor=\"middle\" x=\"189\" y=\"-379.8\" font-family=\"Helvetica,sans-Serif\" font-size=\"14.00\">samples = 2</text>\n<text text-anchor=\"middle\" x=\"189\" y=\"-364.8\" font-family=\"Helvetica,sans-Serif\" font-size=\"14.00\">value = [1, 1]</text>\n<text text-anchor=\"middle\" x=\"189\" y=\"-349.8\" font-family=\"Helvetica,sans-Serif\" font-size=\"14.00\">class = Died</text>\n</g>\n<!-- 4&#45;&gt;5 -->\n<g id=\"edge5\" class=\"edge\">\n<title>4-&gt;5</title>\n<path fill=\"none\" stroke=\"black\" d=\"M315.54,-463.68C294.17,-450.3 270.15,-435.27 248.83,-421.93\"/>\n<polygon fill=\"black\" stroke=\"black\" points=\"250.85,-419.07 240.52,-416.73 247.14,-425.01 250.85,-419.07\"/>\n</g>\n<!-- 8 -->\n<g id=\"node9\" class=\"node\">\n<title>8</title>\n<polygon fill=\"#399de5\" stroke=\"black\" points=\"436,-417.5 316,-417.5 316,-349.5 436,-349.5 436,-417.5\"/>\n<text text-anchor=\"middle\" x=\"376\" y=\"-402.3\" font-family=\"Helvetica,sans-Serif\" font-size=\"14.00\">entropy = 0.0</text>\n<text text-anchor=\"middle\" x=\"376\" y=\"-387.3\" font-family=\"Helvetica,sans-Serif\" font-size=\"14.00\">samples = 12</text>\n<text text-anchor=\"middle\" x=\"376\" y=\"-372.3\" font-family=\"Helvetica,sans-Serif\" font-size=\"14.00\">value = [0, 12]</text>\n<text text-anchor=\"middle\" x=\"376\" y=\"-357.3\" font-family=\"Helvetica,sans-Serif\" font-size=\"14.00\">class = Survived</text>\n</g>\n<!-- 4&#45;&gt;8 -->\n<g id=\"edge8\" class=\"edge\">\n<title>4-&gt;8</title>\n<path fill=\"none\" stroke=\"black\" d=\"M376,-460.58C376,-450.43 376,-439.5 376,-429.18\"/>\n<polygon fill=\"black\" stroke=\"black\" points=\"379.5,-429.37 376,-419.37 372.5,-429.37 379.5,-429.37\"/>\n</g>\n<!-- 6 -->\n<g id=\"node7\" class=\"node\">\n<title>6</title>\n<polygon fill=\"#e58139\" stroke=\"black\" points=\"111,-298.5 11,-298.5 11,-230.5 111,-230.5 111,-298.5\"/>\n<text text-anchor=\"middle\" x=\"61\" y=\"-283.3\" font-family=\"Helvetica,sans-Serif\" font-size=\"14.00\">entropy = 0.0</text>\n<text text-anchor=\"middle\" x=\"61\" y=\"-268.3\" font-family=\"Helvetica,sans-Serif\" font-size=\"14.00\">samples = 1</text>\n<text text-anchor=\"middle\" x=\"61\" y=\"-253.3\" font-family=\"Helvetica,sans-Serif\" font-size=\"14.00\">value = [1, 0]</text>\n<text text-anchor=\"middle\" x=\"61\" y=\"-238.3\" font-family=\"Helvetica,sans-Serif\" font-size=\"14.00\">class = Died</text>\n</g>\n<!-- 5&#45;&gt;6 -->\n<g id=\"edge6\" class=\"edge\">\n<title>5-&gt;6</title>\n<path fill=\"none\" stroke=\"black\" d=\"M144.23,-341.58C131.81,-330.23 118.33,-317.9 105.91,-306.55\"/>\n<polygon fill=\"black\" stroke=\"black\" points=\"108.36,-304.05 98.61,-299.88 103.63,-309.21 108.36,-304.05\"/>\n</g>\n<!-- 7 -->\n<g id=\"node8\" class=\"node\">\n<title>7</title>\n<polygon fill=\"#399de5\" stroke=\"black\" points=\"249,-298.5 129,-298.5 129,-230.5 249,-230.5 249,-298.5\"/>\n<text text-anchor=\"middle\" x=\"189\" y=\"-283.3\" font-family=\"Helvetica,sans-Serif\" font-size=\"14.00\">entropy = 0.0</text>\n<text text-anchor=\"middle\" x=\"189\" y=\"-268.3\" font-family=\"Helvetica,sans-Serif\" font-size=\"14.00\">samples = 1</text>\n<text text-anchor=\"middle\" x=\"189\" y=\"-253.3\" font-family=\"Helvetica,sans-Serif\" font-size=\"14.00\">value = [0, 1]</text>\n<text text-anchor=\"middle\" x=\"189\" y=\"-238.3\" font-family=\"Helvetica,sans-Serif\" font-size=\"14.00\">class = Survived</text>\n</g>\n<!-- 5&#45;&gt;7 -->\n<g id=\"edge7\" class=\"edge\">\n<title>5-&gt;7</title>\n<path fill=\"none\" stroke=\"black\" d=\"M189,-341.58C189,-331.43 189,-320.5 189,-310.18\"/>\n<polygon fill=\"black\" stroke=\"black\" points=\"192.5,-310.37 189,-300.37 185.5,-310.37 192.5,-310.37\"/>\n</g>\n<!-- 11 -->\n<g id=\"node12\" class=\"node\">\n<title>11</title>\n<polygon fill=\"#e88d4d\" stroke=\"black\" points=\"835,-544 713,-544 713,-461 835,-461 835,-544\"/>\n<text text-anchor=\"middle\" x=\"774\" y=\"-528.8\" font-family=\"Helvetica,sans-Serif\" font-size=\"14.00\">Fare &lt;= 13.25</text>\n<text text-anchor=\"middle\" x=\"774\" y=\"-513.8\" font-family=\"Helvetica,sans-Serif\" font-size=\"14.00\">entropy = 0.437</text>\n<text text-anchor=\"middle\" x=\"774\" y=\"-498.8\" font-family=\"Helvetica,sans-Serif\" font-size=\"14.00\">samples = 355</text>\n<text text-anchor=\"middle\" x=\"774\" y=\"-483.8\" font-family=\"Helvetica,sans-Serif\" font-size=\"14.00\">value = [323, 32]</text>\n<text text-anchor=\"middle\" x=\"774\" y=\"-468.8\" font-family=\"Helvetica,sans-Serif\" font-size=\"14.00\">class = Died</text>\n</g>\n<!-- 10&#45;&gt;11 -->\n<g id=\"edge11\" class=\"edge\">\n<title>10-&gt;11</title>\n<path fill=\"none\" stroke=\"black\" d=\"M881.94,-579.58C868.8,-570.32 854.74,-560.41 841.25,-550.9\"/>\n<polygon fill=\"black\" stroke=\"black\" points=\"843.45,-548.17 833.26,-545.27 839.42,-553.89 843.45,-548.17\"/>\n</g>\n<!-- 32 -->\n<g id=\"node33\" class=\"node\">\n<title>32</title>\n<polygon fill=\"#eca06a\" stroke=\"black\" points=\"1212,-544 1096,-544 1096,-461 1212,-461 1212,-544\"/>\n<text text-anchor=\"middle\" x=\"1154\" y=\"-528.8\" font-family=\"Helvetica,sans-Serif\" font-size=\"14.00\">Fare &lt;= 15.148</text>\n<text text-anchor=\"middle\" x=\"1154\" y=\"-513.8\" font-family=\"Helvetica,sans-Serif\" font-size=\"14.00\">entropy = 0.722</text>\n<text text-anchor=\"middle\" x=\"1154\" y=\"-498.8\" font-family=\"Helvetica,sans-Serif\" font-size=\"14.00\">samples = 45</text>\n<text text-anchor=\"middle\" x=\"1154\" y=\"-483.8\" font-family=\"Helvetica,sans-Serif\" font-size=\"14.00\">value = [36, 9]</text>\n<text text-anchor=\"middle\" x=\"1154\" y=\"-468.8\" font-family=\"Helvetica,sans-Serif\" font-size=\"14.00\">class = Died</text>\n</g>\n<!-- 10&#45;&gt;32 -->\n<g id=\"edge32\" class=\"edge\">\n<title>10-&gt;32</title>\n<path fill=\"none\" stroke=\"black\" d=\"M1012.75,-580.73C1036.39,-567.8 1062.53,-553.51 1085.83,-540.77\"/>\n<polygon fill=\"black\" stroke=\"black\" points=\"1087.2,-544.01 1094.29,-536.14 1083.84,-537.87 1087.2,-544.01\"/>\n</g>\n<!-- 12 -->\n<g id=\"node13\" class=\"node\">\n<title>12</title>\n<polygon fill=\"#e88f50\" stroke=\"black\" points=\"596,-425 474,-425 474,-342 596,-342 596,-425\"/>\n<text text-anchor=\"middle\" x=\"535\" y=\"-409.8\" font-family=\"Helvetica,sans-Serif\" font-size=\"14.00\">Fare &lt;= 7.91</text>\n<text text-anchor=\"middle\" x=\"535\" y=\"-394.8\" font-family=\"Helvetica,sans-Serif\" font-size=\"14.00\">entropy = 0.479</text>\n<text text-anchor=\"middle\" x=\"535\" y=\"-379.8\" font-family=\"Helvetica,sans-Serif\" font-size=\"14.00\">samples = 291</text>\n<text text-anchor=\"middle\" x=\"535\" y=\"-364.8\" font-family=\"Helvetica,sans-Serif\" font-size=\"14.00\">value = [261, 30]</text>\n<text text-anchor=\"middle\" x=\"535\" y=\"-349.8\" font-family=\"Helvetica,sans-Serif\" font-size=\"14.00\">class = Died</text>\n</g>\n<!-- 11&#45;&gt;12 -->\n<g id=\"edge12\" class=\"edge\">\n<title>11-&gt;12</title>\n<path fill=\"none\" stroke=\"black\" d=\"M712.76,-471.52C680.42,-455.69 640.55,-436.17 606.77,-419.63\"/>\n<polygon fill=\"black\" stroke=\"black\" points=\"608.37,-416.52 597.85,-415.27 605.3,-422.81 608.37,-416.52\"/>\n</g>\n<!-- 25 -->\n<g id=\"node26\" class=\"node\">\n<title>25</title>\n<polygon fill=\"#e6853f\" stroke=\"black\" points=\"832,-425 716,-425 716,-342 832,-342 832,-425\"/>\n<text text-anchor=\"middle\" x=\"774\" y=\"-409.8\" font-family=\"Helvetica,sans-Serif\" font-size=\"14.00\">Fare &lt;= 22.887</text>\n<text text-anchor=\"middle\" x=\"774\" y=\"-394.8\" font-family=\"Helvetica,sans-Serif\" font-size=\"14.00\">entropy = 0.201</text>\n<text text-anchor=\"middle\" x=\"774\" y=\"-379.8\" font-family=\"Helvetica,sans-Serif\" font-size=\"14.00\">samples = 64</text>\n<text text-anchor=\"middle\" x=\"774\" y=\"-364.8\" font-family=\"Helvetica,sans-Serif\" font-size=\"14.00\">value = [62, 2]</text>\n<text text-anchor=\"middle\" x=\"774\" y=\"-349.8\" font-family=\"Helvetica,sans-Serif\" font-size=\"14.00\">class = Died</text>\n</g>\n<!-- 11&#45;&gt;25 -->\n<g id=\"edge25\" class=\"edge\">\n<title>11-&gt;25</title>\n<path fill=\"none\" stroke=\"black\" d=\"M774,-460.58C774,-452.79 774,-444.53 774,-436.45\"/>\n<polygon fill=\"black\" stroke=\"black\" points=\"777.5,-436.71 774,-426.71 770.5,-436.71 777.5,-436.71\"/>\n</g>\n<!-- 13 -->\n<g id=\"node14\" class=\"node\">\n<title>13</title>\n<polygon fill=\"#e78a47\" stroke=\"black\" points=\"389,-306 267,-306 267,-223 389,-223 389,-306\"/>\n<text text-anchor=\"middle\" x=\"328\" y=\"-290.8\" font-family=\"Helvetica,sans-Serif\" font-size=\"14.00\">Fare &lt;= 7.865</text>\n<text text-anchor=\"middle\" x=\"328\" y=\"-275.8\" font-family=\"Helvetica,sans-Serif\" font-size=\"14.00\">entropy = 0.353</text>\n<text text-anchor=\"middle\" x=\"328\" y=\"-260.8\" font-family=\"Helvetica,sans-Serif\" font-size=\"14.00\">samples = 150</text>\n<text text-anchor=\"middle\" x=\"328\" y=\"-245.8\" font-family=\"Helvetica,sans-Serif\" font-size=\"14.00\">value = [140, 10]</text>\n<text text-anchor=\"middle\" x=\"328\" y=\"-230.8\" font-family=\"Helvetica,sans-Serif\" font-size=\"14.00\">class = Died</text>\n</g>\n<!-- 12&#45;&gt;13 -->\n<g id=\"edge13\" class=\"edge\">\n<title>12-&gt;13</title>\n<path fill=\"none\" stroke=\"black\" d=\"M473.73,-347.87C450.37,-334.66 423.53,-319.5 399.31,-305.81\"/>\n<polygon fill=\"black\" stroke=\"black\" points=\"401.21,-302.86 390.78,-300.99 397.77,-308.95 401.21,-302.86\"/>\n</g>\n<!-- 18 -->\n<g id=\"node19\" class=\"node\">\n<title>18</title>\n<polygon fill=\"#e9965a\" stroke=\"black\" points=\"596,-306 474,-306 474,-223 596,-223 596,-306\"/>\n<text text-anchor=\"middle\" x=\"535\" y=\"-290.8\" font-family=\"Helvetica,sans-Serif\" font-size=\"14.00\">Fare &lt;= 7.988</text>\n<text text-anchor=\"middle\" x=\"535\" y=\"-275.8\" font-family=\"Helvetica,sans-Serif\" font-size=\"14.00\">entropy = 0.589</text>\n<text text-anchor=\"middle\" x=\"535\" y=\"-260.8\" font-family=\"Helvetica,sans-Serif\" font-size=\"14.00\">samples = 141</text>\n<text text-anchor=\"middle\" x=\"535\" y=\"-245.8\" font-family=\"Helvetica,sans-Serif\" font-size=\"14.00\">value = [121, 20]</text>\n<text text-anchor=\"middle\" x=\"535\" y=\"-230.8\" font-family=\"Helvetica,sans-Serif\" font-size=\"14.00\">class = Died</text>\n</g>\n<!-- 12&#45;&gt;18 -->\n<g id=\"edge18\" class=\"edge\">\n<title>12-&gt;18</title>\n<path fill=\"none\" stroke=\"black\" d=\"M535,-341.58C535,-333.79 535,-325.53 535,-317.45\"/>\n<polygon fill=\"black\" stroke=\"black\" points=\"538.5,-317.71 535,-307.71 531.5,-317.71 538.5,-317.71\"/>\n</g>\n<!-- 14 -->\n<g id=\"node15\" class=\"node\">\n<title>14</title>\n<polygon fill=\"#e78d4c\" stroke=\"black\" points=\"247,-187 125,-187 125,-104 247,-104 247,-187\"/>\n<text text-anchor=\"middle\" x=\"186\" y=\"-171.8\" font-family=\"Helvetica,sans-Serif\" font-size=\"14.00\">Age &lt;= 32.5</text>\n<text text-anchor=\"middle\" x=\"186\" y=\"-156.8\" font-family=\"Helvetica,sans-Serif\" font-size=\"14.00\">entropy = 0.424</text>\n<text text-anchor=\"middle\" x=\"186\" y=\"-141.8\" font-family=\"Helvetica,sans-Serif\" font-size=\"14.00\">samples = 116</text>\n<text text-anchor=\"middle\" x=\"186\" y=\"-126.8\" font-family=\"Helvetica,sans-Serif\" font-size=\"14.00\">value = [106, 10]</text>\n<text text-anchor=\"middle\" x=\"186\" y=\"-111.8\" font-family=\"Helvetica,sans-Serif\" font-size=\"14.00\">class = Died</text>\n</g>\n<!-- 13&#45;&gt;14 -->\n<g id=\"edge14\" class=\"edge\">\n<title>13-&gt;14</title>\n<path fill=\"none\" stroke=\"black\" d=\"M278.34,-222.58C267.25,-213.44 255.39,-203.67 244,-194.29\"/>\n<polygon fill=\"black\" stroke=\"black\" points=\"246.51,-191.82 236.56,-188.16 242.06,-197.22 246.51,-191.82\"/>\n</g>\n<!-- 17 -->\n<g id=\"node18\" class=\"node\">\n<title>17</title>\n<polygon fill=\"#e58139\" stroke=\"black\" points=\"370.5,-179.5 265.5,-179.5 265.5,-111.5 370.5,-111.5 370.5,-179.5\"/>\n<text text-anchor=\"middle\" x=\"318\" y=\"-164.3\" font-family=\"Helvetica,sans-Serif\" font-size=\"14.00\">entropy = 0.0</text>\n<text text-anchor=\"middle\" x=\"318\" y=\"-149.3\" font-family=\"Helvetica,sans-Serif\" font-size=\"14.00\">samples = 34</text>\n<text text-anchor=\"middle\" x=\"318\" y=\"-134.3\" font-family=\"Helvetica,sans-Serif\" font-size=\"14.00\">value = [34, 0]</text>\n<text text-anchor=\"middle\" x=\"318\" y=\"-119.3\" font-family=\"Helvetica,sans-Serif\" font-size=\"14.00\">class = Died</text>\n</g>\n<!-- 13&#45;&gt;17 -->\n<g id=\"edge17\" class=\"edge\">\n<title>13-&gt;17</title>\n<path fill=\"none\" stroke=\"black\" d=\"M324.5,-222.58C323.63,-212.43 322.7,-201.5 321.82,-191.18\"/>\n<polygon fill=\"black\" stroke=\"black\" points=\"325.32,-191.03 320.98,-181.37 318.34,-191.63 325.32,-191.03\"/>\n</g>\n<!-- 15 -->\n<g id=\"node16\" class=\"node\">\n<title>15</title>\n<polygon fill=\"#e89152\" stroke=\"black\" points=\"116,-68 0,-68 0,0 116,0 116,-68\"/>\n<text text-anchor=\"middle\" x=\"58\" y=\"-52.8\" font-family=\"Helvetica,sans-Serif\" font-size=\"14.00\">entropy = 0.507</text>\n<text text-anchor=\"middle\" x=\"58\" y=\"-37.8\" font-family=\"Helvetica,sans-Serif\" font-size=\"14.00\">samples = 89</text>\n<text text-anchor=\"middle\" x=\"58\" y=\"-22.8\" font-family=\"Helvetica,sans-Serif\" font-size=\"14.00\">value = [79, 10]</text>\n<text text-anchor=\"middle\" x=\"58\" y=\"-7.8\" font-family=\"Helvetica,sans-Serif\" font-size=\"14.00\">class = Died</text>\n</g>\n<!-- 14&#45;&gt;15 -->\n<g id=\"edge15\" class=\"edge\">\n<title>14-&gt;15</title>\n<path fill=\"none\" stroke=\"black\" d=\"M138.34,-103.73C127.57,-94.51 116.14,-84.74 105.38,-75.53\"/>\n<polygon fill=\"black\" stroke=\"black\" points=\"107.95,-73.12 98.08,-69.28 103.4,-78.44 107.95,-73.12\"/>\n</g>\n<!-- 16 -->\n<g id=\"node17\" class=\"node\">\n<title>16</title>\n<polygon fill=\"#e58139\" stroke=\"black\" points=\"239.5,-68 134.5,-68 134.5,0 239.5,0 239.5,-68\"/>\n<text text-anchor=\"middle\" x=\"187\" y=\"-52.8\" font-family=\"Helvetica,sans-Serif\" font-size=\"14.00\">entropy = 0.0</text>\n<text text-anchor=\"middle\" x=\"187\" y=\"-37.8\" font-family=\"Helvetica,sans-Serif\" font-size=\"14.00\">samples = 27</text>\n<text text-anchor=\"middle\" x=\"187\" y=\"-22.8\" font-family=\"Helvetica,sans-Serif\" font-size=\"14.00\">value = [27, 0]</text>\n<text text-anchor=\"middle\" x=\"187\" y=\"-7.8\" font-family=\"Helvetica,sans-Serif\" font-size=\"14.00\">class = Died</text>\n</g>\n<!-- 14&#45;&gt;16 -->\n<g id=\"edge16\" class=\"edge\">\n<title>14-&gt;16</title>\n<path fill=\"none\" stroke=\"black\" d=\"M186.37,-103.73C186.44,-95.88 186.52,-87.63 186.59,-79.67\"/>\n<polygon fill=\"black\" stroke=\"black\" points=\"190.09,-79.84 186.68,-69.81 183.09,-79.78 190.09,-79.84\"/>\n</g>\n<!-- 19 -->\n<g id=\"node20\" class=\"node\">\n<title>19</title>\n<polygon fill=\"#f5d0b5\" stroke=\"black\" points=\"505,-187 389,-187 389,-104 505,-104 505,-187\"/>\n<text text-anchor=\"middle\" x=\"447\" y=\"-171.8\" font-family=\"Helvetica,sans-Serif\" font-size=\"14.00\">SibSp &lt;= 1.5</text>\n<text text-anchor=\"middle\" x=\"447\" y=\"-156.8\" font-family=\"Helvetica,sans-Serif\" font-size=\"14.00\">entropy = 0.961</text>\n<text text-anchor=\"middle\" x=\"447\" y=\"-141.8\" font-family=\"Helvetica,sans-Serif\" font-size=\"14.00\">samples = 13</text>\n<text text-anchor=\"middle\" x=\"447\" y=\"-126.8\" font-family=\"Helvetica,sans-Serif\" font-size=\"14.00\">value = [8, 5]</text>\n<text text-anchor=\"middle\" x=\"447\" y=\"-111.8\" font-family=\"Helvetica,sans-Serif\" font-size=\"14.00\">class = Died</text>\n</g>\n<!-- 18&#45;&gt;19 -->\n<g id=\"edge19\" class=\"edge\">\n<title>18-&gt;19</title>\n<path fill=\"none\" stroke=\"black\" d=\"M504.22,-222.58C497.82,-214.07 491.01,-205.01 484.4,-196.23\"/>\n<polygon fill=\"black\" stroke=\"black\" points=\"487.33,-194.3 478.52,-188.41 481.74,-198.51 487.33,-194.3\"/>\n</g>\n<!-- 22 -->\n<g id=\"node23\" class=\"node\">\n<title>22</title>\n<polygon fill=\"#e89253\" stroke=\"black\" points=\"645,-187 523,-187 523,-104 645,-104 645,-187\"/>\n<text text-anchor=\"middle\" x=\"584\" y=\"-171.8\" font-family=\"Helvetica,sans-Serif\" font-size=\"14.00\">Age &lt;= 19.5</text>\n<text text-anchor=\"middle\" x=\"584\" y=\"-156.8\" font-family=\"Helvetica,sans-Serif\" font-size=\"14.00\">entropy = 0.521</text>\n<text text-anchor=\"middle\" x=\"584\" y=\"-141.8\" font-family=\"Helvetica,sans-Serif\" font-size=\"14.00\">samples = 128</text>\n<text text-anchor=\"middle\" x=\"584\" y=\"-126.8\" font-family=\"Helvetica,sans-Serif\" font-size=\"14.00\">value = [113, 15]</text>\n<text text-anchor=\"middle\" x=\"584\" y=\"-111.8\" font-family=\"Helvetica,sans-Serif\" font-size=\"14.00\">class = Died</text>\n</g>\n<!-- 18&#45;&gt;22 -->\n<g id=\"edge22\" class=\"edge\">\n<title>18-&gt;22</title>\n<path fill=\"none\" stroke=\"black\" d=\"M552.14,-222.58C555.51,-214.52 559.1,-205.96 562.59,-197.61\"/>\n<polygon fill=\"black\" stroke=\"black\" points=\"565.74,-199.17 566.37,-188.6 559.28,-196.47 565.74,-199.17\"/>\n</g>\n<!-- 20 -->\n<g id=\"node21\" class=\"node\">\n<title>20</title>\n<polygon fill=\"#fbeade\" stroke=\"black\" points=\"377,-68 261,-68 261,0 377,0 377,-68\"/>\n<text text-anchor=\"middle\" x=\"319\" y=\"-52.8\" font-family=\"Helvetica,sans-Serif\" font-size=\"14.00\">entropy = 0.994</text>\n<text text-anchor=\"middle\" x=\"319\" y=\"-37.8\" font-family=\"Helvetica,sans-Serif\" font-size=\"14.00\">samples = 11</text>\n<text text-anchor=\"middle\" x=\"319\" y=\"-22.8\" font-family=\"Helvetica,sans-Serif\" font-size=\"14.00\">value = [6, 5]</text>\n<text text-anchor=\"middle\" x=\"319\" y=\"-7.8\" font-family=\"Helvetica,sans-Serif\" font-size=\"14.00\">class = Died</text>\n</g>\n<!-- 19&#45;&gt;20 -->\n<g id=\"edge20\" class=\"edge\">\n<title>19-&gt;20</title>\n<path fill=\"none\" stroke=\"black\" d=\"M399.34,-103.73C388.57,-94.51 377.14,-84.74 366.38,-75.53\"/>\n<polygon fill=\"black\" stroke=\"black\" points=\"368.95,-73.12 359.08,-69.28 364.4,-78.44 368.95,-73.12\"/>\n</g>\n<!-- 21 -->\n<g id=\"node22\" class=\"node\">\n<title>21</title>\n<polygon fill=\"#e58139\" stroke=\"black\" points=\"495,-68 395,-68 395,0 495,0 495,-68\"/>\n<text text-anchor=\"middle\" x=\"445\" y=\"-52.8\" font-family=\"Helvetica,sans-Serif\" font-size=\"14.00\">entropy = 0.0</text>\n<text text-anchor=\"middle\" x=\"445\" y=\"-37.8\" font-family=\"Helvetica,sans-Serif\" font-size=\"14.00\">samples = 2</text>\n<text text-anchor=\"middle\" x=\"445\" y=\"-22.8\" font-family=\"Helvetica,sans-Serif\" font-size=\"14.00\">value = [2, 0]</text>\n<text text-anchor=\"middle\" x=\"445\" y=\"-7.8\" font-family=\"Helvetica,sans-Serif\" font-size=\"14.00\">class = Died</text>\n</g>\n<!-- 19&#45;&gt;21 -->\n<g id=\"edge21\" class=\"edge\">\n<title>19-&gt;21</title>\n<path fill=\"none\" stroke=\"black\" d=\"M446.26,-103.73C446.11,-95.88 445.96,-87.63 445.82,-79.67\"/>\n<polygon fill=\"black\" stroke=\"black\" points=\"449.32,-79.75 445.64,-69.81 442.32,-79.88 449.32,-79.75\"/>\n</g>\n<!-- 23 -->\n<g id=\"node24\" class=\"node\">\n<title>23</title>\n<polygon fill=\"#eca06a\" stroke=\"black\" points=\"629,-68 513,-68 513,0 629,0 629,-68\"/>\n<text text-anchor=\"middle\" x=\"571\" y=\"-52.8\" font-family=\"Helvetica,sans-Serif\" font-size=\"14.00\">entropy = 0.722</text>\n<text text-anchor=\"middle\" x=\"571\" y=\"-37.8\" font-family=\"Helvetica,sans-Serif\" font-size=\"14.00\">samples = 20</text>\n<text text-anchor=\"middle\" x=\"571\" y=\"-22.8\" font-family=\"Helvetica,sans-Serif\" font-size=\"14.00\">value = [16, 4]</text>\n<text text-anchor=\"middle\" x=\"571\" y=\"-7.8\" font-family=\"Helvetica,sans-Serif\" font-size=\"14.00\">class = Died</text>\n</g>\n<!-- 22&#45;&gt;23 -->\n<g id=\"edge23\" class=\"edge\">\n<title>22-&gt;23</title>\n<path fill=\"none\" stroke=\"black\" d=\"M579.16,-103.73C578.23,-95.88 577.25,-87.63 576.3,-79.67\"/>\n<polygon fill=\"black\" stroke=\"black\" points=\"579.79,-79.32 575.13,-69.8 572.84,-80.15 579.79,-79.32\"/>\n</g>\n<!-- 24 -->\n<g id=\"node25\" class=\"node\">\n<title>24</title>\n<polygon fill=\"#e88f4f\" stroke=\"black\" points=\"763,-68 647,-68 647,0 763,0 763,-68\"/>\n<text text-anchor=\"middle\" x=\"705\" y=\"-52.8\" font-family=\"Helvetica,sans-Serif\" font-size=\"14.00\">entropy = 0.475</text>\n<text text-anchor=\"middle\" x=\"705\" y=\"-37.8\" font-family=\"Helvetica,sans-Serif\" font-size=\"14.00\">samples = 108</text>\n<text text-anchor=\"middle\" x=\"705\" y=\"-22.8\" font-family=\"Helvetica,sans-Serif\" font-size=\"14.00\">value = [97, 11]</text>\n<text text-anchor=\"middle\" x=\"705\" y=\"-7.8\" font-family=\"Helvetica,sans-Serif\" font-size=\"14.00\">class = Died</text>\n</g>\n<!-- 22&#45;&gt;24 -->\n<g id=\"edge24\" class=\"edge\">\n<title>22-&gt;24</title>\n<path fill=\"none\" stroke=\"black\" d=\"M629.06,-103.73C639.13,-94.61 649.83,-84.93 659.91,-75.81\"/>\n<polygon fill=\"black\" stroke=\"black\" points=\"662.01,-78.62 667.08,-69.32 657.32,-73.43 662.01,-78.62\"/>\n</g>\n<!-- 26 -->\n<g id=\"node27\" class=\"node\">\n<title>26</title>\n<polygon fill=\"#e58139\" stroke=\"black\" points=\"746.5,-298.5 641.5,-298.5 641.5,-230.5 746.5,-230.5 746.5,-298.5\"/>\n<text text-anchor=\"middle\" x=\"694\" y=\"-283.3\" font-family=\"Helvetica,sans-Serif\" font-size=\"14.00\">entropy = 0.0</text>\n<text text-anchor=\"middle\" x=\"694\" y=\"-268.3\" font-family=\"Helvetica,sans-Serif\" font-size=\"14.00\">samples = 37</text>\n<text text-anchor=\"middle\" x=\"694\" y=\"-253.3\" font-family=\"Helvetica,sans-Serif\" font-size=\"14.00\">value = [37, 0]</text>\n<text text-anchor=\"middle\" x=\"694\" y=\"-238.3\" font-family=\"Helvetica,sans-Serif\" font-size=\"14.00\">class = Died</text>\n</g>\n<!-- 25&#45;&gt;26 -->\n<g id=\"edge26\" class=\"edge\">\n<title>25-&gt;26</title>\n<path fill=\"none\" stroke=\"black\" d=\"M746.02,-341.58C738.63,-330.77 730.64,-319.09 723.19,-308.19\"/>\n<polygon fill=\"black\" stroke=\"black\" points=\"726.2,-306.39 717.67,-300.11 720.42,-310.34 726.2,-306.39\"/>\n</g>\n<!-- 27 -->\n<g id=\"node28\" class=\"node\">\n<title>27</title>\n<polygon fill=\"#e78b49\" stroke=\"black\" points=\"881,-306 765,-306 765,-223 881,-223 881,-306\"/>\n<text text-anchor=\"middle\" x=\"823\" y=\"-290.8\" font-family=\"Helvetica,sans-Serif\" font-size=\"14.00\">Fare &lt;= 23.35</text>\n<text text-anchor=\"middle\" x=\"823\" y=\"-275.8\" font-family=\"Helvetica,sans-Serif\" font-size=\"14.00\">entropy = 0.381</text>\n<text text-anchor=\"middle\" x=\"823\" y=\"-260.8\" font-family=\"Helvetica,sans-Serif\" font-size=\"14.00\">samples = 27</text>\n<text text-anchor=\"middle\" x=\"823\" y=\"-245.8\" font-family=\"Helvetica,sans-Serif\" font-size=\"14.00\">value = [25, 2]</text>\n<text text-anchor=\"middle\" x=\"823\" y=\"-230.8\" font-family=\"Helvetica,sans-Serif\" font-size=\"14.00\">class = Died</text>\n</g>\n<!-- 25&#45;&gt;27 -->\n<g id=\"edge27\" class=\"edge\">\n<title>25-&gt;27</title>\n<path fill=\"none\" stroke=\"black\" d=\"M791.14,-341.58C794.51,-333.52 798.1,-324.96 801.59,-316.61\"/>\n<polygon fill=\"black\" stroke=\"black\" points=\"804.74,-318.17 805.37,-307.6 798.28,-315.47 804.74,-318.17\"/>\n</g>\n<!-- 28 -->\n<g id=\"node29\" class=\"node\">\n<title>28</title>\n<polygon fill=\"#399de5\" stroke=\"black\" points=\"834,-179.5 714,-179.5 714,-111.5 834,-111.5 834,-179.5\"/>\n<text text-anchor=\"middle\" x=\"774\" y=\"-164.3\" font-family=\"Helvetica,sans-Serif\" font-size=\"14.00\">entropy = 0.0</text>\n<text text-anchor=\"middle\" x=\"774\" y=\"-149.3\" font-family=\"Helvetica,sans-Serif\" font-size=\"14.00\">samples = 1</text>\n<text text-anchor=\"middle\" x=\"774\" y=\"-134.3\" font-family=\"Helvetica,sans-Serif\" font-size=\"14.00\">value = [0, 1]</text>\n<text text-anchor=\"middle\" x=\"774\" y=\"-119.3\" font-family=\"Helvetica,sans-Serif\" font-size=\"14.00\">class = Survived</text>\n</g>\n<!-- 27&#45;&gt;28 -->\n<g id=\"edge28\" class=\"edge\">\n<title>27-&gt;28</title>\n<path fill=\"none\" stroke=\"black\" d=\"M805.86,-222.58C801.47,-212.1 796.74,-200.79 792.29,-190.18\"/>\n<polygon fill=\"black\" stroke=\"black\" points=\"795.65,-189.13 788.56,-181.26 789.19,-191.83 795.65,-189.13\"/>\n</g>\n<!-- 29 -->\n<g id=\"node30\" class=\"node\">\n<title>29</title>\n<polygon fill=\"#e68641\" stroke=\"black\" points=\"968,-187 852,-187 852,-104 968,-104 968,-187\"/>\n<text text-anchor=\"middle\" x=\"910\" y=\"-171.8\" font-family=\"Helvetica,sans-Serif\" font-size=\"14.00\">Age &lt;= 33.0</text>\n<text text-anchor=\"middle\" x=\"910\" y=\"-156.8\" font-family=\"Helvetica,sans-Serif\" font-size=\"14.00\">entropy = 0.235</text>\n<text text-anchor=\"middle\" x=\"910\" y=\"-141.8\" font-family=\"Helvetica,sans-Serif\" font-size=\"14.00\">samples = 26</text>\n<text text-anchor=\"middle\" x=\"910\" y=\"-126.8\" font-family=\"Helvetica,sans-Serif\" font-size=\"14.00\">value = [25, 1]</text>\n<text text-anchor=\"middle\" x=\"910\" y=\"-111.8\" font-family=\"Helvetica,sans-Serif\" font-size=\"14.00\">class = Died</text>\n</g>\n<!-- 27&#45;&gt;29 -->\n<g id=\"edge29\" class=\"edge\">\n<title>27-&gt;29</title>\n<path fill=\"none\" stroke=\"black\" d=\"M853.43,-222.58C859.76,-214.07 866.49,-205.01 873.02,-196.23\"/>\n<polygon fill=\"black\" stroke=\"black\" points=\"875.67,-198.53 878.83,-188.41 870.06,-194.35 875.67,-198.53\"/>\n</g>\n<!-- 30 -->\n<g id=\"node31\" class=\"node\">\n<title>30</title>\n<polygon fill=\"#e78c4b\" stroke=\"black\" points=\"897,-68 781,-68 781,0 897,0 897,-68\"/>\n<text text-anchor=\"middle\" x=\"839\" y=\"-52.8\" font-family=\"Helvetica,sans-Serif\" font-size=\"14.00\">entropy = 0.414</text>\n<text text-anchor=\"middle\" x=\"839\" y=\"-37.8\" font-family=\"Helvetica,sans-Serif\" font-size=\"14.00\">samples = 12</text>\n<text text-anchor=\"middle\" x=\"839\" y=\"-22.8\" font-family=\"Helvetica,sans-Serif\" font-size=\"14.00\">value = [11, 1]</text>\n<text text-anchor=\"middle\" x=\"839\" y=\"-7.8\" font-family=\"Helvetica,sans-Serif\" font-size=\"14.00\">class = Died</text>\n</g>\n<!-- 29&#45;&gt;30 -->\n<g id=\"edge30\" class=\"edge\">\n<title>29-&gt;30</title>\n<path fill=\"none\" stroke=\"black\" d=\"M883.56,-103.73C878.06,-95.24 872.25,-86.28 866.71,-77.73\"/>\n<polygon fill=\"black\" stroke=\"black\" points=\"869.79,-76.06 861.41,-69.57 863.92,-79.86 869.79,-76.06\"/>\n</g>\n<!-- 31 -->\n<g id=\"node32\" class=\"node\">\n<title>31</title>\n<polygon fill=\"#e58139\" stroke=\"black\" points=\"1020.5,-68 915.5,-68 915.5,0 1020.5,0 1020.5,-68\"/>\n<text text-anchor=\"middle\" x=\"968\" y=\"-52.8\" font-family=\"Helvetica,sans-Serif\" font-size=\"14.00\">entropy = 0.0</text>\n<text text-anchor=\"middle\" x=\"968\" y=\"-37.8\" font-family=\"Helvetica,sans-Serif\" font-size=\"14.00\">samples = 14</text>\n<text text-anchor=\"middle\" x=\"968\" y=\"-22.8\" font-family=\"Helvetica,sans-Serif\" font-size=\"14.00\">value = [14, 0]</text>\n<text text-anchor=\"middle\" x=\"968\" y=\"-7.8\" font-family=\"Helvetica,sans-Serif\" font-size=\"14.00\">class = Died</text>\n</g>\n<!-- 29&#45;&gt;31 -->\n<g id=\"edge31\" class=\"edge\">\n<title>29-&gt;31</title>\n<path fill=\"none\" stroke=\"black\" d=\"M931.6,-103.73C935.99,-95.43 940.63,-86.67 945.07,-78.28\"/>\n<polygon fill=\"black\" stroke=\"black\" points=\"948.07,-80.11 949.65,-69.64 941.88,-76.84 948.07,-80.11\"/>\n</g>\n<!-- 33 -->\n<g id=\"node34\" class=\"node\">\n<title>33</title>\n<polygon fill=\"#e99456\" stroke=\"black\" points=\"1212,-425 1096,-425 1096,-342 1212,-342 1212,-425\"/>\n<text text-anchor=\"middle\" x=\"1154\" y=\"-409.8\" font-family=\"Helvetica,sans-Serif\" font-size=\"14.00\">Age &lt;= 29.5</text>\n<text text-anchor=\"middle\" x=\"1154\" y=\"-394.8\" font-family=\"Helvetica,sans-Serif\" font-size=\"14.00\">entropy = 0.552</text>\n<text text-anchor=\"middle\" x=\"1154\" y=\"-379.8\" font-family=\"Helvetica,sans-Serif\" font-size=\"14.00\">samples = 39</text>\n<text text-anchor=\"middle\" x=\"1154\" y=\"-364.8\" font-family=\"Helvetica,sans-Serif\" font-size=\"14.00\">value = [34, 5]</text>\n<text text-anchor=\"middle\" x=\"1154\" y=\"-349.8\" font-family=\"Helvetica,sans-Serif\" font-size=\"14.00\">class = Died</text>\n</g>\n<!-- 32&#45;&gt;33 -->\n<g id=\"edge33\" class=\"edge\">\n<title>32-&gt;33</title>\n<path fill=\"none\" stroke=\"black\" d=\"M1154,-460.58C1154,-452.79 1154,-444.53 1154,-436.45\"/>\n<polygon fill=\"black\" stroke=\"black\" points=\"1157.5,-436.71 1154,-426.71 1150.5,-436.71 1157.5,-436.71\"/>\n</g>\n<!-- 40 -->\n<g id=\"node41\" class=\"node\">\n<title>40</title>\n<polygon fill=\"#9ccef2\" stroke=\"black\" points=\"1407,-425 1287,-425 1287,-342 1407,-342 1407,-425\"/>\n<text text-anchor=\"middle\" x=\"1347\" y=\"-409.8\" font-family=\"Helvetica,sans-Serif\" font-size=\"14.00\">Fare &lt;= 20.233</text>\n<text text-anchor=\"middle\" x=\"1347\" y=\"-394.8\" font-family=\"Helvetica,sans-Serif\" font-size=\"14.00\">entropy = 0.918</text>\n<text text-anchor=\"middle\" x=\"1347\" y=\"-379.8\" font-family=\"Helvetica,sans-Serif\" font-size=\"14.00\">samples = 6</text>\n<text text-anchor=\"middle\" x=\"1347\" y=\"-364.8\" font-family=\"Helvetica,sans-Serif\" font-size=\"14.00\">value = [2, 4]</text>\n<text text-anchor=\"middle\" x=\"1347\" y=\"-349.8\" font-family=\"Helvetica,sans-Serif\" font-size=\"14.00\">class = Survived</text>\n</g>\n<!-- 32&#45;&gt;40 -->\n<g id=\"edge40\" class=\"edge\">\n<title>32-&gt;40</title>\n<path fill=\"none\" stroke=\"black\" d=\"M1212.43,-466.08C1232.83,-453.71 1255.93,-439.71 1277.16,-426.84\"/>\n<polygon fill=\"black\" stroke=\"black\" points=\"1278.73,-429.98 1285.47,-421.8 1275.1,-423.99 1278.73,-429.98\"/>\n</g>\n<!-- 34 -->\n<g id=\"node35\" class=\"node\">\n<title>34</title>\n<polygon fill=\"#ea9a61\" stroke=\"black\" points=\"1151,-306 1043,-306 1043,-223 1151,-223 1151,-306\"/>\n<text text-anchor=\"middle\" x=\"1097\" y=\"-290.8\" font-family=\"Helvetica,sans-Serif\" font-size=\"14.00\">Age &lt;= 28.75</text>\n<text text-anchor=\"middle\" x=\"1097\" y=\"-275.8\" font-family=\"Helvetica,sans-Serif\" font-size=\"14.00\">entropy = 0.65</text>\n<text text-anchor=\"middle\" x=\"1097\" y=\"-260.8\" font-family=\"Helvetica,sans-Serif\" font-size=\"14.00\">samples = 30</text>\n<text text-anchor=\"middle\" x=\"1097\" y=\"-245.8\" font-family=\"Helvetica,sans-Serif\" font-size=\"14.00\">value = [25, 5]</text>\n<text text-anchor=\"middle\" x=\"1097\" y=\"-230.8\" font-family=\"Helvetica,sans-Serif\" font-size=\"14.00\">class = Died</text>\n</g>\n<!-- 33&#45;&gt;34 -->\n<g id=\"edge34\" class=\"edge\">\n<title>33-&gt;34</title>\n<path fill=\"none\" stroke=\"black\" d=\"M1134.06,-341.58C1130.09,-333.43 1125.88,-324.77 1121.77,-316.34\"/>\n<polygon fill=\"black\" stroke=\"black\" points=\"1125.02,-315.02 1117.49,-307.56 1118.72,-318.08 1125.02,-315.02\"/>\n</g>\n<!-- 39 -->\n<g id=\"node40\" class=\"node\">\n<title>39</title>\n<polygon fill=\"#e58139\" stroke=\"black\" points=\"1269,-298.5 1169,-298.5 1169,-230.5 1269,-230.5 1269,-298.5\"/>\n<text text-anchor=\"middle\" x=\"1219\" y=\"-283.3\" font-family=\"Helvetica,sans-Serif\" font-size=\"14.00\">entropy = 0.0</text>\n<text text-anchor=\"middle\" x=\"1219\" y=\"-268.3\" font-family=\"Helvetica,sans-Serif\" font-size=\"14.00\">samples = 9</text>\n<text text-anchor=\"middle\" x=\"1219\" y=\"-253.3\" font-family=\"Helvetica,sans-Serif\" font-size=\"14.00\">value = [9, 0]</text>\n<text text-anchor=\"middle\" x=\"1219\" y=\"-238.3\" font-family=\"Helvetica,sans-Serif\" font-size=\"14.00\">class = Died</text>\n</g>\n<!-- 33&#45;&gt;39 -->\n<g id=\"edge39\" class=\"edge\">\n<title>33-&gt;39</title>\n<path fill=\"none\" stroke=\"black\" d=\"M1176.73,-341.58C1182.62,-330.99 1188.97,-319.56 1194.92,-308.85\"/>\n<polygon fill=\"black\" stroke=\"black\" points=\"1197.93,-310.63 1199.73,-300.18 1191.81,-307.23 1197.93,-310.63\"/>\n</g>\n<!-- 35 -->\n<g id=\"node36\" class=\"node\">\n<title>35</title>\n<polygon fill=\"#e99559\" stroke=\"black\" points=\"1155,-187 1039,-187 1039,-104 1155,-104 1155,-187\"/>\n<text text-anchor=\"middle\" x=\"1097\" y=\"-171.8\" font-family=\"Helvetica,sans-Serif\" font-size=\"14.00\">Age &lt;= 22.5</text>\n<text text-anchor=\"middle\" x=\"1097\" y=\"-156.8\" font-family=\"Helvetica,sans-Serif\" font-size=\"14.00\">entropy = 0.579</text>\n<text text-anchor=\"middle\" x=\"1097\" y=\"-141.8\" font-family=\"Helvetica,sans-Serif\" font-size=\"14.00\">samples = 29</text>\n<text text-anchor=\"middle\" x=\"1097\" y=\"-126.8\" font-family=\"Helvetica,sans-Serif\" font-size=\"14.00\">value = [25, 4]</text>\n<text text-anchor=\"middle\" x=\"1097\" y=\"-111.8\" font-family=\"Helvetica,sans-Serif\" font-size=\"14.00\">class = Died</text>\n</g>\n<!-- 34&#45;&gt;35 -->\n<g id=\"edge35\" class=\"edge\">\n<title>34-&gt;35</title>\n<path fill=\"none\" stroke=\"black\" d=\"M1097,-222.58C1097,-214.79 1097,-206.53 1097,-198.45\"/>\n<polygon fill=\"black\" stroke=\"black\" points=\"1100.5,-198.71 1097,-188.71 1093.5,-198.71 1100.5,-198.71\"/>\n</g>\n<!-- 38 -->\n<g id=\"node39\" class=\"node\">\n<title>38</title>\n<polygon fill=\"#399de5\" stroke=\"black\" points=\"1293,-179.5 1173,-179.5 1173,-111.5 1293,-111.5 1293,-179.5\"/>\n<text text-anchor=\"middle\" x=\"1233\" y=\"-164.3\" font-family=\"Helvetica,sans-Serif\" font-size=\"14.00\">entropy = 0.0</text>\n<text text-anchor=\"middle\" x=\"1233\" y=\"-149.3\" font-family=\"Helvetica,sans-Serif\" font-size=\"14.00\">samples = 1</text>\n<text text-anchor=\"middle\" x=\"1233\" y=\"-134.3\" font-family=\"Helvetica,sans-Serif\" font-size=\"14.00\">value = [0, 1]</text>\n<text text-anchor=\"middle\" x=\"1233\" y=\"-119.3\" font-family=\"Helvetica,sans-Serif\" font-size=\"14.00\">class = Survived</text>\n</g>\n<!-- 34&#45;&gt;38 -->\n<g id=\"edge38\" class=\"edge\">\n<title>34-&gt;38</title>\n<path fill=\"none\" stroke=\"black\" d=\"M1144.57,-222.58C1157.89,-211.12 1172.36,-198.67 1185.67,-187.22\"/>\n<polygon fill=\"black\" stroke=\"black\" points=\"1187.78,-190.02 1193.07,-180.85 1183.21,-184.72 1187.78,-190.02\"/>\n</g>\n<!-- 36 -->\n<g id=\"node37\" class=\"node\">\n<title>36</title>\n<polygon fill=\"#f2c09c\" stroke=\"black\" points=\"1155,-68 1039,-68 1039,0 1155,0 1155,-68\"/>\n<text text-anchor=\"middle\" x=\"1097\" y=\"-52.8\" font-family=\"Helvetica,sans-Serif\" font-size=\"14.00\">entropy = 0.918</text>\n<text text-anchor=\"middle\" x=\"1097\" y=\"-37.8\" font-family=\"Helvetica,sans-Serif\" font-size=\"14.00\">samples = 6</text>\n<text text-anchor=\"middle\" x=\"1097\" y=\"-22.8\" font-family=\"Helvetica,sans-Serif\" font-size=\"14.00\">value = [4, 2]</text>\n<text text-anchor=\"middle\" x=\"1097\" y=\"-7.8\" font-family=\"Helvetica,sans-Serif\" font-size=\"14.00\">class = Died</text>\n</g>\n<!-- 35&#45;&gt;36 -->\n<g id=\"edge36\" class=\"edge\">\n<title>35-&gt;36</title>\n<path fill=\"none\" stroke=\"black\" d=\"M1097,-103.73C1097,-95.88 1097,-87.63 1097,-79.67\"/>\n<polygon fill=\"black\" stroke=\"black\" points=\"1100.5,-79.81 1097,-69.81 1093.5,-79.81 1100.5,-79.81\"/>\n</g>\n<!-- 37 -->\n<g id=\"node38\" class=\"node\">\n<title>37</title>\n<polygon fill=\"#e78d4c\" stroke=\"black\" points=\"1289,-68 1173,-68 1173,0 1289,0 1289,-68\"/>\n<text text-anchor=\"middle\" x=\"1231\" y=\"-52.8\" font-family=\"Helvetica,sans-Serif\" font-size=\"14.00\">entropy = 0.426</text>\n<text text-anchor=\"middle\" x=\"1231\" y=\"-37.8\" font-family=\"Helvetica,sans-Serif\" font-size=\"14.00\">samples = 23</text>\n<text text-anchor=\"middle\" x=\"1231\" y=\"-22.8\" font-family=\"Helvetica,sans-Serif\" font-size=\"14.00\">value = [21, 2]</text>\n<text text-anchor=\"middle\" x=\"1231\" y=\"-7.8\" font-family=\"Helvetica,sans-Serif\" font-size=\"14.00\">class = Died</text>\n</g>\n<!-- 35&#45;&gt;37 -->\n<g id=\"edge37\" class=\"edge\">\n<title>35-&gt;37</title>\n<path fill=\"none\" stroke=\"black\" d=\"M1146.9,-103.73C1158.17,-94.51 1170.14,-84.74 1181.4,-75.53\"/>\n<polygon fill=\"black\" stroke=\"black\" points=\"1183.55,-78.3 1189.08,-69.26 1179.12,-72.87 1183.55,-78.3\"/>\n</g>\n<!-- 41 -->\n<g id=\"node42\" class=\"node\">\n<title>41</title>\n<polygon fill=\"#399de5\" stroke=\"black\" points=\"1407,-298.5 1287,-298.5 1287,-230.5 1407,-230.5 1407,-298.5\"/>\n<text text-anchor=\"middle\" x=\"1347\" y=\"-283.3\" font-family=\"Helvetica,sans-Serif\" font-size=\"14.00\">entropy = 0.0</text>\n<text text-anchor=\"middle\" x=\"1347\" y=\"-268.3\" font-family=\"Helvetica,sans-Serif\" font-size=\"14.00\">samples = 4</text>\n<text text-anchor=\"middle\" x=\"1347\" y=\"-253.3\" font-family=\"Helvetica,sans-Serif\" font-size=\"14.00\">value = [0, 4]</text>\n<text text-anchor=\"middle\" x=\"1347\" y=\"-238.3\" font-family=\"Helvetica,sans-Serif\" font-size=\"14.00\">class = Survived</text>\n</g>\n<!-- 40&#45;&gt;41 -->\n<g id=\"edge41\" class=\"edge\">\n<title>40-&gt;41</title>\n<path fill=\"none\" stroke=\"black\" d=\"M1347,-341.58C1347,-331.43 1347,-320.5 1347,-310.18\"/>\n<polygon fill=\"black\" stroke=\"black\" points=\"1350.5,-310.37 1347,-300.37 1343.5,-310.37 1350.5,-310.37\"/>\n</g>\n<!-- 42 -->\n<g id=\"node43\" class=\"node\">\n<title>42</title>\n<polygon fill=\"#e58139\" stroke=\"black\" points=\"1525,-298.5 1425,-298.5 1425,-230.5 1525,-230.5 1525,-298.5\"/>\n<text text-anchor=\"middle\" x=\"1475\" y=\"-283.3\" font-family=\"Helvetica,sans-Serif\" font-size=\"14.00\">entropy = 0.0</text>\n<text text-anchor=\"middle\" x=\"1475\" y=\"-268.3\" font-family=\"Helvetica,sans-Serif\" font-size=\"14.00\">samples = 2</text>\n<text text-anchor=\"middle\" x=\"1475\" y=\"-253.3\" font-family=\"Helvetica,sans-Serif\" font-size=\"14.00\">value = [2, 0]</text>\n<text text-anchor=\"middle\" x=\"1475\" y=\"-238.3\" font-family=\"Helvetica,sans-Serif\" font-size=\"14.00\">class = Died</text>\n</g>\n<!-- 40&#45;&gt;42 -->\n<g id=\"edge42\" class=\"edge\">\n<title>40-&gt;42</title>\n<path fill=\"none\" stroke=\"black\" d=\"M1391.77,-341.58C1404.19,-330.23 1417.67,-317.9 1430.09,-306.55\"/>\n<polygon fill=\"black\" stroke=\"black\" points=\"1432.37,-309.21 1437.39,-299.88 1427.64,-304.05 1432.37,-309.21\"/>\n</g>\n<!-- 44 -->\n<g id=\"node45\" class=\"node\">\n<title>44</title>\n<polygon fill=\"#f6d1b7\" stroke=\"black\" points=\"1863,-663 1747,-663 1747,-580 1863,-580 1863,-663\"/>\n<text text-anchor=\"middle\" x=\"1805\" y=\"-647.8\" font-family=\"Helvetica,sans-Serif\" font-size=\"14.00\">Age &lt;= 13.5</text>\n<text text-anchor=\"middle\" x=\"1805\" y=\"-632.8\" font-family=\"Helvetica,sans-Serif\" font-size=\"14.00\">entropy = 0.964</text>\n<text text-anchor=\"middle\" x=\"1805\" y=\"-617.8\" font-family=\"Helvetica,sans-Serif\" font-size=\"14.00\">samples = 139</text>\n<text text-anchor=\"middle\" x=\"1805\" y=\"-602.8\" font-family=\"Helvetica,sans-Serif\" font-size=\"14.00\">value = [85, 54]</text>\n<text text-anchor=\"middle\" x=\"1805\" y=\"-587.8\" font-family=\"Helvetica,sans-Serif\" font-size=\"14.00\">class = Died</text>\n</g>\n<!-- 43&#45;&gt;44 -->\n<g id=\"edge44\" class=\"edge\">\n<title>43-&gt;44</title>\n<path fill=\"none\" stroke=\"black\" d=\"M1848.57,-698.58C1843.85,-690.34 1838.83,-681.58 1833.95,-673.06\"/>\n<polygon fill=\"black\" stroke=\"black\" points=\"1837.07,-671.45 1829.06,-664.51 1830.99,-674.93 1837.07,-671.45\"/>\n</g>\n<!-- 61 -->\n<g id=\"node62\" class=\"node\">\n<title>61</title>\n<polygon fill=\"#e68742\" stroke=\"black\" points=\"1997,-663 1881,-663 1881,-580 1997,-580 1997,-663\"/>\n<text text-anchor=\"middle\" x=\"1939\" y=\"-647.8\" font-family=\"Helvetica,sans-Serif\" font-size=\"14.00\">Age &lt;= 3.5</text>\n<text text-anchor=\"middle\" x=\"1939\" y=\"-632.8\" font-family=\"Helvetica,sans-Serif\" font-size=\"14.00\">entropy = 0.258</text>\n<text text-anchor=\"middle\" x=\"1939\" y=\"-617.8\" font-family=\"Helvetica,sans-Serif\" font-size=\"14.00\">samples = 23</text>\n<text text-anchor=\"middle\" x=\"1939\" y=\"-602.8\" font-family=\"Helvetica,sans-Serif\" font-size=\"14.00\">value = [22, 1]</text>\n<text text-anchor=\"middle\" x=\"1939\" y=\"-587.8\" font-family=\"Helvetica,sans-Serif\" font-size=\"14.00\">class = Died</text>\n</g>\n<!-- 43&#45;&gt;61 -->\n<g id=\"edge61\" class=\"edge\">\n<title>43-&gt;61</title>\n<path fill=\"none\" stroke=\"black\" d=\"M1895.43,-698.58C1900.15,-690.34 1905.17,-681.58 1910.05,-673.06\"/>\n<polygon fill=\"black\" stroke=\"black\" points=\"1913.01,-674.93 1914.94,-664.51 1906.93,-671.45 1913.01,-674.93\"/>\n</g>\n<!-- 45 -->\n<g id=\"node46\" class=\"node\">\n<title>45</title>\n<polygon fill=\"#399de5\" stroke=\"black\" points=\"1729,-536.5 1609,-536.5 1609,-468.5 1729,-468.5 1729,-536.5\"/>\n<text text-anchor=\"middle\" x=\"1669\" y=\"-521.3\" font-family=\"Helvetica,sans-Serif\" font-size=\"14.00\">entropy = 0.0</text>\n<text text-anchor=\"middle\" x=\"1669\" y=\"-506.3\" font-family=\"Helvetica,sans-Serif\" font-size=\"14.00\">samples = 7</text>\n<text text-anchor=\"middle\" x=\"1669\" y=\"-491.3\" font-family=\"Helvetica,sans-Serif\" font-size=\"14.00\">value = [0, 7]</text>\n<text text-anchor=\"middle\" x=\"1669\" y=\"-476.3\" font-family=\"Helvetica,sans-Serif\" font-size=\"14.00\">class = Survived</text>\n</g>\n<!-- 44&#45;&gt;45 -->\n<g id=\"edge45\" class=\"edge\">\n<title>44-&gt;45</title>\n<path fill=\"none\" stroke=\"black\" d=\"M1757.43,-579.58C1744.11,-568.12 1729.64,-555.67 1716.33,-544.22\"/>\n<polygon fill=\"black\" stroke=\"black\" points=\"1718.79,-541.72 1708.93,-537.85 1714.22,-547.02 1718.79,-541.72\"/>\n</g>\n<!-- 46 -->\n<g id=\"node47\" class=\"node\">\n<title>46</title>\n<polygon fill=\"#f3c7a6\" stroke=\"black\" points=\"1863,-544 1747,-544 1747,-461 1863,-461 1863,-544\"/>\n<text text-anchor=\"middle\" x=\"1805\" y=\"-528.8\" font-family=\"Helvetica,sans-Serif\" font-size=\"14.00\">Fare &lt;= 26.469</text>\n<text text-anchor=\"middle\" x=\"1805\" y=\"-513.8\" font-family=\"Helvetica,sans-Serif\" font-size=\"14.00\">entropy = 0.939</text>\n<text text-anchor=\"middle\" x=\"1805\" y=\"-498.8\" font-family=\"Helvetica,sans-Serif\" font-size=\"14.00\">samples = 132</text>\n<text text-anchor=\"middle\" x=\"1805\" y=\"-483.8\" font-family=\"Helvetica,sans-Serif\" font-size=\"14.00\">value = [85, 47]</text>\n<text text-anchor=\"middle\" x=\"1805\" y=\"-468.8\" font-family=\"Helvetica,sans-Serif\" font-size=\"14.00\">class = Died</text>\n</g>\n<!-- 44&#45;&gt;46 -->\n<g id=\"edge46\" class=\"edge\">\n<title>44-&gt;46</title>\n<path fill=\"none\" stroke=\"black\" d=\"M1805,-579.58C1805,-571.79 1805,-563.53 1805,-555.45\"/>\n<polygon fill=\"black\" stroke=\"black\" points=\"1808.5,-555.71 1805,-545.71 1801.5,-555.71 1808.5,-555.71\"/>\n</g>\n<!-- 47 -->\n<g id=\"node48\" class=\"node\">\n<title>47</title>\n<polygon fill=\"#399de5\" stroke=\"black\" points=\"1731,-417.5 1611,-417.5 1611,-349.5 1731,-349.5 1731,-417.5\"/>\n<text text-anchor=\"middle\" x=\"1671\" y=\"-402.3\" font-family=\"Helvetica,sans-Serif\" font-size=\"14.00\">entropy = 0.0</text>\n<text text-anchor=\"middle\" x=\"1671\" y=\"-387.3\" font-family=\"Helvetica,sans-Serif\" font-size=\"14.00\">samples = 4</text>\n<text text-anchor=\"middle\" x=\"1671\" y=\"-372.3\" font-family=\"Helvetica,sans-Serif\" font-size=\"14.00\">value = [0, 4]</text>\n<text text-anchor=\"middle\" x=\"1671\" y=\"-357.3\" font-family=\"Helvetica,sans-Serif\" font-size=\"14.00\">class = Survived</text>\n</g>\n<!-- 46&#45;&gt;47 -->\n<g id=\"edge47\" class=\"edge\">\n<title>46-&gt;47</title>\n<path fill=\"none\" stroke=\"black\" d=\"M1758.13,-460.58C1745.01,-449.12 1730.75,-436.67 1717.64,-425.22\"/>\n<polygon fill=\"black\" stroke=\"black\" points=\"1720.18,-422.8 1710.35,-418.86 1715.58,-428.07 1720.18,-422.8\"/>\n</g>\n<!-- 48 -->\n<g id=\"node49\" class=\"node\">\n<title>48</title>\n<polygon fill=\"#f2c19d\" stroke=\"black\" points=\"1865,-425 1749,-425 1749,-342 1865,-342 1865,-425\"/>\n<text text-anchor=\"middle\" x=\"1807\" y=\"-409.8\" font-family=\"Helvetica,sans-Serif\" font-size=\"14.00\">Age &lt;= 53.0</text>\n<text text-anchor=\"middle\" x=\"1807\" y=\"-394.8\" font-family=\"Helvetica,sans-Serif\" font-size=\"14.00\">entropy = 0.921</text>\n<text text-anchor=\"middle\" x=\"1807\" y=\"-379.8\" font-family=\"Helvetica,sans-Serif\" font-size=\"14.00\">samples = 128</text>\n<text text-anchor=\"middle\" x=\"1807\" y=\"-364.8\" font-family=\"Helvetica,sans-Serif\" font-size=\"14.00\">value = [85, 43]</text>\n<text text-anchor=\"middle\" x=\"1807\" y=\"-349.8\" font-family=\"Helvetica,sans-Serif\" font-size=\"14.00\">class = Died</text>\n</g>\n<!-- 46&#45;&gt;48 -->\n<g id=\"edge48\" class=\"edge\">\n<title>46-&gt;48</title>\n<path fill=\"none\" stroke=\"black\" d=\"M1805.7,-460.58C1805.83,-452.79 1805.97,-444.53 1806.11,-436.45\"/>\n<polygon fill=\"black\" stroke=\"black\" points=\"1809.61,-436.77 1806.28,-426.71 1802.61,-436.65 1809.61,-436.77\"/>\n</g>\n<!-- 49 -->\n<g id=\"node50\" class=\"node\">\n<title>49</title>\n<polygon fill=\"#f5cdb1\" stroke=\"black\" points=\"1748,-306 1632,-306 1632,-223 1748,-223 1748,-306\"/>\n<text text-anchor=\"middle\" x=\"1690\" y=\"-290.8\" font-family=\"Helvetica,sans-Serif\" font-size=\"14.00\">Fare &lt;= 26.775</text>\n<text text-anchor=\"middle\" x=\"1690\" y=\"-275.8\" font-family=\"Helvetica,sans-Serif\" font-size=\"14.00\">entropy = 0.956</text>\n<text text-anchor=\"middle\" x=\"1690\" y=\"-260.8\" font-family=\"Helvetica,sans-Serif\" font-size=\"14.00\">samples = 106</text>\n<text text-anchor=\"middle\" x=\"1690\" y=\"-245.8\" font-family=\"Helvetica,sans-Serif\" font-size=\"14.00\">value = [66, 40]</text>\n<text text-anchor=\"middle\" x=\"1690\" y=\"-230.8\" font-family=\"Helvetica,sans-Serif\" font-size=\"14.00\">class = Died</text>\n</g>\n<!-- 48&#45;&gt;49 -->\n<g id=\"edge49\" class=\"edge\">\n<title>48-&gt;49</title>\n<path fill=\"none\" stroke=\"black\" d=\"M1766.08,-341.58C1757.21,-332.71 1747.75,-323.25 1738.62,-314.12\"/>\n<polygon fill=\"black\" stroke=\"black\" points=\"1741.32,-311.87 1731.77,-307.27 1736.37,-316.82 1741.32,-311.87\"/>\n</g>\n<!-- 56 -->\n<g id=\"node57\" class=\"node\">\n<title>56</title>\n<polygon fill=\"#e99558\" stroke=\"black\" points=\"1946,-306 1830,-306 1830,-223 1946,-223 1946,-306\"/>\n<text text-anchor=\"middle\" x=\"1888\" y=\"-290.8\" font-family=\"Helvetica,sans-Serif\" font-size=\"14.00\">Age &lt;= 75.5</text>\n<text text-anchor=\"middle\" x=\"1888\" y=\"-275.8\" font-family=\"Helvetica,sans-Serif\" font-size=\"14.00\">entropy = 0.575</text>\n<text text-anchor=\"middle\" x=\"1888\" y=\"-260.8\" font-family=\"Helvetica,sans-Serif\" font-size=\"14.00\">samples = 22</text>\n<text text-anchor=\"middle\" x=\"1888\" y=\"-245.8\" font-family=\"Helvetica,sans-Serif\" font-size=\"14.00\">value = [19, 3]</text>\n<text text-anchor=\"middle\" x=\"1888\" y=\"-230.8\" font-family=\"Helvetica,sans-Serif\" font-size=\"14.00\">class = Died</text>\n</g>\n<!-- 48&#45;&gt;56 -->\n<g id=\"edge56\" class=\"edge\">\n<title>48-&gt;56</title>\n<path fill=\"none\" stroke=\"black\" d=\"M1835.33,-341.58C1841.16,-333.16 1847.36,-324.2 1853.38,-315.5\"/>\n<polygon fill=\"black\" stroke=\"black\" points=\"1856.15,-317.66 1858.96,-307.44 1850.39,-313.67 1856.15,-317.66\"/>\n</g>\n<!-- 50 -->\n<g id=\"node51\" class=\"node\">\n<title>50</title>\n<polygon fill=\"#72b9ec\" stroke=\"black\" points=\"1565,-187 1445,-187 1445,-104 1565,-104 1565,-187\"/>\n<text text-anchor=\"middle\" x=\"1505\" y=\"-171.8\" font-family=\"Helvetica,sans-Serif\" font-size=\"14.00\">Age &lt;= 46.5</text>\n<text text-anchor=\"middle\" x=\"1505\" y=\"-156.8\" font-family=\"Helvetica,sans-Serif\" font-size=\"14.00\">entropy = 0.764</text>\n<text text-anchor=\"middle\" x=\"1505\" y=\"-141.8\" font-family=\"Helvetica,sans-Serif\" font-size=\"14.00\">samples = 9</text>\n<text text-anchor=\"middle\" x=\"1505\" y=\"-126.8\" font-family=\"Helvetica,sans-Serif\" font-size=\"14.00\">value = [2, 7]</text>\n<text text-anchor=\"middle\" x=\"1505\" y=\"-111.8\" font-family=\"Helvetica,sans-Serif\" font-size=\"14.00\">class = Survived</text>\n</g>\n<!-- 49&#45;&gt;50 -->\n<g id=\"edge50\" class=\"edge\">\n<title>49-&gt;50</title>\n<path fill=\"none\" stroke=\"black\" d=\"M1631.72,-226.64C1613.68,-215.23 1593.62,-202.55 1574.88,-190.7\"/>\n<polygon fill=\"black\" stroke=\"black\" points=\"1576.82,-187.78 1566.5,-185.39 1573.08,-193.7 1576.82,-187.78\"/>\n</g>\n<!-- 53 -->\n<g id=\"node54\" class=\"node\">\n<title>53</title>\n<polygon fill=\"#f2c29f\" stroke=\"black\" points=\"1748,-187 1632,-187 1632,-104 1748,-104 1748,-187\"/>\n<text text-anchor=\"middle\" x=\"1690\" y=\"-171.8\" font-family=\"Helvetica,sans-Serif\" font-size=\"14.00\">Fare &lt;= 29.1</text>\n<text text-anchor=\"middle\" x=\"1690\" y=\"-156.8\" font-family=\"Helvetica,sans-Serif\" font-size=\"14.00\">entropy = 0.925</text>\n<text text-anchor=\"middle\" x=\"1690\" y=\"-141.8\" font-family=\"Helvetica,sans-Serif\" font-size=\"14.00\">samples = 97</text>\n<text text-anchor=\"middle\" x=\"1690\" y=\"-126.8\" font-family=\"Helvetica,sans-Serif\" font-size=\"14.00\">value = [64, 33]</text>\n<text text-anchor=\"middle\" x=\"1690\" y=\"-111.8\" font-family=\"Helvetica,sans-Serif\" font-size=\"14.00\">class = Died</text>\n</g>\n<!-- 49&#45;&gt;53 -->\n<g id=\"edge53\" class=\"edge\">\n<title>49-&gt;53</title>\n<path fill=\"none\" stroke=\"black\" d=\"M1690,-222.58C1690,-214.79 1690,-206.53 1690,-198.45\"/>\n<polygon fill=\"black\" stroke=\"black\" points=\"1693.5,-198.71 1690,-188.71 1686.5,-198.71 1693.5,-198.71\"/>\n</g>\n<!-- 51 -->\n<g id=\"node52\" class=\"node\">\n<title>51</title>\n<polygon fill=\"#88c4ef\" stroke=\"black\" points=\"1427,-68 1307,-68 1307,0 1427,0 1427,-68\"/>\n<text text-anchor=\"middle\" x=\"1367\" y=\"-52.8\" font-family=\"Helvetica,sans-Serif\" font-size=\"14.00\">entropy = 0.863</text>\n<text text-anchor=\"middle\" x=\"1367\" y=\"-37.8\" font-family=\"Helvetica,sans-Serif\" font-size=\"14.00\">samples = 7</text>\n<text text-anchor=\"middle\" x=\"1367\" y=\"-22.8\" font-family=\"Helvetica,sans-Serif\" font-size=\"14.00\">value = [2, 5]</text>\n<text text-anchor=\"middle\" x=\"1367\" y=\"-7.8\" font-family=\"Helvetica,sans-Serif\" font-size=\"14.00\">class = Survived</text>\n</g>\n<!-- 50&#45;&gt;51 -->\n<g id=\"edge51\" class=\"edge\">\n<title>50-&gt;51</title>\n<path fill=\"none\" stroke=\"black\" d=\"M1453.61,-103.73C1441.89,-94.42 1429.44,-84.54 1417.74,-75.26\"/>\n<polygon fill=\"black\" stroke=\"black\" points=\"1420.16,-72.71 1410.15,-69.24 1415.81,-78.2 1420.16,-72.71\"/>\n</g>\n<!-- 52 -->\n<g id=\"node53\" class=\"node\">\n<title>52</title>\n<polygon fill=\"#399de5\" stroke=\"black\" points=\"1565,-68 1445,-68 1445,0 1565,0 1565,-68\"/>\n<text text-anchor=\"middle\" x=\"1505\" y=\"-52.8\" font-family=\"Helvetica,sans-Serif\" font-size=\"14.00\">entropy = 0.0</text>\n<text text-anchor=\"middle\" x=\"1505\" y=\"-37.8\" font-family=\"Helvetica,sans-Serif\" font-size=\"14.00\">samples = 2</text>\n<text text-anchor=\"middle\" x=\"1505\" y=\"-22.8\" font-family=\"Helvetica,sans-Serif\" font-size=\"14.00\">value = [0, 2]</text>\n<text text-anchor=\"middle\" x=\"1505\" y=\"-7.8\" font-family=\"Helvetica,sans-Serif\" font-size=\"14.00\">class = Survived</text>\n</g>\n<!-- 50&#45;&gt;52 -->\n<g id=\"edge52\" class=\"edge\">\n<title>50-&gt;52</title>\n<path fill=\"none\" stroke=\"black\" d=\"M1505,-103.73C1505,-95.88 1505,-87.63 1505,-79.67\"/>\n<polygon fill=\"black\" stroke=\"black\" points=\"1508.5,-79.81 1505,-69.81 1501.5,-79.81 1508.5,-79.81\"/>\n</g>\n<!-- 54 -->\n<g id=\"node55\" class=\"node\">\n<title>54</title>\n<polygon fill=\"#e58139\" stroke=\"black\" points=\"1683,-68 1583,-68 1583,0 1683,0 1683,-68\"/>\n<text text-anchor=\"middle\" x=\"1633\" y=\"-52.8\" font-family=\"Helvetica,sans-Serif\" font-size=\"14.00\">entropy = 0.0</text>\n<text text-anchor=\"middle\" x=\"1633\" y=\"-37.8\" font-family=\"Helvetica,sans-Serif\" font-size=\"14.00\">samples = 9</text>\n<text text-anchor=\"middle\" x=\"1633\" y=\"-22.8\" font-family=\"Helvetica,sans-Serif\" font-size=\"14.00\">value = [9, 0]</text>\n<text text-anchor=\"middle\" x=\"1633\" y=\"-7.8\" font-family=\"Helvetica,sans-Serif\" font-size=\"14.00\">class = Died</text>\n</g>\n<!-- 53&#45;&gt;54 -->\n<g id=\"edge54\" class=\"edge\">\n<title>53-&gt;54</title>\n<path fill=\"none\" stroke=\"black\" d=\"M1668.78,-103.73C1664.45,-95.43 1659.9,-86.67 1655.53,-78.28\"/>\n<polygon fill=\"black\" stroke=\"black\" points=\"1658.75,-76.9 1651.03,-69.64 1652.55,-80.13 1658.75,-76.9\"/>\n</g>\n<!-- 55 -->\n<g id=\"node56\" class=\"node\">\n<title>55</title>\n<polygon fill=\"#f5cdb0\" stroke=\"black\" points=\"1817,-68 1701,-68 1701,0 1817,0 1817,-68\"/>\n<text text-anchor=\"middle\" x=\"1759\" y=\"-52.8\" font-family=\"Helvetica,sans-Serif\" font-size=\"14.00\">entropy = 0.954</text>\n<text text-anchor=\"middle\" x=\"1759\" y=\"-37.8\" font-family=\"Helvetica,sans-Serif\" font-size=\"14.00\">samples = 88</text>\n<text text-anchor=\"middle\" x=\"1759\" y=\"-22.8\" font-family=\"Helvetica,sans-Serif\" font-size=\"14.00\">value = [55, 33]</text>\n<text text-anchor=\"middle\" x=\"1759\" y=\"-7.8\" font-family=\"Helvetica,sans-Serif\" font-size=\"14.00\">class = Died</text>\n</g>\n<!-- 53&#45;&gt;55 -->\n<g id=\"edge55\" class=\"edge\">\n<title>53-&gt;55</title>\n<path fill=\"none\" stroke=\"black\" d=\"M1715.69,-103.73C1720.98,-95.34 1726.56,-86.47 1731.9,-78.01\"/>\n<polygon fill=\"black\" stroke=\"black\" points=\"1734.84,-79.91 1737.21,-69.58 1728.92,-76.17 1734.84,-79.91\"/>\n</g>\n<!-- 57 -->\n<g id=\"node58\" class=\"node\">\n<title>57</title>\n<polygon fill=\"#e88e4e\" stroke=\"black\" points=\"1960.5,-187 1815.5,-187 1815.5,-104 1960.5,-104 1960.5,-187\"/>\n<text text-anchor=\"middle\" x=\"1888\" y=\"-171.8\" font-family=\"Helvetica,sans-Serif\" font-size=\"14.00\">Embarked_C &lt;= 0.5</text>\n<text text-anchor=\"middle\" x=\"1888\" y=\"-156.8\" font-family=\"Helvetica,sans-Serif\" font-size=\"14.00\">entropy = 0.454</text>\n<text text-anchor=\"middle\" x=\"1888\" y=\"-141.8\" font-family=\"Helvetica,sans-Serif\" font-size=\"14.00\">samples = 21</text>\n<text text-anchor=\"middle\" x=\"1888\" y=\"-126.8\" font-family=\"Helvetica,sans-Serif\" font-size=\"14.00\">value = [19, 2]</text>\n<text text-anchor=\"middle\" x=\"1888\" y=\"-111.8\" font-family=\"Helvetica,sans-Serif\" font-size=\"14.00\">class = Died</text>\n</g>\n<!-- 56&#45;&gt;57 -->\n<g id=\"edge57\" class=\"edge\">\n<title>56-&gt;57</title>\n<path fill=\"none\" stroke=\"black\" d=\"M1888,-222.58C1888,-214.79 1888,-206.53 1888,-198.45\"/>\n<polygon fill=\"black\" stroke=\"black\" points=\"1891.5,-198.71 1888,-188.71 1884.5,-198.71 1891.5,-198.71\"/>\n</g>\n<!-- 60 -->\n<g id=\"node61\" class=\"node\">\n<title>60</title>\n<polygon fill=\"#399de5\" stroke=\"black\" points=\"2099,-179.5 1979,-179.5 1979,-111.5 2099,-111.5 2099,-179.5\"/>\n<text text-anchor=\"middle\" x=\"2039\" y=\"-164.3\" font-family=\"Helvetica,sans-Serif\" font-size=\"14.00\">entropy = 0.0</text>\n<text text-anchor=\"middle\" x=\"2039\" y=\"-149.3\" font-family=\"Helvetica,sans-Serif\" font-size=\"14.00\">samples = 1</text>\n<text text-anchor=\"middle\" x=\"2039\" y=\"-134.3\" font-family=\"Helvetica,sans-Serif\" font-size=\"14.00\">value = [0, 1]</text>\n<text text-anchor=\"middle\" x=\"2039\" y=\"-119.3\" font-family=\"Helvetica,sans-Serif\" font-size=\"14.00\">class = Survived</text>\n</g>\n<!-- 56&#45;&gt;60 -->\n<g id=\"edge60\" class=\"edge\">\n<title>56-&gt;60</title>\n<path fill=\"none\" stroke=\"black\" d=\"M1940.81,-222.58C1955.74,-211.01 1971.98,-198.43 1986.87,-186.89\"/>\n<polygon fill=\"black\" stroke=\"black\" points=\"1988.99,-189.68 1994.75,-180.79 1984.7,-184.15 1988.99,-189.68\"/>\n</g>\n<!-- 58 -->\n<g id=\"node59\" class=\"node\">\n<title>58</title>\n<polygon fill=\"#e58139\" stroke=\"black\" points=\"1940.5,-68 1835.5,-68 1835.5,0 1940.5,0 1940.5,-68\"/>\n<text text-anchor=\"middle\" x=\"1888\" y=\"-52.8\" font-family=\"Helvetica,sans-Serif\" font-size=\"14.00\">entropy = 0.0</text>\n<text text-anchor=\"middle\" x=\"1888\" y=\"-37.8\" font-family=\"Helvetica,sans-Serif\" font-size=\"14.00\">samples = 13</text>\n<text text-anchor=\"middle\" x=\"1888\" y=\"-22.8\" font-family=\"Helvetica,sans-Serif\" font-size=\"14.00\">value = [13, 0]</text>\n<text text-anchor=\"middle\" x=\"1888\" y=\"-7.8\" font-family=\"Helvetica,sans-Serif\" font-size=\"14.00\">class = Died</text>\n</g>\n<!-- 57&#45;&gt;58 -->\n<g id=\"edge58\" class=\"edge\">\n<title>57-&gt;58</title>\n<path fill=\"none\" stroke=\"black\" d=\"M1888,-103.73C1888,-95.88 1888,-87.63 1888,-79.67\"/>\n<polygon fill=\"black\" stroke=\"black\" points=\"1891.5,-79.81 1888,-69.81 1884.5,-79.81 1891.5,-79.81\"/>\n</g>\n<!-- 59 -->\n<g id=\"node60\" class=\"node\">\n<title>59</title>\n<polygon fill=\"#eeab7b\" stroke=\"black\" points=\"2075,-68 1959,-68 1959,0 2075,0 2075,-68\"/>\n<text text-anchor=\"middle\" x=\"2017\" y=\"-52.8\" font-family=\"Helvetica,sans-Serif\" font-size=\"14.00\">entropy = 0.811</text>\n<text text-anchor=\"middle\" x=\"2017\" y=\"-37.8\" font-family=\"Helvetica,sans-Serif\" font-size=\"14.00\">samples = 8</text>\n<text text-anchor=\"middle\" x=\"2017\" y=\"-22.8\" font-family=\"Helvetica,sans-Serif\" font-size=\"14.00\">value = [6, 2]</text>\n<text text-anchor=\"middle\" x=\"2017\" y=\"-7.8\" font-family=\"Helvetica,sans-Serif\" font-size=\"14.00\">class = Died</text>\n</g>\n<!-- 57&#45;&gt;59 -->\n<g id=\"edge59\" class=\"edge\">\n<title>57-&gt;59</title>\n<path fill=\"none\" stroke=\"black\" d=\"M1936.03,-103.73C1946.89,-94.51 1958.41,-84.74 1969.25,-75.53\"/>\n<polygon fill=\"black\" stroke=\"black\" points=\"1971.26,-78.42 1976.62,-69.28 1966.73,-73.08 1971.26,-78.42\"/>\n</g>\n<!-- 62 -->\n<g id=\"node63\" class=\"node\">\n<title>62</title>\n<polygon fill=\"#eca06a\" stroke=\"black\" points=\"1997,-544 1881,-544 1881,-461 1997,-461 1997,-544\"/>\n<text text-anchor=\"middle\" x=\"1939\" y=\"-528.8\" font-family=\"Helvetica,sans-Serif\" font-size=\"14.00\">Age &lt;= 2.5</text>\n<text text-anchor=\"middle\" x=\"1939\" y=\"-513.8\" font-family=\"Helvetica,sans-Serif\" font-size=\"14.00\">entropy = 0.722</text>\n<text text-anchor=\"middle\" x=\"1939\" y=\"-498.8\" font-family=\"Helvetica,sans-Serif\" font-size=\"14.00\">samples = 5</text>\n<text text-anchor=\"middle\" x=\"1939\" y=\"-483.8\" font-family=\"Helvetica,sans-Serif\" font-size=\"14.00\">value = [4, 1]</text>\n<text text-anchor=\"middle\" x=\"1939\" y=\"-468.8\" font-family=\"Helvetica,sans-Serif\" font-size=\"14.00\">class = Died</text>\n</g>\n<!-- 61&#45;&gt;62 -->\n<g id=\"edge62\" class=\"edge\">\n<title>61-&gt;62</title>\n<path fill=\"none\" stroke=\"black\" d=\"M1939,-579.58C1939,-571.79 1939,-563.53 1939,-555.45\"/>\n<polygon fill=\"black\" stroke=\"black\" points=\"1942.5,-555.71 1939,-545.71 1935.5,-555.71 1942.5,-555.71\"/>\n</g>\n<!-- 65 -->\n<g id=\"node66\" class=\"node\">\n<title>65</title>\n<polygon fill=\"#e58139\" stroke=\"black\" points=\"2120.5,-536.5 2015.5,-536.5 2015.5,-468.5 2120.5,-468.5 2120.5,-536.5\"/>\n<text text-anchor=\"middle\" x=\"2068\" y=\"-521.3\" font-family=\"Helvetica,sans-Serif\" font-size=\"14.00\">entropy = 0.0</text>\n<text text-anchor=\"middle\" x=\"2068\" y=\"-506.3\" font-family=\"Helvetica,sans-Serif\" font-size=\"14.00\">samples = 18</text>\n<text text-anchor=\"middle\" x=\"2068\" y=\"-491.3\" font-family=\"Helvetica,sans-Serif\" font-size=\"14.00\">value = [18, 0]</text>\n<text text-anchor=\"middle\" x=\"2068\" y=\"-476.3\" font-family=\"Helvetica,sans-Serif\" font-size=\"14.00\">class = Died</text>\n</g>\n<!-- 61&#45;&gt;65 -->\n<g id=\"edge65\" class=\"edge\">\n<title>61-&gt;65</title>\n<path fill=\"none\" stroke=\"black\" d=\"M1984.12,-579.58C1996.63,-568.23 2010.22,-555.9 2022.74,-544.55\"/>\n<polygon fill=\"black\" stroke=\"black\" points=\"2025.04,-547.19 2030.1,-537.88 2020.34,-542 2025.04,-547.19\"/>\n</g>\n<!-- 63 -->\n<g id=\"node64\" class=\"node\">\n<title>63</title>\n<polygon fill=\"#e58139\" stroke=\"black\" points=\"1987,-417.5 1887,-417.5 1887,-349.5 1987,-349.5 1987,-417.5\"/>\n<text text-anchor=\"middle\" x=\"1937\" y=\"-402.3\" font-family=\"Helvetica,sans-Serif\" font-size=\"14.00\">entropy = 0.0</text>\n<text text-anchor=\"middle\" x=\"1937\" y=\"-387.3\" font-family=\"Helvetica,sans-Serif\" font-size=\"14.00\">samples = 4</text>\n<text text-anchor=\"middle\" x=\"1937\" y=\"-372.3\" font-family=\"Helvetica,sans-Serif\" font-size=\"14.00\">value = [4, 0]</text>\n<text text-anchor=\"middle\" x=\"1937\" y=\"-357.3\" font-family=\"Helvetica,sans-Serif\" font-size=\"14.00\">class = Died</text>\n</g>\n<!-- 62&#45;&gt;63 -->\n<g id=\"edge63\" class=\"edge\">\n<title>62-&gt;63</title>\n<path fill=\"none\" stroke=\"black\" d=\"M1938.3,-460.58C1938.13,-450.43 1937.94,-439.5 1937.76,-429.18\"/>\n<polygon fill=\"black\" stroke=\"black\" points=\"1941.27,-429.31 1937.6,-419.37 1934.27,-429.43 1941.27,-429.31\"/>\n</g>\n<!-- 64 -->\n<g id=\"node65\" class=\"node\">\n<title>64</title>\n<polygon fill=\"#399de5\" stroke=\"black\" points=\"2125,-417.5 2005,-417.5 2005,-349.5 2125,-349.5 2125,-417.5\"/>\n<text text-anchor=\"middle\" x=\"2065\" y=\"-402.3\" font-family=\"Helvetica,sans-Serif\" font-size=\"14.00\">entropy = 0.0</text>\n<text text-anchor=\"middle\" x=\"2065\" y=\"-387.3\" font-family=\"Helvetica,sans-Serif\" font-size=\"14.00\">samples = 1</text>\n<text text-anchor=\"middle\" x=\"2065\" y=\"-372.3\" font-family=\"Helvetica,sans-Serif\" font-size=\"14.00\">value = [0, 1]</text>\n<text text-anchor=\"middle\" x=\"2065\" y=\"-357.3\" font-family=\"Helvetica,sans-Serif\" font-size=\"14.00\">class = Survived</text>\n</g>\n<!-- 62&#45;&gt;64 -->\n<g id=\"edge64\" class=\"edge\">\n<title>62-&gt;64</title>\n<path fill=\"none\" stroke=\"black\" d=\"M1983.07,-460.58C1995.29,-449.23 2008.56,-436.9 2020.8,-425.55\"/>\n<polygon fill=\"black\" stroke=\"black\" points=\"2023.02,-428.26 2027.96,-418.89 2018.25,-423.13 2023.02,-428.26\"/>\n</g>\n<!-- 67 -->\n<g id=\"node68\" class=\"node\">\n<title>67</title>\n<polygon fill=\"#44a2e6\" stroke=\"black\" points=\"2569,-782 2449,-782 2449,-699 2569,-699 2569,-782\"/>\n<text text-anchor=\"middle\" x=\"2509\" y=\"-766.8\" font-family=\"Helvetica,sans-Serif\" font-size=\"14.00\">Fare &lt;= 28.856</text>\n<text text-anchor=\"middle\" x=\"2509\" y=\"-751.8\" font-family=\"Helvetica,sans-Serif\" font-size=\"14.00\">entropy = 0.299</text>\n<text text-anchor=\"middle\" x=\"2509\" y=\"-736.8\" font-family=\"Helvetica,sans-Serif\" font-size=\"14.00\">samples = 170</text>\n<text text-anchor=\"middle\" x=\"2509\" y=\"-721.8\" font-family=\"Helvetica,sans-Serif\" font-size=\"14.00\">value = [9, 161]</text>\n<text text-anchor=\"middle\" x=\"2509\" y=\"-706.8\" font-family=\"Helvetica,sans-Serif\" font-size=\"14.00\">class = Survived</text>\n</g>\n<!-- 66&#45;&gt;67 -->\n<g id=\"edge67\" class=\"edge\">\n<title>66-&gt;67</title>\n<path fill=\"none\" stroke=\"black\" d=\"M2509,-817.58C2509,-809.79 2509,-801.53 2509,-793.45\"/>\n<polygon fill=\"black\" stroke=\"black\" points=\"2512.5,-793.71 2509,-783.71 2505.5,-793.71 2512.5,-793.71\"/>\n</g>\n<!-- 94 -->\n<g id=\"node95\" class=\"node\">\n<title>94</title>\n<polygon fill=\"#ffffff\" stroke=\"black\" points=\"3604.5,-782 3491.5,-782 3491.5,-699 3604.5,-699 3604.5,-782\"/>\n<text text-anchor=\"middle\" x=\"3548\" y=\"-766.8\" font-family=\"Helvetica,sans-Serif\" font-size=\"14.00\">Fare &lt;= 23.35</text>\n<text text-anchor=\"middle\" x=\"3548\" y=\"-751.8\" font-family=\"Helvetica,sans-Serif\" font-size=\"14.00\">entropy = 1.0</text>\n<text text-anchor=\"middle\" x=\"3548\" y=\"-736.8\" font-family=\"Helvetica,sans-Serif\" font-size=\"14.00\">samples = 144</text>\n<text text-anchor=\"middle\" x=\"3548\" y=\"-721.8\" font-family=\"Helvetica,sans-Serif\" font-size=\"14.00\">value = [72, 72]</text>\n<text text-anchor=\"middle\" x=\"3548\" y=\"-706.8\" font-family=\"Helvetica,sans-Serif\" font-size=\"14.00\">class = Died</text>\n</g>\n<!-- 66&#45;&gt;94 -->\n<g id=\"edge94\" class=\"edge\">\n<title>66-&gt;94</title>\n<path fill=\"none\" stroke=\"black\" d=\"M2570.5,-851.57C2752.81,-831.05 3289.46,-770.61 3479.96,-749.16\"/>\n<polygon fill=\"black\" stroke=\"black\" points=\"3480.15,-752.66 3489.69,-748.07 3479.36,-745.71 3480.15,-752.66\"/>\n</g>\n<!-- 68 -->\n<g id=\"node69\" class=\"node\">\n<title>68</title>\n<polygon fill=\"#4fa8e8\" stroke=\"black\" points=\"2500,-663 2380,-663 2380,-580 2500,-580 2500,-663\"/>\n<text text-anchor=\"middle\" x=\"2440\" y=\"-647.8\" font-family=\"Helvetica,sans-Serif\" font-size=\"14.00\">Fare &lt;= 28.231</text>\n<text text-anchor=\"middle\" x=\"2440\" y=\"-632.8\" font-family=\"Helvetica,sans-Serif\" font-size=\"14.00\">entropy = 0.469</text>\n<text text-anchor=\"middle\" x=\"2440\" y=\"-617.8\" font-family=\"Helvetica,sans-Serif\" font-size=\"14.00\">samples = 70</text>\n<text text-anchor=\"middle\" x=\"2440\" y=\"-602.8\" font-family=\"Helvetica,sans-Serif\" font-size=\"14.00\">value = [7, 63]</text>\n<text text-anchor=\"middle\" x=\"2440\" y=\"-587.8\" font-family=\"Helvetica,sans-Serif\" font-size=\"14.00\">class = Survived</text>\n</g>\n<!-- 67&#45;&gt;68 -->\n<g id=\"edge68\" class=\"edge\">\n<title>67-&gt;68</title>\n<path fill=\"none\" stroke=\"black\" d=\"M2484.87,-698.58C2480.01,-690.34 2474.84,-681.58 2469.82,-673.06\"/>\n<polygon fill=\"black\" stroke=\"black\" points=\"2472.87,-671.34 2464.77,-664.5 2466.84,-674.9 2472.87,-671.34\"/>\n</g>\n<!-- 85 -->\n<g id=\"node86\" class=\"node\">\n<title>85</title>\n<polygon fill=\"#3d9fe6\" stroke=\"black\" points=\"2638,-663 2518,-663 2518,-580 2638,-580 2638,-663\"/>\n<text text-anchor=\"middle\" x=\"2578\" y=\"-647.8\" font-family=\"Helvetica,sans-Serif\" font-size=\"14.00\">Age &lt;= 2.5</text>\n<text text-anchor=\"middle\" x=\"2578\" y=\"-632.8\" font-family=\"Helvetica,sans-Serif\" font-size=\"14.00\">entropy = 0.141</text>\n<text text-anchor=\"middle\" x=\"2578\" y=\"-617.8\" font-family=\"Helvetica,sans-Serif\" font-size=\"14.00\">samples = 100</text>\n<text text-anchor=\"middle\" x=\"2578\" y=\"-602.8\" font-family=\"Helvetica,sans-Serif\" font-size=\"14.00\">value = [2, 98]</text>\n<text text-anchor=\"middle\" x=\"2578\" y=\"-587.8\" font-family=\"Helvetica,sans-Serif\" font-size=\"14.00\">class = Survived</text>\n</g>\n<!-- 67&#45;&gt;85 -->\n<g id=\"edge85\" class=\"edge\">\n<title>67-&gt;85</title>\n<path fill=\"none\" stroke=\"black\" d=\"M2533.13,-698.58C2537.99,-690.34 2543.16,-681.58 2548.18,-673.06\"/>\n<polygon fill=\"black\" stroke=\"black\" points=\"2551.16,-674.9 2553.23,-664.5 2545.13,-671.34 2551.16,-674.9\"/>\n</g>\n<!-- 69 -->\n<g id=\"node70\" class=\"node\">\n<title>69</title>\n<polygon fill=\"#4ca6e7\" stroke=\"black\" points=\"2377,-544 2257,-544 2257,-461 2377,-461 2377,-544\"/>\n<text text-anchor=\"middle\" x=\"2317\" y=\"-528.8\" font-family=\"Helvetica,sans-Serif\" font-size=\"14.00\">Age &lt;= 23.5</text>\n<text text-anchor=\"middle\" x=\"2317\" y=\"-513.8\" font-family=\"Helvetica,sans-Serif\" font-size=\"14.00\">entropy = 0.426</text>\n<text text-anchor=\"middle\" x=\"2317\" y=\"-498.8\" font-family=\"Helvetica,sans-Serif\" font-size=\"14.00\">samples = 69</text>\n<text text-anchor=\"middle\" x=\"2317\" y=\"-483.8\" font-family=\"Helvetica,sans-Serif\" font-size=\"14.00\">value = [6, 63]</text>\n<text text-anchor=\"middle\" x=\"2317\" y=\"-468.8\" font-family=\"Helvetica,sans-Serif\" font-size=\"14.00\">class = Survived</text>\n</g>\n<!-- 68&#45;&gt;69 -->\n<g id=\"edge69\" class=\"edge\">\n<title>68-&gt;69</title>\n<path fill=\"none\" stroke=\"black\" d=\"M2396.98,-579.58C2387.66,-570.71 2377.71,-561.25 2368.11,-552.12\"/>\n<polygon fill=\"black\" stroke=\"black\" points=\"2370.54,-549.6 2360.88,-545.24 2365.72,-554.67 2370.54,-549.6\"/>\n</g>\n<!-- 84 -->\n<g id=\"node85\" class=\"node\">\n<title>84</title>\n<polygon fill=\"#e58139\" stroke=\"black\" points=\"2495,-536.5 2395,-536.5 2395,-468.5 2495,-468.5 2495,-536.5\"/>\n<text text-anchor=\"middle\" x=\"2445\" y=\"-521.3\" font-family=\"Helvetica,sans-Serif\" font-size=\"14.00\">entropy = 0.0</text>\n<text text-anchor=\"middle\" x=\"2445\" y=\"-506.3\" font-family=\"Helvetica,sans-Serif\" font-size=\"14.00\">samples = 1</text>\n<text text-anchor=\"middle\" x=\"2445\" y=\"-491.3\" font-family=\"Helvetica,sans-Serif\" font-size=\"14.00\">value = [1, 0]</text>\n<text text-anchor=\"middle\" x=\"2445\" y=\"-476.3\" font-family=\"Helvetica,sans-Serif\" font-size=\"14.00\">class = Died</text>\n</g>\n<!-- 68&#45;&gt;84 -->\n<g id=\"edge84\" class=\"edge\">\n<title>68-&gt;84</title>\n<path fill=\"none\" stroke=\"black\" d=\"M2441.75,-579.58C2442.18,-569.43 2442.65,-558.5 2443.09,-548.18\"/>\n<polygon fill=\"black\" stroke=\"black\" points=\"2446.58,-548.51 2443.51,-538.37 2439.59,-548.21 2446.58,-548.51\"/>\n</g>\n<!-- 70 -->\n<g id=\"node71\" class=\"node\">\n<title>70</title>\n<polygon fill=\"#399de5\" stroke=\"black\" points=\"2345,-417.5 2225,-417.5 2225,-349.5 2345,-349.5 2345,-417.5\"/>\n<text text-anchor=\"middle\" x=\"2285\" y=\"-402.3\" font-family=\"Helvetica,sans-Serif\" font-size=\"14.00\">entropy = 0.0</text>\n<text text-anchor=\"middle\" x=\"2285\" y=\"-387.3\" font-family=\"Helvetica,sans-Serif\" font-size=\"14.00\">samples = 15</text>\n<text text-anchor=\"middle\" x=\"2285\" y=\"-372.3\" font-family=\"Helvetica,sans-Serif\" font-size=\"14.00\">value = [0, 15]</text>\n<text text-anchor=\"middle\" x=\"2285\" y=\"-357.3\" font-family=\"Helvetica,sans-Serif\" font-size=\"14.00\">class = Survived</text>\n</g>\n<!-- 69&#45;&gt;70 -->\n<g id=\"edge70\" class=\"edge\">\n<title>69-&gt;70</title>\n<path fill=\"none\" stroke=\"black\" d=\"M2305.81,-460.58C2303,-450.32 2299.98,-439.27 2297.13,-428.85\"/>\n<polygon fill=\"black\" stroke=\"black\" points=\"2300.54,-428.04 2294.52,-419.32 2293.79,-429.89 2300.54,-428.04\"/>\n</g>\n<!-- 71 -->\n<g id=\"node72\" class=\"node\">\n<title>71</title>\n<polygon fill=\"#52a9e8\" stroke=\"black\" points=\"2483,-425 2363,-425 2363,-342 2483,-342 2483,-425\"/>\n<text text-anchor=\"middle\" x=\"2423\" y=\"-409.8\" font-family=\"Helvetica,sans-Serif\" font-size=\"14.00\">Age &lt;= 27.5</text>\n<text text-anchor=\"middle\" x=\"2423\" y=\"-394.8\" font-family=\"Helvetica,sans-Serif\" font-size=\"14.00\">entropy = 0.503</text>\n<text text-anchor=\"middle\" x=\"2423\" y=\"-379.8\" font-family=\"Helvetica,sans-Serif\" font-size=\"14.00\">samples = 54</text>\n<text text-anchor=\"middle\" x=\"2423\" y=\"-364.8\" font-family=\"Helvetica,sans-Serif\" font-size=\"14.00\">value = [6, 48]</text>\n<text text-anchor=\"middle\" x=\"2423\" y=\"-349.8\" font-family=\"Helvetica,sans-Serif\" font-size=\"14.00\">class = Survived</text>\n</g>\n<!-- 69&#45;&gt;71 -->\n<g id=\"edge71\" class=\"edge\">\n<title>69-&gt;71</title>\n<path fill=\"none\" stroke=\"black\" d=\"M2354.07,-460.58C2361.95,-451.89 2370.33,-442.63 2378.45,-433.67\"/>\n<polygon fill=\"black\" stroke=\"black\" points=\"2380.99,-436.08 2385.11,-426.32 2375.8,-431.38 2380.99,-436.08\"/>\n</g>\n<!-- 72 -->\n<g id=\"node73\" class=\"node\">\n<title>72</title>\n<polygon fill=\"#83c2ef\" stroke=\"black\" points=\"2467,-306 2347,-306 2347,-223 2467,-223 2467,-306\"/>\n<text text-anchor=\"middle\" x=\"2407\" y=\"-290.8\" font-family=\"Helvetica,sans-Serif\" font-size=\"14.00\">Age &lt;= 25.5</text>\n<text text-anchor=\"middle\" x=\"2407\" y=\"-275.8\" font-family=\"Helvetica,sans-Serif\" font-size=\"14.00\">entropy = 0.845</text>\n<text text-anchor=\"middle\" x=\"2407\" y=\"-260.8\" font-family=\"Helvetica,sans-Serif\" font-size=\"14.00\">samples = 11</text>\n<text text-anchor=\"middle\" x=\"2407\" y=\"-245.8\" font-family=\"Helvetica,sans-Serif\" font-size=\"14.00\">value = [3, 8]</text>\n<text text-anchor=\"middle\" x=\"2407\" y=\"-230.8\" font-family=\"Helvetica,sans-Serif\" font-size=\"14.00\">class = Survived</text>\n</g>\n<!-- 71&#45;&gt;72 -->\n<g id=\"edge72\" class=\"edge\">\n<title>71-&gt;72</title>\n<path fill=\"none\" stroke=\"black\" d=\"M2417.4,-341.58C2416.34,-333.79 2415.21,-325.53 2414.1,-317.45\"/>\n<polygon fill=\"black\" stroke=\"black\" points=\"2417.59,-317.13 2412.77,-307.7 2410.66,-318.08 2417.59,-317.13\"/>\n</g>\n<!-- 79 -->\n<g id=\"node80\" class=\"node\">\n<title>79</title>\n<polygon fill=\"#48a4e7\" stroke=\"black\" points=\"2605,-306 2485,-306 2485,-223 2605,-223 2605,-306\"/>\n<text text-anchor=\"middle\" x=\"2545\" y=\"-290.8\" font-family=\"Helvetica,sans-Serif\" font-size=\"14.00\">Age &lt;= 37.0</text>\n<text text-anchor=\"middle\" x=\"2545\" y=\"-275.8\" font-family=\"Helvetica,sans-Serif\" font-size=\"14.00\">entropy = 0.365</text>\n<text text-anchor=\"middle\" x=\"2545\" y=\"-260.8\" font-family=\"Helvetica,sans-Serif\" font-size=\"14.00\">samples = 43</text>\n<text text-anchor=\"middle\" x=\"2545\" y=\"-245.8\" font-family=\"Helvetica,sans-Serif\" font-size=\"14.00\">value = [3, 40]</text>\n<text text-anchor=\"middle\" x=\"2545\" y=\"-230.8\" font-family=\"Helvetica,sans-Serif\" font-size=\"14.00\">class = Survived</text>\n</g>\n<!-- 71&#45;&gt;79 -->\n<g id=\"edge79\" class=\"edge\">\n<title>71-&gt;79</title>\n<path fill=\"none\" stroke=\"black\" d=\"M2465.67,-341.58C2474.92,-332.71 2484.78,-323.25 2494.31,-314.12\"/>\n<polygon fill=\"black\" stroke=\"black\" points=\"2496.67,-316.7 2501.47,-307.25 2491.83,-311.64 2496.67,-316.7\"/>\n</g>\n<!-- 73 -->\n<g id=\"node74\" class=\"node\">\n<title>73</title>\n<polygon fill=\"#5aade9\" stroke=\"black\" points=\"2331,-187 2211,-187 2211,-104 2331,-104 2331,-187\"/>\n<text text-anchor=\"middle\" x=\"2271\" y=\"-171.8\" font-family=\"Helvetica,sans-Serif\" font-size=\"14.00\">Fare &lt;= 13.75</text>\n<text text-anchor=\"middle\" x=\"2271\" y=\"-156.8\" font-family=\"Helvetica,sans-Serif\" font-size=\"14.00\">entropy = 0.592</text>\n<text text-anchor=\"middle\" x=\"2271\" y=\"-141.8\" font-family=\"Helvetica,sans-Serif\" font-size=\"14.00\">samples = 7</text>\n<text text-anchor=\"middle\" x=\"2271\" y=\"-126.8\" font-family=\"Helvetica,sans-Serif\" font-size=\"14.00\">value = [1, 6]</text>\n<text text-anchor=\"middle\" x=\"2271\" y=\"-111.8\" font-family=\"Helvetica,sans-Serif\" font-size=\"14.00\">class = Survived</text>\n</g>\n<!-- 72&#45;&gt;73 -->\n<g id=\"edge73\" class=\"edge\">\n<title>72-&gt;73</title>\n<path fill=\"none\" stroke=\"black\" d=\"M2359.43,-222.58C2348.92,-213.53 2337.68,-203.87 2326.87,-194.56\"/>\n<polygon fill=\"black\" stroke=\"black\" points=\"2329.32,-192.06 2319.46,-188.19 2324.76,-197.36 2329.32,-192.06\"/>\n</g>\n<!-- 76 -->\n<g id=\"node77\" class=\"node\">\n<title>76</title>\n<polygon fill=\"#ffffff\" stroke=\"black\" points=\"2465.5,-187 2350.5,-187 2350.5,-104 2465.5,-104 2465.5,-187\"/>\n<text text-anchor=\"middle\" x=\"2408\" y=\"-171.8\" font-family=\"Helvetica,sans-Serif\" font-size=\"14.00\">Fare &lt;= 17.429</text>\n<text text-anchor=\"middle\" x=\"2408\" y=\"-156.8\" font-family=\"Helvetica,sans-Serif\" font-size=\"14.00\">entropy = 1.0</text>\n<text text-anchor=\"middle\" x=\"2408\" y=\"-141.8\" font-family=\"Helvetica,sans-Serif\" font-size=\"14.00\">samples = 4</text>\n<text text-anchor=\"middle\" x=\"2408\" y=\"-126.8\" font-family=\"Helvetica,sans-Serif\" font-size=\"14.00\">value = [2, 2]</text>\n<text text-anchor=\"middle\" x=\"2408\" y=\"-111.8\" font-family=\"Helvetica,sans-Serif\" font-size=\"14.00\">class = Died</text>\n</g>\n<!-- 72&#45;&gt;76 -->\n<g id=\"edge76\" class=\"edge\">\n<title>72-&gt;76</title>\n<path fill=\"none\" stroke=\"black\" d=\"M2407.35,-222.58C2407.42,-214.79 2407.49,-206.53 2407.56,-198.45\"/>\n<polygon fill=\"black\" stroke=\"black\" points=\"2411.05,-198.74 2407.64,-188.71 2404.05,-198.68 2411.05,-198.74\"/>\n</g>\n<!-- 74 -->\n<g id=\"node75\" class=\"node\">\n<title>74</title>\n<polygon fill=\"#ffffff\" stroke=\"black\" points=\"2193,-68 2093,-68 2093,0 2193,0 2193,-68\"/>\n<text text-anchor=\"middle\" x=\"2143\" y=\"-52.8\" font-family=\"Helvetica,sans-Serif\" font-size=\"14.00\">entropy = 1.0</text>\n<text text-anchor=\"middle\" x=\"2143\" y=\"-37.8\" font-family=\"Helvetica,sans-Serif\" font-size=\"14.00\">samples = 2</text>\n<text text-anchor=\"middle\" x=\"2143\" y=\"-22.8\" font-family=\"Helvetica,sans-Serif\" font-size=\"14.00\">value = [1, 1]</text>\n<text text-anchor=\"middle\" x=\"2143\" y=\"-7.8\" font-family=\"Helvetica,sans-Serif\" font-size=\"14.00\">class = Died</text>\n</g>\n<!-- 73&#45;&gt;74 -->\n<g id=\"edge74\" class=\"edge\">\n<title>73-&gt;74</title>\n<path fill=\"none\" stroke=\"black\" d=\"M2223.34,-103.73C2212.57,-94.51 2201.14,-84.74 2190.38,-75.53\"/>\n<polygon fill=\"black\" stroke=\"black\" points=\"2192.95,-73.12 2183.08,-69.28 2188.4,-78.44 2192.95,-73.12\"/>\n</g>\n<!-- 75 -->\n<g id=\"node76\" class=\"node\">\n<title>75</title>\n<polygon fill=\"#399de5\" stroke=\"black\" points=\"2331,-68 2211,-68 2211,0 2331,0 2331,-68\"/>\n<text text-anchor=\"middle\" x=\"2271\" y=\"-52.8\" font-family=\"Helvetica,sans-Serif\" font-size=\"14.00\">entropy = 0.0</text>\n<text text-anchor=\"middle\" x=\"2271\" y=\"-37.8\" font-family=\"Helvetica,sans-Serif\" font-size=\"14.00\">samples = 5</text>\n<text text-anchor=\"middle\" x=\"2271\" y=\"-22.8\" font-family=\"Helvetica,sans-Serif\" font-size=\"14.00\">value = [0, 5]</text>\n<text text-anchor=\"middle\" x=\"2271\" y=\"-7.8\" font-family=\"Helvetica,sans-Serif\" font-size=\"14.00\">class = Survived</text>\n</g>\n<!-- 73&#45;&gt;75 -->\n<g id=\"edge75\" class=\"edge\">\n<title>73-&gt;75</title>\n<path fill=\"none\" stroke=\"black\" d=\"M2271,-103.73C2271,-95.88 2271,-87.63 2271,-79.67\"/>\n<polygon fill=\"black\" stroke=\"black\" points=\"2274.5,-79.81 2271,-69.81 2267.5,-79.81 2274.5,-79.81\"/>\n</g>\n<!-- 77 -->\n<g id=\"node78\" class=\"node\">\n<title>77</title>\n<polygon fill=\"#399de5\" stroke=\"black\" points=\"2469,-68 2349,-68 2349,0 2469,0 2469,-68\"/>\n<text text-anchor=\"middle\" x=\"2409\" y=\"-52.8\" font-family=\"Helvetica,sans-Serif\" font-size=\"14.00\">entropy = 0.0</text>\n<text text-anchor=\"middle\" x=\"2409\" y=\"-37.8\" font-family=\"Helvetica,sans-Serif\" font-size=\"14.00\">samples = 2</text>\n<text text-anchor=\"middle\" x=\"2409\" y=\"-22.8\" font-family=\"Helvetica,sans-Serif\" font-size=\"14.00\">value = [0, 2]</text>\n<text text-anchor=\"middle\" x=\"2409\" y=\"-7.8\" font-family=\"Helvetica,sans-Serif\" font-size=\"14.00\">class = Survived</text>\n</g>\n<!-- 76&#45;&gt;77 -->\n<g id=\"edge77\" class=\"edge\">\n<title>76-&gt;77</title>\n<path fill=\"none\" stroke=\"black\" d=\"M2408.37,-103.73C2408.44,-95.88 2408.52,-87.63 2408.59,-79.67\"/>\n<polygon fill=\"black\" stroke=\"black\" points=\"2412.09,-79.84 2408.68,-69.81 2405.09,-79.78 2412.09,-79.84\"/>\n</g>\n<!-- 78 -->\n<g id=\"node79\" class=\"node\">\n<title>78</title>\n<polygon fill=\"#e58139\" stroke=\"black\" points=\"2587,-68 2487,-68 2487,0 2587,0 2587,-68\"/>\n<text text-anchor=\"middle\" x=\"2537\" y=\"-52.8\" font-family=\"Helvetica,sans-Serif\" font-size=\"14.00\">entropy = 0.0</text>\n<text text-anchor=\"middle\" x=\"2537\" y=\"-37.8\" font-family=\"Helvetica,sans-Serif\" font-size=\"14.00\">samples = 2</text>\n<text text-anchor=\"middle\" x=\"2537\" y=\"-22.8\" font-family=\"Helvetica,sans-Serif\" font-size=\"14.00\">value = [2, 0]</text>\n<text text-anchor=\"middle\" x=\"2537\" y=\"-7.8\" font-family=\"Helvetica,sans-Serif\" font-size=\"14.00\">class = Died</text>\n</g>\n<!-- 76&#45;&gt;78 -->\n<g id=\"edge78\" class=\"edge\">\n<title>76-&gt;78</title>\n<path fill=\"none\" stroke=\"black\" d=\"M2456.03,-103.73C2466.89,-94.51 2478.41,-84.74 2489.25,-75.53\"/>\n<polygon fill=\"black\" stroke=\"black\" points=\"2491.26,-78.42 2496.62,-69.28 2486.73,-73.08 2491.26,-78.42\"/>\n</g>\n<!-- 80 -->\n<g id=\"node81\" class=\"node\">\n<title>80</title>\n<polygon fill=\"#399de5\" stroke=\"black\" points=\"2604,-179.5 2484,-179.5 2484,-111.5 2604,-111.5 2604,-179.5\"/>\n<text text-anchor=\"middle\" x=\"2544\" y=\"-164.3\" font-family=\"Helvetica,sans-Serif\" font-size=\"14.00\">entropy = 0.0</text>\n<text text-anchor=\"middle\" x=\"2544\" y=\"-149.3\" font-family=\"Helvetica,sans-Serif\" font-size=\"14.00\">samples = 24</text>\n<text text-anchor=\"middle\" x=\"2544\" y=\"-134.3\" font-family=\"Helvetica,sans-Serif\" font-size=\"14.00\">value = [0, 24]</text>\n<text text-anchor=\"middle\" x=\"2544\" y=\"-119.3\" font-family=\"Helvetica,sans-Serif\" font-size=\"14.00\">class = Survived</text>\n</g>\n<!-- 79&#45;&gt;80 -->\n<g id=\"edge80\" class=\"edge\">\n<title>79-&gt;80</title>\n<path fill=\"none\" stroke=\"black\" d=\"M2544.65,-222.58C2544.56,-212.43 2544.47,-201.5 2544.38,-191.18\"/>\n<polygon fill=\"black\" stroke=\"black\" points=\"2547.88,-191.34 2544.3,-181.37 2540.88,-191.4 2547.88,-191.34\"/>\n</g>\n<!-- 81 -->\n<g id=\"node82\" class=\"node\">\n<title>81</title>\n<polygon fill=\"#5eafea\" stroke=\"black\" points=\"2742,-187 2622,-187 2622,-104 2742,-104 2742,-187\"/>\n<text text-anchor=\"middle\" x=\"2682\" y=\"-171.8\" font-family=\"Helvetica,sans-Serif\" font-size=\"14.00\">Age &lt;= 39.0</text>\n<text text-anchor=\"middle\" x=\"2682\" y=\"-156.8\" font-family=\"Helvetica,sans-Serif\" font-size=\"14.00\">entropy = 0.629</text>\n<text text-anchor=\"middle\" x=\"2682\" y=\"-141.8\" font-family=\"Helvetica,sans-Serif\" font-size=\"14.00\">samples = 19</text>\n<text text-anchor=\"middle\" x=\"2682\" y=\"-126.8\" font-family=\"Helvetica,sans-Serif\" font-size=\"14.00\">value = [3, 16]</text>\n<text text-anchor=\"middle\" x=\"2682\" y=\"-111.8\" font-family=\"Helvetica,sans-Serif\" font-size=\"14.00\">class = Survived</text>\n</g>\n<!-- 79&#45;&gt;81 -->\n<g id=\"edge81\" class=\"edge\">\n<title>79-&gt;81</title>\n<path fill=\"none\" stroke=\"black\" d=\"M2592.92,-222.58C2603.51,-213.53 2614.83,-203.87 2625.72,-194.56\"/>\n<polygon fill=\"black\" stroke=\"black\" points=\"2627.86,-197.34 2633.19,-188.18 2623.31,-192.02 2627.86,-197.34\"/>\n</g>\n<!-- 82 -->\n<g id=\"node83\" class=\"node\">\n<title>82</title>\n<polygon fill=\"#e58139\" stroke=\"black\" points=\"2714,-68 2614,-68 2614,0 2714,0 2714,-68\"/>\n<text text-anchor=\"middle\" x=\"2664\" y=\"-52.8\" font-family=\"Helvetica,sans-Serif\" font-size=\"14.00\">entropy = 0.0</text>\n<text text-anchor=\"middle\" x=\"2664\" y=\"-37.8\" font-family=\"Helvetica,sans-Serif\" font-size=\"14.00\">samples = 1</text>\n<text text-anchor=\"middle\" x=\"2664\" y=\"-22.8\" font-family=\"Helvetica,sans-Serif\" font-size=\"14.00\">value = [1, 0]</text>\n<text text-anchor=\"middle\" x=\"2664\" y=\"-7.8\" font-family=\"Helvetica,sans-Serif\" font-size=\"14.00\">class = Died</text>\n</g>\n<!-- 81&#45;&gt;82 -->\n<g id=\"edge82\" class=\"edge\">\n<title>81-&gt;82</title>\n<path fill=\"none\" stroke=\"black\" d=\"M2675.3,-103.73C2673.99,-95.79 2672.62,-87.44 2671.3,-79.39\"/>\n<polygon fill=\"black\" stroke=\"black\" points=\"2674.8,-79.09 2669.72,-69.79 2667.89,-80.23 2674.8,-79.09\"/>\n</g>\n<!-- 83 -->\n<g id=\"node84\" class=\"node\">\n<title>83</title>\n<polygon fill=\"#52a9e8\" stroke=\"black\" points=\"2852,-68 2732,-68 2732,0 2852,0 2852,-68\"/>\n<text text-anchor=\"middle\" x=\"2792\" y=\"-52.8\" font-family=\"Helvetica,sans-Serif\" font-size=\"14.00\">entropy = 0.503</text>\n<text text-anchor=\"middle\" x=\"2792\" y=\"-37.8\" font-family=\"Helvetica,sans-Serif\" font-size=\"14.00\">samples = 18</text>\n<text text-anchor=\"middle\" x=\"2792\" y=\"-22.8\" font-family=\"Helvetica,sans-Serif\" font-size=\"14.00\">value = [2, 16]</text>\n<text text-anchor=\"middle\" x=\"2792\" y=\"-7.8\" font-family=\"Helvetica,sans-Serif\" font-size=\"14.00\">class = Survived</text>\n</g>\n<!-- 81&#45;&gt;83 -->\n<g id=\"edge83\" class=\"edge\">\n<title>81-&gt;83</title>\n<path fill=\"none\" stroke=\"black\" d=\"M2722.96,-103.73C2731.94,-94.79 2741.45,-85.32 2750.46,-76.36\"/>\n<polygon fill=\"black\" stroke=\"black\" points=\"2752.86,-78.9 2757.48,-69.37 2747.92,-73.94 2752.86,-78.9\"/>\n</g>\n<!-- 86 -->\n<g id=\"node87\" class=\"node\">\n<title>86</title>\n<polygon fill=\"#e58139\" stroke=\"black\" points=\"2623,-536.5 2523,-536.5 2523,-468.5 2623,-468.5 2623,-536.5\"/>\n<text text-anchor=\"middle\" x=\"2573\" y=\"-521.3\" font-family=\"Helvetica,sans-Serif\" font-size=\"14.00\">entropy = 0.0</text>\n<text text-anchor=\"middle\" x=\"2573\" y=\"-506.3\" font-family=\"Helvetica,sans-Serif\" font-size=\"14.00\">samples = 1</text>\n<text text-anchor=\"middle\" x=\"2573\" y=\"-491.3\" font-family=\"Helvetica,sans-Serif\" font-size=\"14.00\">value = [1, 0]</text>\n<text text-anchor=\"middle\" x=\"2573\" y=\"-476.3\" font-family=\"Helvetica,sans-Serif\" font-size=\"14.00\">class = Died</text>\n</g>\n<!-- 85&#45;&gt;86 -->\n<g id=\"edge86\" class=\"edge\">\n<title>85-&gt;86</title>\n<path fill=\"none\" stroke=\"black\" d=\"M2576.25,-579.58C2575.82,-569.43 2575.35,-558.5 2574.91,-548.18\"/>\n<polygon fill=\"black\" stroke=\"black\" points=\"2578.41,-548.21 2574.49,-538.37 2571.42,-548.51 2578.41,-548.21\"/>\n</g>\n<!-- 87 -->\n<g id=\"node88\" class=\"node\">\n<title>87</title>\n<polygon fill=\"#3b9ee5\" stroke=\"black\" points=\"2761,-544 2641,-544 2641,-461 2761,-461 2761,-544\"/>\n<text text-anchor=\"middle\" x=\"2701\" y=\"-528.8\" font-family=\"Helvetica,sans-Serif\" font-size=\"14.00\">Parch &lt;= 1.5</text>\n<text text-anchor=\"middle\" x=\"2701\" y=\"-513.8\" font-family=\"Helvetica,sans-Serif\" font-size=\"14.00\">entropy = 0.081</text>\n<text text-anchor=\"middle\" x=\"2701\" y=\"-498.8\" font-family=\"Helvetica,sans-Serif\" font-size=\"14.00\">samples = 99</text>\n<text text-anchor=\"middle\" x=\"2701\" y=\"-483.8\" font-family=\"Helvetica,sans-Serif\" font-size=\"14.00\">value = [1, 98]</text>\n<text text-anchor=\"middle\" x=\"2701\" y=\"-468.8\" font-family=\"Helvetica,sans-Serif\" font-size=\"14.00\">class = Survived</text>\n</g>\n<!-- 85&#45;&gt;87 -->\n<g id=\"edge87\" class=\"edge\">\n<title>85-&gt;87</title>\n<path fill=\"none\" stroke=\"black\" d=\"M2621.02,-579.58C2630.34,-570.71 2640.29,-561.25 2649.89,-552.12\"/>\n<polygon fill=\"black\" stroke=\"black\" points=\"2652.28,-554.67 2657.12,-545.24 2647.46,-549.6 2652.28,-554.67\"/>\n</g>\n<!-- 88 -->\n<g id=\"node89\" class=\"node\">\n<title>88</title>\n<polygon fill=\"#399de5\" stroke=\"black\" points=\"2707,-417.5 2587,-417.5 2587,-349.5 2707,-349.5 2707,-417.5\"/>\n<text text-anchor=\"middle\" x=\"2647\" y=\"-402.3\" font-family=\"Helvetica,sans-Serif\" font-size=\"14.00\">entropy = 0.0</text>\n<text text-anchor=\"middle\" x=\"2647\" y=\"-387.3\" font-family=\"Helvetica,sans-Serif\" font-size=\"14.00\">samples = 84</text>\n<text text-anchor=\"middle\" x=\"2647\" y=\"-372.3\" font-family=\"Helvetica,sans-Serif\" font-size=\"14.00\">value = [0, 84]</text>\n<text text-anchor=\"middle\" x=\"2647\" y=\"-357.3\" font-family=\"Helvetica,sans-Serif\" font-size=\"14.00\">class = Survived</text>\n</g>\n<!-- 87&#45;&gt;88 -->\n<g id=\"edge88\" class=\"edge\">\n<title>87-&gt;88</title>\n<path fill=\"none\" stroke=\"black\" d=\"M2682.11,-460.58C2677.28,-450.1 2672.06,-438.79 2667.16,-428.18\"/>\n<polygon fill=\"black\" stroke=\"black\" points=\"2670.4,-426.85 2663.03,-419.24 2664.04,-429.78 2670.4,-426.85\"/>\n</g>\n<!-- 89 -->\n<g id=\"node90\" class=\"node\">\n<title>89</title>\n<polygon fill=\"#47a4e7\" stroke=\"black\" points=\"2845,-425 2725,-425 2725,-342 2845,-342 2845,-425\"/>\n<text text-anchor=\"middle\" x=\"2785\" y=\"-409.8\" font-family=\"Helvetica,sans-Serif\" font-size=\"14.00\">Age &lt;= 24.5</text>\n<text text-anchor=\"middle\" x=\"2785\" y=\"-394.8\" font-family=\"Helvetica,sans-Serif\" font-size=\"14.00\">entropy = 0.353</text>\n<text text-anchor=\"middle\" x=\"2785\" y=\"-379.8\" font-family=\"Helvetica,sans-Serif\" font-size=\"14.00\">samples = 15</text>\n<text text-anchor=\"middle\" x=\"2785\" y=\"-364.8\" font-family=\"Helvetica,sans-Serif\" font-size=\"14.00\">value = [1, 14]</text>\n<text text-anchor=\"middle\" x=\"2785\" y=\"-349.8\" font-family=\"Helvetica,sans-Serif\" font-size=\"14.00\">class = Survived</text>\n</g>\n<!-- 87&#45;&gt;89 -->\n<g id=\"edge89\" class=\"edge\">\n<title>87-&gt;89</title>\n<path fill=\"none\" stroke=\"black\" d=\"M2730.38,-460.58C2736.42,-452.16 2742.85,-443.2 2749.1,-434.5\"/>\n<polygon fill=\"black\" stroke=\"black\" points=\"2751.91,-436.59 2754.9,-426.43 2746.22,-432.51 2751.91,-436.59\"/>\n</g>\n<!-- 90 -->\n<g id=\"node91\" class=\"node\">\n<title>90</title>\n<polygon fill=\"#399de5\" stroke=\"black\" points=\"2794,-298.5 2674,-298.5 2674,-230.5 2794,-230.5 2794,-298.5\"/>\n<text text-anchor=\"middle\" x=\"2734\" y=\"-283.3\" font-family=\"Helvetica,sans-Serif\" font-size=\"14.00\">entropy = 0.0</text>\n<text text-anchor=\"middle\" x=\"2734\" y=\"-268.3\" font-family=\"Helvetica,sans-Serif\" font-size=\"14.00\">samples = 10</text>\n<text text-anchor=\"middle\" x=\"2734\" y=\"-253.3\" font-family=\"Helvetica,sans-Serif\" font-size=\"14.00\">value = [0, 10]</text>\n<text text-anchor=\"middle\" x=\"2734\" y=\"-238.3\" font-family=\"Helvetica,sans-Serif\" font-size=\"14.00\">class = Survived</text>\n</g>\n<!-- 89&#45;&gt;90 -->\n<g id=\"edge90\" class=\"edge\">\n<title>89-&gt;90</title>\n<path fill=\"none\" stroke=\"black\" d=\"M2767.16,-341.58C2762.6,-331.1 2757.67,-319.79 2753.04,-309.18\"/>\n<polygon fill=\"black\" stroke=\"black\" points=\"2756.35,-308.02 2749.15,-300.25 2749.93,-310.81 2756.35,-308.02\"/>\n</g>\n<!-- 91 -->\n<g id=\"node92\" class=\"node\">\n<title>91</title>\n<polygon fill=\"#6ab6ec\" stroke=\"black\" points=\"2932,-306 2812,-306 2812,-223 2932,-223 2932,-306\"/>\n<text text-anchor=\"middle\" x=\"2872\" y=\"-290.8\" font-family=\"Helvetica,sans-Serif\" font-size=\"14.00\">Age &lt;= 28.0</text>\n<text text-anchor=\"middle\" x=\"2872\" y=\"-275.8\" font-family=\"Helvetica,sans-Serif\" font-size=\"14.00\">entropy = 0.722</text>\n<text text-anchor=\"middle\" x=\"2872\" y=\"-260.8\" font-family=\"Helvetica,sans-Serif\" font-size=\"14.00\">samples = 5</text>\n<text text-anchor=\"middle\" x=\"2872\" y=\"-245.8\" font-family=\"Helvetica,sans-Serif\" font-size=\"14.00\">value = [1, 4]</text>\n<text text-anchor=\"middle\" x=\"2872\" y=\"-230.8\" font-family=\"Helvetica,sans-Serif\" font-size=\"14.00\">class = Survived</text>\n</g>\n<!-- 89&#45;&gt;91 -->\n<g id=\"edge91\" class=\"edge\">\n<title>89-&gt;91</title>\n<path fill=\"none\" stroke=\"black\" d=\"M2815.43,-341.58C2821.76,-333.07 2828.49,-324.01 2835.02,-315.23\"/>\n<polygon fill=\"black\" stroke=\"black\" points=\"2837.67,-317.53 2840.83,-307.41 2832.06,-313.35 2837.67,-317.53\"/>\n</g>\n<!-- 92 -->\n<g id=\"node93\" class=\"node\">\n<title>92</title>\n<polygon fill=\"#e58139\" stroke=\"black\" points=\"2860,-179.5 2760,-179.5 2760,-111.5 2860,-111.5 2860,-179.5\"/>\n<text text-anchor=\"middle\" x=\"2810\" y=\"-164.3\" font-family=\"Helvetica,sans-Serif\" font-size=\"14.00\">entropy = 0.0</text>\n<text text-anchor=\"middle\" x=\"2810\" y=\"-149.3\" font-family=\"Helvetica,sans-Serif\" font-size=\"14.00\">samples = 1</text>\n<text text-anchor=\"middle\" x=\"2810\" y=\"-134.3\" font-family=\"Helvetica,sans-Serif\" font-size=\"14.00\">value = [1, 0]</text>\n<text text-anchor=\"middle\" x=\"2810\" y=\"-119.3\" font-family=\"Helvetica,sans-Serif\" font-size=\"14.00\">class = Died</text>\n</g>\n<!-- 91&#45;&gt;92 -->\n<g id=\"edge92\" class=\"edge\">\n<title>91-&gt;92</title>\n<path fill=\"none\" stroke=\"black\" d=\"M2850.32,-222.58C2844.71,-211.99 2838.65,-200.56 2832.97,-189.85\"/>\n<polygon fill=\"black\" stroke=\"black\" points=\"2836.16,-188.4 2828.39,-181.2 2829.98,-191.67 2836.16,-188.4\"/>\n</g>\n<!-- 93 -->\n<g id=\"node94\" class=\"node\">\n<title>93</title>\n<polygon fill=\"#399de5\" stroke=\"black\" points=\"2998,-179.5 2878,-179.5 2878,-111.5 2998,-111.5 2998,-179.5\"/>\n<text text-anchor=\"middle\" x=\"2938\" y=\"-164.3\" font-family=\"Helvetica,sans-Serif\" font-size=\"14.00\">entropy = 0.0</text>\n<text text-anchor=\"middle\" x=\"2938\" y=\"-149.3\" font-family=\"Helvetica,sans-Serif\" font-size=\"14.00\">samples = 4</text>\n<text text-anchor=\"middle\" x=\"2938\" y=\"-134.3\" font-family=\"Helvetica,sans-Serif\" font-size=\"14.00\">value = [0, 4]</text>\n<text text-anchor=\"middle\" x=\"2938\" y=\"-119.3\" font-family=\"Helvetica,sans-Serif\" font-size=\"14.00\">class = Survived</text>\n</g>\n<!-- 91&#45;&gt;93 -->\n<g id=\"edge93\" class=\"edge\">\n<title>91-&gt;93</title>\n<path fill=\"none\" stroke=\"black\" d=\"M2895.08,-222.58C2901.06,-211.99 2907.51,-200.56 2913.54,-189.85\"/>\n<polygon fill=\"black\" stroke=\"black\" points=\"2916.57,-191.61 2918.44,-181.18 2910.48,-188.17 2916.57,-191.61\"/>\n</g>\n<!-- 95 -->\n<g id=\"node96\" class=\"node\">\n<title>95</title>\n<polygon fill=\"#c3e1f7\" stroke=\"black\" points=\"3608,-663 3488,-663 3488,-580 3608,-580 3608,-663\"/>\n<text text-anchor=\"middle\" x=\"3548\" y=\"-647.8\" font-family=\"Helvetica,sans-Serif\" font-size=\"14.00\">Age &lt;= 36.5</text>\n<text text-anchor=\"middle\" x=\"3548\" y=\"-632.8\" font-family=\"Helvetica,sans-Serif\" font-size=\"14.00\">entropy = 0.977</text>\n<text text-anchor=\"middle\" x=\"3548\" y=\"-617.8\" font-family=\"Helvetica,sans-Serif\" font-size=\"14.00\">samples = 117</text>\n<text text-anchor=\"middle\" x=\"3548\" y=\"-602.8\" font-family=\"Helvetica,sans-Serif\" font-size=\"14.00\">value = [48, 69]</text>\n<text text-anchor=\"middle\" x=\"3548\" y=\"-587.8\" font-family=\"Helvetica,sans-Serif\" font-size=\"14.00\">class = Survived</text>\n</g>\n<!-- 94&#45;&gt;95 -->\n<g id=\"edge95\" class=\"edge\">\n<title>94-&gt;95</title>\n<path fill=\"none\" stroke=\"black\" d=\"M3548,-698.58C3548,-690.79 3548,-682.53 3548,-674.45\"/>\n<polygon fill=\"black\" stroke=\"black\" points=\"3551.5,-674.71 3548,-664.71 3544.5,-674.71 3551.5,-674.71\"/>\n</g>\n<!-- 118 -->\n<g id=\"node119\" class=\"node\">\n<title>118</title>\n<polygon fill=\"#e89152\" stroke=\"black\" points=\"3816,-663 3700,-663 3700,-580 3816,-580 3816,-663\"/>\n<text text-anchor=\"middle\" x=\"3758\" y=\"-647.8\" font-family=\"Helvetica,sans-Serif\" font-size=\"14.00\">Parch &lt;= 0.5</text>\n<text text-anchor=\"middle\" x=\"3758\" y=\"-632.8\" font-family=\"Helvetica,sans-Serif\" font-size=\"14.00\">entropy = 0.503</text>\n<text text-anchor=\"middle\" x=\"3758\" y=\"-617.8\" font-family=\"Helvetica,sans-Serif\" font-size=\"14.00\">samples = 27</text>\n<text text-anchor=\"middle\" x=\"3758\" y=\"-602.8\" font-family=\"Helvetica,sans-Serif\" font-size=\"14.00\">value = [24, 3]</text>\n<text text-anchor=\"middle\" x=\"3758\" y=\"-587.8\" font-family=\"Helvetica,sans-Serif\" font-size=\"14.00\">class = Died</text>\n</g>\n<!-- 94&#45;&gt;118 -->\n<g id=\"edge118\" class=\"edge\">\n<title>94-&gt;118</title>\n<path fill=\"none\" stroke=\"black\" d=\"M3604.83,-707.84C3631.01,-693.25 3662.29,-675.82 3689.74,-660.53\"/>\n<polygon fill=\"black\" stroke=\"black\" points=\"3691.31,-663.66 3698.34,-655.74 3687.9,-657.55 3691.31,-663.66\"/>\n</g>\n<!-- 96 -->\n<g id=\"node97\" class=\"node\">\n<title>96</title>\n<polygon fill=\"#b3daf5\" stroke=\"black\" points=\"3546,-544 3402,-544 3402,-461 3546,-461 3546,-544\"/>\n<text text-anchor=\"middle\" x=\"3474\" y=\"-528.8\" font-family=\"Helvetica,sans-Serif\" font-size=\"14.00\">Embarked_S &lt;= 0.5</text>\n<text text-anchor=\"middle\" x=\"3474\" y=\"-513.8\" font-family=\"Helvetica,sans-Serif\" font-size=\"14.00\">entropy = 0.959</text>\n<text text-anchor=\"middle\" x=\"3474\" y=\"-498.8\" font-family=\"Helvetica,sans-Serif\" font-size=\"14.00\">samples = 110</text>\n<text text-anchor=\"middle\" x=\"3474\" y=\"-483.8\" font-family=\"Helvetica,sans-Serif\" font-size=\"14.00\">value = [42, 68]</text>\n<text text-anchor=\"middle\" x=\"3474\" y=\"-468.8\" font-family=\"Helvetica,sans-Serif\" font-size=\"14.00\">class = Survived</text>\n</g>\n<!-- 95&#45;&gt;96 -->\n<g id=\"edge96\" class=\"edge\">\n<title>95-&gt;96</title>\n<path fill=\"none\" stroke=\"black\" d=\"M3522.12,-579.58C3516.85,-571.25 3511.25,-562.39 3505.8,-553.78\"/>\n<polygon fill=\"black\" stroke=\"black\" points=\"3508.85,-552.06 3500.55,-545.48 3502.94,-555.8 3508.85,-552.06\"/>\n</g>\n<!-- 115 -->\n<g id=\"node116\" class=\"node\">\n<title>115</title>\n<polygon fill=\"#e9965a\" stroke=\"black\" points=\"3680,-544 3564,-544 3564,-461 3680,-461 3680,-544\"/>\n<text text-anchor=\"middle\" x=\"3622\" y=\"-528.8\" font-family=\"Helvetica,sans-Serif\" font-size=\"14.00\">Age &lt;= 55.0</text>\n<text text-anchor=\"middle\" x=\"3622\" y=\"-513.8\" font-family=\"Helvetica,sans-Serif\" font-size=\"14.00\">entropy = 0.592</text>\n<text text-anchor=\"middle\" x=\"3622\" y=\"-498.8\" font-family=\"Helvetica,sans-Serif\" font-size=\"14.00\">samples = 7</text>\n<text text-anchor=\"middle\" x=\"3622\" y=\"-483.8\" font-family=\"Helvetica,sans-Serif\" font-size=\"14.00\">value = [6, 1]</text>\n<text text-anchor=\"middle\" x=\"3622\" y=\"-468.8\" font-family=\"Helvetica,sans-Serif\" font-size=\"14.00\">class = Died</text>\n</g>\n<!-- 95&#45;&gt;115 -->\n<g id=\"edge115\" class=\"edge\">\n<title>95-&gt;115</title>\n<path fill=\"none\" stroke=\"black\" d=\"M3573.88,-579.58C3579.15,-571.25 3584.75,-562.39 3590.2,-553.78\"/>\n<polygon fill=\"black\" stroke=\"black\" points=\"3593.06,-555.8 3595.45,-545.48 3587.15,-552.06 3593.06,-555.8\"/>\n</g>\n<!-- 97 -->\n<g id=\"node98\" class=\"node\">\n<title>97</title>\n<polygon fill=\"#87c4ef\" stroke=\"black\" points=\"3416,-425 3296,-425 3296,-342 3416,-342 3416,-425\"/>\n<text text-anchor=\"middle\" x=\"3356\" y=\"-409.8\" font-family=\"Helvetica,sans-Serif\" font-size=\"14.00\">Fare &lt;= 15.621</text>\n<text text-anchor=\"middle\" x=\"3356\" y=\"-394.8\" font-family=\"Helvetica,sans-Serif\" font-size=\"14.00\">entropy = 0.86</text>\n<text text-anchor=\"middle\" x=\"3356\" y=\"-379.8\" font-family=\"Helvetica,sans-Serif\" font-size=\"14.00\">samples = 53</text>\n<text text-anchor=\"middle\" x=\"3356\" y=\"-364.8\" font-family=\"Helvetica,sans-Serif\" font-size=\"14.00\">value = [15, 38]</text>\n<text text-anchor=\"middle\" x=\"3356\" y=\"-349.8\" font-family=\"Helvetica,sans-Serif\" font-size=\"14.00\">class = Survived</text>\n</g>\n<!-- 96&#45;&gt;97 -->\n<g id=\"edge97\" class=\"edge\">\n<title>96-&gt;97</title>\n<path fill=\"none\" stroke=\"black\" d=\"M3432.73,-460.58C3423.79,-451.71 3414.24,-442.25 3405.03,-433.12\"/>\n<polygon fill=\"black\" stroke=\"black\" points=\"3407.69,-430.82 3398.12,-426.27 3402.76,-435.79 3407.69,-430.82\"/>\n</g>\n<!-- 106 -->\n<g id=\"node107\" class=\"node\">\n<title>106</title>\n<polygon fill=\"#ebf5fc\" stroke=\"black\" points=\"3554,-425 3434,-425 3434,-342 3554,-342 3554,-425\"/>\n<text text-anchor=\"middle\" x=\"3494\" y=\"-409.8\" font-family=\"Helvetica,sans-Serif\" font-size=\"14.00\">Age &lt;= 32.0</text>\n<text text-anchor=\"middle\" x=\"3494\" y=\"-394.8\" font-family=\"Helvetica,sans-Serif\" font-size=\"14.00\">entropy = 0.998</text>\n<text text-anchor=\"middle\" x=\"3494\" y=\"-379.8\" font-family=\"Helvetica,sans-Serif\" font-size=\"14.00\">samples = 57</text>\n<text text-anchor=\"middle\" x=\"3494\" y=\"-364.8\" font-family=\"Helvetica,sans-Serif\" font-size=\"14.00\">value = [27, 30]</text>\n<text text-anchor=\"middle\" x=\"3494\" y=\"-349.8\" font-family=\"Helvetica,sans-Serif\" font-size=\"14.00\">class = Survived</text>\n</g>\n<!-- 96&#45;&gt;106 -->\n<g id=\"edge106\" class=\"edge\">\n<title>96-&gt;106</title>\n<path fill=\"none\" stroke=\"black\" d=\"M3481,-460.58C3482.33,-452.79 3483.74,-444.53 3485.12,-436.45\"/>\n<polygon fill=\"black\" stroke=\"black\" points=\"3488.55,-437.14 3486.79,-426.69 3481.65,-435.96 3488.55,-437.14\"/>\n</g>\n<!-- 98 -->\n<g id=\"node99\" class=\"node\">\n<title>98</title>\n<polygon fill=\"#9ccef2\" stroke=\"black\" points=\"3279,-306 3159,-306 3159,-223 3279,-223 3279,-306\"/>\n<text text-anchor=\"middle\" x=\"3219\" y=\"-290.8\" font-family=\"Helvetica,sans-Serif\" font-size=\"14.00\">Fare &lt;= 13.935</text>\n<text text-anchor=\"middle\" x=\"3219\" y=\"-275.8\" font-family=\"Helvetica,sans-Serif\" font-size=\"14.00\">entropy = 0.918</text>\n<text text-anchor=\"middle\" x=\"3219\" y=\"-260.8\" font-family=\"Helvetica,sans-Serif\" font-size=\"14.00\">samples = 45</text>\n<text text-anchor=\"middle\" x=\"3219\" y=\"-245.8\" font-family=\"Helvetica,sans-Serif\" font-size=\"14.00\">value = [15, 30]</text>\n<text text-anchor=\"middle\" x=\"3219\" y=\"-230.8\" font-family=\"Helvetica,sans-Serif\" font-size=\"14.00\">class = Survived</text>\n</g>\n<!-- 97&#45;&gt;98 -->\n<g id=\"edge98\" class=\"edge\">\n<title>97-&gt;98</title>\n<path fill=\"none\" stroke=\"black\" d=\"M3308.08,-341.58C3297.49,-332.53 3286.17,-322.87 3275.28,-313.56\"/>\n<polygon fill=\"black\" stroke=\"black\" points=\"3277.69,-311.02 3267.81,-307.18 3273.14,-316.34 3277.69,-311.02\"/>\n</g>\n<!-- 105 -->\n<g id=\"node106\" class=\"node\">\n<title>105</title>\n<polygon fill=\"#399de5\" stroke=\"black\" points=\"3417,-298.5 3297,-298.5 3297,-230.5 3417,-230.5 3417,-298.5\"/>\n<text text-anchor=\"middle\" x=\"3357\" y=\"-283.3\" font-family=\"Helvetica,sans-Serif\" font-size=\"14.00\">entropy = 0.0</text>\n<text text-anchor=\"middle\" x=\"3357\" y=\"-268.3\" font-family=\"Helvetica,sans-Serif\" font-size=\"14.00\">samples = 8</text>\n<text text-anchor=\"middle\" x=\"3357\" y=\"-253.3\" font-family=\"Helvetica,sans-Serif\" font-size=\"14.00\">value = [0, 8]</text>\n<text text-anchor=\"middle\" x=\"3357\" y=\"-238.3\" font-family=\"Helvetica,sans-Serif\" font-size=\"14.00\">class = Survived</text>\n</g>\n<!-- 97&#45;&gt;105 -->\n<g id=\"edge105\" class=\"edge\">\n<title>97-&gt;105</title>\n<path fill=\"none\" stroke=\"black\" d=\"M3356.35,-341.58C3356.44,-331.43 3356.53,-320.5 3356.62,-310.18\"/>\n<polygon fill=\"black\" stroke=\"black\" points=\"3360.12,-310.4 3356.7,-300.37 3353.12,-310.34 3360.12,-310.4\"/>\n</g>\n<!-- 99 -->\n<g id=\"node100\" class=\"node\">\n<title>99</title>\n<polygon fill=\"#70b8ec\" stroke=\"black\" points=\"3136,-187 3016,-187 3016,-104 3136,-104 3136,-187\"/>\n<text text-anchor=\"middle\" x=\"3076\" y=\"-171.8\" font-family=\"Helvetica,sans-Serif\" font-size=\"14.00\">Age &lt;= 17.0</text>\n<text text-anchor=\"middle\" x=\"3076\" y=\"-156.8\" font-family=\"Helvetica,sans-Serif\" font-size=\"14.00\">entropy = 0.758</text>\n<text text-anchor=\"middle\" x=\"3076\" y=\"-141.8\" font-family=\"Helvetica,sans-Serif\" font-size=\"14.00\">samples = 32</text>\n<text text-anchor=\"middle\" x=\"3076\" y=\"-126.8\" font-family=\"Helvetica,sans-Serif\" font-size=\"14.00\">value = [7, 25]</text>\n<text text-anchor=\"middle\" x=\"3076\" y=\"-111.8\" font-family=\"Helvetica,sans-Serif\" font-size=\"14.00\">class = Survived</text>\n</g>\n<!-- 98&#45;&gt;99 -->\n<g id=\"edge99\" class=\"edge\">\n<title>98-&gt;99</title>\n<path fill=\"none\" stroke=\"black\" d=\"M3168.99,-222.58C3157.82,-213.44 3145.88,-203.67 3134.41,-194.29\"/>\n<polygon fill=\"black\" stroke=\"black\" points=\"3136.87,-191.78 3126.92,-188.16 3132.44,-197.2 3136.87,-191.78\"/>\n</g>\n<!-- 102 -->\n<g id=\"node103\" class=\"node\">\n<title>102</title>\n<polygon fill=\"#f5d0b5\" stroke=\"black\" points=\"3299.5,-187 3154.5,-187 3154.5,-104 3299.5,-104 3299.5,-187\"/>\n<text text-anchor=\"middle\" x=\"3227\" y=\"-171.8\" font-family=\"Helvetica,sans-Serif\" font-size=\"14.00\">Embarked_C &lt;= 0.5</text>\n<text text-anchor=\"middle\" x=\"3227\" y=\"-156.8\" font-family=\"Helvetica,sans-Serif\" font-size=\"14.00\">entropy = 0.961</text>\n<text text-anchor=\"middle\" x=\"3227\" y=\"-141.8\" font-family=\"Helvetica,sans-Serif\" font-size=\"14.00\">samples = 13</text>\n<text text-anchor=\"middle\" x=\"3227\" y=\"-126.8\" font-family=\"Helvetica,sans-Serif\" font-size=\"14.00\">value = [8, 5]</text>\n<text text-anchor=\"middle\" x=\"3227\" y=\"-111.8\" font-family=\"Helvetica,sans-Serif\" font-size=\"14.00\">class = Died</text>\n</g>\n<!-- 98&#45;&gt;102 -->\n<g id=\"edge102\" class=\"edge\">\n<title>98-&gt;102</title>\n<path fill=\"none\" stroke=\"black\" d=\"M3221.8,-222.58C3222.33,-214.79 3222.9,-206.53 3223.45,-198.45\"/>\n<polygon fill=\"black\" stroke=\"black\" points=\"3226.92,-198.93 3224.11,-188.71 3219.94,-198.45 3226.92,-198.93\"/>\n</g>\n<!-- 100 -->\n<g id=\"node101\" class=\"node\">\n<title>100</title>\n<polygon fill=\"#399de5\" stroke=\"black\" points=\"2998,-68 2878,-68 2878,0 2998,0 2998,-68\"/>\n<text text-anchor=\"middle\" x=\"2938\" y=\"-52.8\" font-family=\"Helvetica,sans-Serif\" font-size=\"14.00\">entropy = 0.0</text>\n<text text-anchor=\"middle\" x=\"2938\" y=\"-37.8\" font-family=\"Helvetica,sans-Serif\" font-size=\"14.00\">samples = 7</text>\n<text text-anchor=\"middle\" x=\"2938\" y=\"-22.8\" font-family=\"Helvetica,sans-Serif\" font-size=\"14.00\">value = [0, 7]</text>\n<text text-anchor=\"middle\" x=\"2938\" y=\"-7.8\" font-family=\"Helvetica,sans-Serif\" font-size=\"14.00\">class = Survived</text>\n</g>\n<!-- 99&#45;&gt;100 -->\n<g id=\"edge100\" class=\"edge\">\n<title>99-&gt;100</title>\n<path fill=\"none\" stroke=\"black\" d=\"M3024.61,-103.73C3012.89,-94.42 3000.44,-84.54 2988.74,-75.26\"/>\n<polygon fill=\"black\" stroke=\"black\" points=\"2991.16,-72.71 2981.15,-69.24 2986.81,-78.2 2991.16,-72.71\"/>\n</g>\n<!-- 101 -->\n<g id=\"node102\" class=\"node\">\n<title>101</title>\n<polygon fill=\"#86c3ef\" stroke=\"black\" points=\"3136,-68 3016,-68 3016,0 3136,0 3136,-68\"/>\n<text text-anchor=\"middle\" x=\"3076\" y=\"-52.8\" font-family=\"Helvetica,sans-Serif\" font-size=\"14.00\">entropy = 0.855</text>\n<text text-anchor=\"middle\" x=\"3076\" y=\"-37.8\" font-family=\"Helvetica,sans-Serif\" font-size=\"14.00\">samples = 25</text>\n<text text-anchor=\"middle\" x=\"3076\" y=\"-22.8\" font-family=\"Helvetica,sans-Serif\" font-size=\"14.00\">value = [7, 18]</text>\n<text text-anchor=\"middle\" x=\"3076\" y=\"-7.8\" font-family=\"Helvetica,sans-Serif\" font-size=\"14.00\">class = Survived</text>\n</g>\n<!-- 99&#45;&gt;101 -->\n<g id=\"edge101\" class=\"edge\">\n<title>99-&gt;101</title>\n<path fill=\"none\" stroke=\"black\" d=\"M3076,-103.73C3076,-95.88 3076,-87.63 3076,-79.67\"/>\n<polygon fill=\"black\" stroke=\"black\" points=\"3079.5,-79.81 3076,-69.81 3072.5,-79.81 3079.5,-79.81\"/>\n</g>\n<!-- 103 -->\n<g id=\"node104\" class=\"node\">\n<title>103</title>\n<polygon fill=\"#7bbeee\" stroke=\"black\" points=\"3274,-68 3154,-68 3154,0 3274,0 3274,-68\"/>\n<text text-anchor=\"middle\" x=\"3214\" y=\"-52.8\" font-family=\"Helvetica,sans-Serif\" font-size=\"14.00\">entropy = 0.811</text>\n<text text-anchor=\"middle\" x=\"3214\" y=\"-37.8\" font-family=\"Helvetica,sans-Serif\" font-size=\"14.00\">samples = 4</text>\n<text text-anchor=\"middle\" x=\"3214\" y=\"-22.8\" font-family=\"Helvetica,sans-Serif\" font-size=\"14.00\">value = [1, 3]</text>\n<text text-anchor=\"middle\" x=\"3214\" y=\"-7.8\" font-family=\"Helvetica,sans-Serif\" font-size=\"14.00\">class = Survived</text>\n</g>\n<!-- 102&#45;&gt;103 -->\n<g id=\"edge103\" class=\"edge\">\n<title>102-&gt;103</title>\n<path fill=\"none\" stroke=\"black\" d=\"M3222.16,-103.73C3221.23,-95.88 3220.25,-87.63 3219.3,-79.67\"/>\n<polygon fill=\"black\" stroke=\"black\" points=\"3222.79,-79.32 3218.13,-69.8 3215.84,-80.15 3222.79,-79.32\"/>\n</g>\n<!-- 104 -->\n<g id=\"node105\" class=\"node\">\n<title>104</title>\n<polygon fill=\"#eca572\" stroke=\"black\" points=\"3408,-68 3292,-68 3292,0 3408,0 3408,-68\"/>\n<text text-anchor=\"middle\" x=\"3350\" y=\"-52.8\" font-family=\"Helvetica,sans-Serif\" font-size=\"14.00\">entropy = 0.764</text>\n<text text-anchor=\"middle\" x=\"3350\" y=\"-37.8\" font-family=\"Helvetica,sans-Serif\" font-size=\"14.00\">samples = 9</text>\n<text text-anchor=\"middle\" x=\"3350\" y=\"-22.8\" font-family=\"Helvetica,sans-Serif\" font-size=\"14.00\">value = [7, 2]</text>\n<text text-anchor=\"middle\" x=\"3350\" y=\"-7.8\" font-family=\"Helvetica,sans-Serif\" font-size=\"14.00\">class = Died</text>\n</g>\n<!-- 102&#45;&gt;104 -->\n<g id=\"edge104\" class=\"edge\">\n<title>102-&gt;104</title>\n<path fill=\"none\" stroke=\"black\" d=\"M3272.8,-103.73C3283.05,-94.61 3293.91,-84.93 3304.16,-75.81\"/>\n<polygon fill=\"black\" stroke=\"black\" points=\"3306.32,-78.57 3311.46,-69.31 3301.67,-73.34 3306.32,-78.57\"/>\n</g>\n<!-- 107 -->\n<g id=\"node108\" class=\"node\">\n<title>107</title>\n<polygon fill=\"#ffffff\" stroke=\"black\" points=\"3550.5,-306 3437.5,-306 3437.5,-223 3550.5,-223 3550.5,-306\"/>\n<text text-anchor=\"middle\" x=\"3494\" y=\"-290.8\" font-family=\"Helvetica,sans-Serif\" font-size=\"14.00\">Fare &lt;= 7.763</text>\n<text text-anchor=\"middle\" x=\"3494\" y=\"-275.8\" font-family=\"Helvetica,sans-Serif\" font-size=\"14.00\">entropy = 1.0</text>\n<text text-anchor=\"middle\" x=\"3494\" y=\"-260.8\" font-family=\"Helvetica,sans-Serif\" font-size=\"14.00\">samples = 54</text>\n<text text-anchor=\"middle\" x=\"3494\" y=\"-245.8\" font-family=\"Helvetica,sans-Serif\" font-size=\"14.00\">value = [27, 27]</text>\n<text text-anchor=\"middle\" x=\"3494\" y=\"-230.8\" font-family=\"Helvetica,sans-Serif\" font-size=\"14.00\">class = Died</text>\n</g>\n<!-- 106&#45;&gt;107 -->\n<g id=\"edge107\" class=\"edge\">\n<title>106-&gt;107</title>\n<path fill=\"none\" stroke=\"black\" d=\"M3494,-341.58C3494,-333.79 3494,-325.53 3494,-317.45\"/>\n<polygon fill=\"black\" stroke=\"black\" points=\"3497.5,-317.71 3494,-307.71 3490.5,-317.71 3497.5,-317.71\"/>\n</g>\n<!-- 114 -->\n<g id=\"node115\" class=\"node\">\n<title>114</title>\n<polygon fill=\"#399de5\" stroke=\"black\" points=\"3689,-298.5 3569,-298.5 3569,-230.5 3689,-230.5 3689,-298.5\"/>\n<text text-anchor=\"middle\" x=\"3629\" y=\"-283.3\" font-family=\"Helvetica,sans-Serif\" font-size=\"14.00\">entropy = 0.0</text>\n<text text-anchor=\"middle\" x=\"3629\" y=\"-268.3\" font-family=\"Helvetica,sans-Serif\" font-size=\"14.00\">samples = 3</text>\n<text text-anchor=\"middle\" x=\"3629\" y=\"-253.3\" font-family=\"Helvetica,sans-Serif\" font-size=\"14.00\">value = [0, 3]</text>\n<text text-anchor=\"middle\" x=\"3629\" y=\"-238.3\" font-family=\"Helvetica,sans-Serif\" font-size=\"14.00\">class = Survived</text>\n</g>\n<!-- 106&#45;&gt;114 -->\n<g id=\"edge114\" class=\"edge\">\n<title>106-&gt;114</title>\n<path fill=\"none\" stroke=\"black\" d=\"M3541.22,-341.58C3554.44,-330.12 3568.81,-317.67 3582.02,-306.22\"/>\n<polygon fill=\"black\" stroke=\"black\" points=\"3584.1,-309.05 3589.36,-299.85 3579.51,-303.76 3584.1,-309.05\"/>\n</g>\n<!-- 108 -->\n<g id=\"node109\" class=\"node\">\n<title>108</title>\n<polygon fill=\"#61b1ea\" stroke=\"black\" points=\"3554,-187 3434,-187 3434,-104 3554,-104 3554,-187\"/>\n<text text-anchor=\"middle\" x=\"3494\" y=\"-171.8\" font-family=\"Helvetica,sans-Serif\" font-size=\"14.00\">Age &lt;= 25.5</text>\n<text text-anchor=\"middle\" x=\"3494\" y=\"-156.8\" font-family=\"Helvetica,sans-Serif\" font-size=\"14.00\">entropy = 0.65</text>\n<text text-anchor=\"middle\" x=\"3494\" y=\"-141.8\" font-family=\"Helvetica,sans-Serif\" font-size=\"14.00\">samples = 6</text>\n<text text-anchor=\"middle\" x=\"3494\" y=\"-126.8\" font-family=\"Helvetica,sans-Serif\" font-size=\"14.00\">value = [1, 5]</text>\n<text text-anchor=\"middle\" x=\"3494\" y=\"-111.8\" font-family=\"Helvetica,sans-Serif\" font-size=\"14.00\">class = Survived</text>\n</g>\n<!-- 107&#45;&gt;108 -->\n<g id=\"edge108\" class=\"edge\">\n<title>107-&gt;108</title>\n<path fill=\"none\" stroke=\"black\" d=\"M3494,-222.58C3494,-214.79 3494,-206.53 3494,-198.45\"/>\n<polygon fill=\"black\" stroke=\"black\" points=\"3497.5,-198.71 3494,-188.71 3490.5,-198.71 3497.5,-198.71\"/>\n</g>\n<!-- 111 -->\n<g id=\"node112\" class=\"node\">\n<title>111</title>\n<polygon fill=\"#fbece1\" stroke=\"black\" points=\"3798,-187 3682,-187 3682,-104 3798,-104 3798,-187\"/>\n<text text-anchor=\"middle\" x=\"3740\" y=\"-171.8\" font-family=\"Helvetica,sans-Serif\" font-size=\"14.00\">Fare &lt;= 10.825</text>\n<text text-anchor=\"middle\" x=\"3740\" y=\"-156.8\" font-family=\"Helvetica,sans-Serif\" font-size=\"14.00\">entropy = 0.995</text>\n<text text-anchor=\"middle\" x=\"3740\" y=\"-141.8\" font-family=\"Helvetica,sans-Serif\" font-size=\"14.00\">samples = 48</text>\n<text text-anchor=\"middle\" x=\"3740\" y=\"-126.8\" font-family=\"Helvetica,sans-Serif\" font-size=\"14.00\">value = [26, 22]</text>\n<text text-anchor=\"middle\" x=\"3740\" y=\"-111.8\" font-family=\"Helvetica,sans-Serif\" font-size=\"14.00\">class = Died</text>\n</g>\n<!-- 107&#45;&gt;111 -->\n<g id=\"edge111\" class=\"edge\">\n<title>107-&gt;111</title>\n<path fill=\"none\" stroke=\"black\" d=\"M3550.94,-227.85C3553.98,-226.17 3557.01,-224.54 3560,-223 3595.96,-204.45 3637.45,-186.6 3671.53,-172.81\"/>\n<polygon fill=\"black\" stroke=\"black\" points=\"3672.47,-176.2 3680.44,-169.22 3669.86,-169.7 3672.47,-176.2\"/>\n</g>\n<!-- 109 -->\n<g id=\"node110\" class=\"node\">\n<title>109</title>\n<polygon fill=\"#399de5\" stroke=\"black\" points=\"3546,-68 3426,-68 3426,0 3546,0 3546,-68\"/>\n<text text-anchor=\"middle\" x=\"3486\" y=\"-52.8\" font-family=\"Helvetica,sans-Serif\" font-size=\"14.00\">entropy = 0.0</text>\n<text text-anchor=\"middle\" x=\"3486\" y=\"-37.8\" font-family=\"Helvetica,sans-Serif\" font-size=\"14.00\">samples = 5</text>\n<text text-anchor=\"middle\" x=\"3486\" y=\"-22.8\" font-family=\"Helvetica,sans-Serif\" font-size=\"14.00\">value = [0, 5]</text>\n<text text-anchor=\"middle\" x=\"3486\" y=\"-7.8\" font-family=\"Helvetica,sans-Serif\" font-size=\"14.00\">class = Survived</text>\n</g>\n<!-- 108&#45;&gt;109 -->\n<g id=\"edge109\" class=\"edge\">\n<title>108-&gt;109</title>\n<path fill=\"none\" stroke=\"black\" d=\"M3491.02,-103.73C3490.45,-95.88 3489.84,-87.63 3489.26,-79.67\"/>\n<polygon fill=\"black\" stroke=\"black\" points=\"3492.76,-79.53 3488.54,-69.81 3485.78,-80.04 3492.76,-79.53\"/>\n</g>\n<!-- 110 -->\n<g id=\"node111\" class=\"node\">\n<title>110</title>\n<polygon fill=\"#e58139\" stroke=\"black\" points=\"3664,-68 3564,-68 3564,0 3664,0 3664,-68\"/>\n<text text-anchor=\"middle\" x=\"3614\" y=\"-52.8\" font-family=\"Helvetica,sans-Serif\" font-size=\"14.00\">entropy = 0.0</text>\n<text text-anchor=\"middle\" x=\"3614\" y=\"-37.8\" font-family=\"Helvetica,sans-Serif\" font-size=\"14.00\">samples = 1</text>\n<text text-anchor=\"middle\" x=\"3614\" y=\"-22.8\" font-family=\"Helvetica,sans-Serif\" font-size=\"14.00\">value = [1, 0]</text>\n<text text-anchor=\"middle\" x=\"3614\" y=\"-7.8\" font-family=\"Helvetica,sans-Serif\" font-size=\"14.00\">class = Died</text>\n</g>\n<!-- 108&#45;&gt;110 -->\n<g id=\"edge110\" class=\"edge\">\n<title>108-&gt;110</title>\n<path fill=\"none\" stroke=\"black\" d=\"M3538.68,-103.73C3548.68,-94.61 3559.28,-84.93 3569.28,-75.81\"/>\n<polygon fill=\"black\" stroke=\"black\" points=\"3571.36,-78.65 3576.39,-69.32 3566.64,-73.47 3571.36,-78.65\"/>\n</g>\n<!-- 112 -->\n<g id=\"node113\" class=\"node\">\n<title>112</title>\n<polygon fill=\"#f2c09c\" stroke=\"black\" points=\"3798,-68 3682,-68 3682,0 3798,0 3798,-68\"/>\n<text text-anchor=\"middle\" x=\"3740\" y=\"-52.8\" font-family=\"Helvetica,sans-Serif\" font-size=\"14.00\">entropy = 0.918</text>\n<text text-anchor=\"middle\" x=\"3740\" y=\"-37.8\" font-family=\"Helvetica,sans-Serif\" font-size=\"14.00\">samples = 27</text>\n<text text-anchor=\"middle\" x=\"3740\" y=\"-22.8\" font-family=\"Helvetica,sans-Serif\" font-size=\"14.00\">value = [18, 9]</text>\n<text text-anchor=\"middle\" x=\"3740\" y=\"-7.8\" font-family=\"Helvetica,sans-Serif\" font-size=\"14.00\">class = Died</text>\n</g>\n<!-- 111&#45;&gt;112 -->\n<g id=\"edge112\" class=\"edge\">\n<title>111-&gt;112</title>\n<path fill=\"none\" stroke=\"black\" d=\"M3740,-103.73C3740,-95.88 3740,-87.63 3740,-79.67\"/>\n<polygon fill=\"black\" stroke=\"black\" points=\"3743.5,-79.81 3740,-69.81 3736.5,-79.81 3743.5,-79.81\"/>\n</g>\n<!-- 113 -->\n<g id=\"node114\" class=\"node\">\n<title>113</title>\n<polygon fill=\"#b3d9f5\" stroke=\"black\" points=\"3936,-68 3816,-68 3816,0 3936,0 3936,-68\"/>\n<text text-anchor=\"middle\" x=\"3876\" y=\"-52.8\" font-family=\"Helvetica,sans-Serif\" font-size=\"14.00\">entropy = 0.959</text>\n<text text-anchor=\"middle\" x=\"3876\" y=\"-37.8\" font-family=\"Helvetica,sans-Serif\" font-size=\"14.00\">samples = 21</text>\n<text text-anchor=\"middle\" x=\"3876\" y=\"-22.8\" font-family=\"Helvetica,sans-Serif\" font-size=\"14.00\">value = [8, 13]</text>\n<text text-anchor=\"middle\" x=\"3876\" y=\"-7.8\" font-family=\"Helvetica,sans-Serif\" font-size=\"14.00\">class = Survived</text>\n</g>\n<!-- 111&#45;&gt;113 -->\n<g id=\"edge113\" class=\"edge\">\n<title>111-&gt;113</title>\n<path fill=\"none\" stroke=\"black\" d=\"M3790.64,-103.73C3802.2,-94.42 3814.47,-84.54 3826,-75.26\"/>\n<polygon fill=\"black\" stroke=\"black\" points=\"3827.87,-78.25 3833.46,-69.25 3823.48,-72.79 3827.87,-78.25\"/>\n</g>\n<!-- 116 -->\n<g id=\"node117\" class=\"node\">\n<title>116</title>\n<polygon fill=\"#e58139\" stroke=\"black\" points=\"3672,-417.5 3572,-417.5 3572,-349.5 3672,-349.5 3672,-417.5\"/>\n<text text-anchor=\"middle\" x=\"3622\" y=\"-402.3\" font-family=\"Helvetica,sans-Serif\" font-size=\"14.00\">entropy = 0.0</text>\n<text text-anchor=\"middle\" x=\"3622\" y=\"-387.3\" font-family=\"Helvetica,sans-Serif\" font-size=\"14.00\">samples = 6</text>\n<text text-anchor=\"middle\" x=\"3622\" y=\"-372.3\" font-family=\"Helvetica,sans-Serif\" font-size=\"14.00\">value = [6, 0]</text>\n<text text-anchor=\"middle\" x=\"3622\" y=\"-357.3\" font-family=\"Helvetica,sans-Serif\" font-size=\"14.00\">class = Died</text>\n</g>\n<!-- 115&#45;&gt;116 -->\n<g id=\"edge116\" class=\"edge\">\n<title>115-&gt;116</title>\n<path fill=\"none\" stroke=\"black\" d=\"M3622,-460.58C3622,-450.43 3622,-439.5 3622,-429.18\"/>\n<polygon fill=\"black\" stroke=\"black\" points=\"3625.5,-429.37 3622,-419.37 3618.5,-429.37 3625.5,-429.37\"/>\n</g>\n<!-- 117 -->\n<g id=\"node118\" class=\"node\">\n<title>117</title>\n<polygon fill=\"#399de5\" stroke=\"black\" points=\"3810,-417.5 3690,-417.5 3690,-349.5 3810,-349.5 3810,-417.5\"/>\n<text text-anchor=\"middle\" x=\"3750\" y=\"-402.3\" font-family=\"Helvetica,sans-Serif\" font-size=\"14.00\">entropy = 0.0</text>\n<text text-anchor=\"middle\" x=\"3750\" y=\"-387.3\" font-family=\"Helvetica,sans-Serif\" font-size=\"14.00\">samples = 1</text>\n<text text-anchor=\"middle\" x=\"3750\" y=\"-372.3\" font-family=\"Helvetica,sans-Serif\" font-size=\"14.00\">value = [0, 1]</text>\n<text text-anchor=\"middle\" x=\"3750\" y=\"-357.3\" font-family=\"Helvetica,sans-Serif\" font-size=\"14.00\">class = Survived</text>\n</g>\n<!-- 115&#45;&gt;117 -->\n<g id=\"edge117\" class=\"edge\">\n<title>115-&gt;117</title>\n<path fill=\"none\" stroke=\"black\" d=\"M3666.77,-460.58C3679.19,-449.23 3692.67,-436.9 3705.09,-425.55\"/>\n<polygon fill=\"black\" stroke=\"black\" points=\"3707.37,-428.21 3712.39,-418.88 3702.64,-423.05 3707.37,-428.21\"/>\n</g>\n<!-- 119 -->\n<g id=\"node120\" class=\"node\">\n<title>119</title>\n<polygon fill=\"#399de5\" stroke=\"black\" points=\"3818,-536.5 3698,-536.5 3698,-468.5 3818,-468.5 3818,-536.5\"/>\n<text text-anchor=\"middle\" x=\"3758\" y=\"-521.3\" font-family=\"Helvetica,sans-Serif\" font-size=\"14.00\">entropy = 0.0</text>\n<text text-anchor=\"middle\" x=\"3758\" y=\"-506.3\" font-family=\"Helvetica,sans-Serif\" font-size=\"14.00\">samples = 1</text>\n<text text-anchor=\"middle\" x=\"3758\" y=\"-491.3\" font-family=\"Helvetica,sans-Serif\" font-size=\"14.00\">value = [0, 1]</text>\n<text text-anchor=\"middle\" x=\"3758\" y=\"-476.3\" font-family=\"Helvetica,sans-Serif\" font-size=\"14.00\">class = Survived</text>\n</g>\n<!-- 118&#45;&gt;119 -->\n<g id=\"edge119\" class=\"edge\">\n<title>118-&gt;119</title>\n<path fill=\"none\" stroke=\"black\" d=\"M3758,-579.58C3758,-569.43 3758,-558.5 3758,-548.18\"/>\n<polygon fill=\"black\" stroke=\"black\" points=\"3761.5,-548.37 3758,-538.37 3754.5,-548.37 3761.5,-548.37\"/>\n</g>\n<!-- 120 -->\n<g id=\"node121\" class=\"node\">\n<title>120</title>\n<polygon fill=\"#e78c49\" stroke=\"black\" points=\"3952,-544 3836,-544 3836,-461 3952,-461 3952,-544\"/>\n<text text-anchor=\"middle\" x=\"3894\" y=\"-528.8\" font-family=\"Helvetica,sans-Serif\" font-size=\"14.00\">Fare &lt;= 31.331</text>\n<text text-anchor=\"middle\" x=\"3894\" y=\"-513.8\" font-family=\"Helvetica,sans-Serif\" font-size=\"14.00\">entropy = 0.391</text>\n<text text-anchor=\"middle\" x=\"3894\" y=\"-498.8\" font-family=\"Helvetica,sans-Serif\" font-size=\"14.00\">samples = 26</text>\n<text text-anchor=\"middle\" x=\"3894\" y=\"-483.8\" font-family=\"Helvetica,sans-Serif\" font-size=\"14.00\">value = [24, 2]</text>\n<text text-anchor=\"middle\" x=\"3894\" y=\"-468.8\" font-family=\"Helvetica,sans-Serif\" font-size=\"14.00\">class = Died</text>\n</g>\n<!-- 118&#45;&gt;120 -->\n<g id=\"edge120\" class=\"edge\">\n<title>118-&gt;120</title>\n<path fill=\"none\" stroke=\"black\" d=\"M3805.57,-579.58C3816.08,-570.53 3827.32,-560.87 3838.13,-551.56\"/>\n<polygon fill=\"black\" stroke=\"black\" points=\"3840.24,-554.36 3845.54,-545.19 3835.68,-549.06 3840.24,-554.36\"/>\n</g>\n<!-- 121 -->\n<g id=\"node122\" class=\"node\">\n<title>121</title>\n<polygon fill=\"#e58139\" stroke=\"black\" points=\"3940.5,-417.5 3835.5,-417.5 3835.5,-349.5 3940.5,-349.5 3940.5,-417.5\"/>\n<text text-anchor=\"middle\" x=\"3888\" y=\"-402.3\" font-family=\"Helvetica,sans-Serif\" font-size=\"14.00\">entropy = 0.0</text>\n<text text-anchor=\"middle\" x=\"3888\" y=\"-387.3\" font-family=\"Helvetica,sans-Serif\" font-size=\"14.00\">samples = 15</text>\n<text text-anchor=\"middle\" x=\"3888\" y=\"-372.3\" font-family=\"Helvetica,sans-Serif\" font-size=\"14.00\">value = [15, 0]</text>\n<text text-anchor=\"middle\" x=\"3888\" y=\"-357.3\" font-family=\"Helvetica,sans-Serif\" font-size=\"14.00\">class = Died</text>\n</g>\n<!-- 120&#45;&gt;121 -->\n<g id=\"edge121\" class=\"edge\">\n<title>120-&gt;121</title>\n<path fill=\"none\" stroke=\"black\" d=\"M3891.9,-460.58C3891.38,-450.43 3890.82,-439.5 3890.29,-429.18\"/>\n<polygon fill=\"black\" stroke=\"black\" points=\"3893.8,-429.18 3889.79,-419.37 3886.81,-429.54 3893.8,-429.18\"/>\n</g>\n<!-- 122 -->\n<g id=\"node123\" class=\"node\">\n<title>122</title>\n<polygon fill=\"#eb9d65\" stroke=\"black\" points=\"4075,-425 3959,-425 3959,-342 4075,-342 4075,-425\"/>\n<text text-anchor=\"middle\" x=\"4017\" y=\"-409.8\" font-family=\"Helvetica,sans-Serif\" font-size=\"14.00\">Fare &lt;= 32.881</text>\n<text text-anchor=\"middle\" x=\"4017\" y=\"-394.8\" font-family=\"Helvetica,sans-Serif\" font-size=\"14.00\">entropy = 0.684</text>\n<text text-anchor=\"middle\" x=\"4017\" y=\"-379.8\" font-family=\"Helvetica,sans-Serif\" font-size=\"14.00\">samples = 11</text>\n<text text-anchor=\"middle\" x=\"4017\" y=\"-364.8\" font-family=\"Helvetica,sans-Serif\" font-size=\"14.00\">value = [9, 2]</text>\n<text text-anchor=\"middle\" x=\"4017\" y=\"-349.8\" font-family=\"Helvetica,sans-Serif\" font-size=\"14.00\">class = Died</text>\n</g>\n<!-- 120&#45;&gt;122 -->\n<g id=\"edge122\" class=\"edge\">\n<title>120-&gt;122</title>\n<path fill=\"none\" stroke=\"black\" d=\"M3937.02,-460.58C3946.34,-451.71 3956.29,-442.25 3965.89,-433.12\"/>\n<polygon fill=\"black\" stroke=\"black\" points=\"3968.28,-435.67 3973.12,-426.24 3963.46,-430.6 3968.28,-435.67\"/>\n</g>\n<!-- 123 -->\n<g id=\"node124\" class=\"node\">\n<title>123</title>\n<polygon fill=\"#399de5\" stroke=\"black\" points=\"4013,-298.5 3893,-298.5 3893,-230.5 4013,-230.5 4013,-298.5\"/>\n<text text-anchor=\"middle\" x=\"3953\" y=\"-283.3\" font-family=\"Helvetica,sans-Serif\" font-size=\"14.00\">entropy = 0.0</text>\n<text text-anchor=\"middle\" x=\"3953\" y=\"-268.3\" font-family=\"Helvetica,sans-Serif\" font-size=\"14.00\">samples = 2</text>\n<text text-anchor=\"middle\" x=\"3953\" y=\"-253.3\" font-family=\"Helvetica,sans-Serif\" font-size=\"14.00\">value = [0, 2]</text>\n<text text-anchor=\"middle\" x=\"3953\" y=\"-238.3\" font-family=\"Helvetica,sans-Serif\" font-size=\"14.00\">class = Survived</text>\n</g>\n<!-- 122&#45;&gt;123 -->\n<g id=\"edge123\" class=\"edge\">\n<title>122-&gt;123</title>\n<path fill=\"none\" stroke=\"black\" d=\"M3994.62,-341.58C3988.82,-330.99 3982.57,-319.56 3976.71,-308.85\"/>\n<polygon fill=\"black\" stroke=\"black\" points=\"3979.84,-307.28 3971.98,-300.19 3973.7,-310.64 3979.84,-307.28\"/>\n</g>\n<!-- 124 -->\n<g id=\"node125\" class=\"node\">\n<title>124</title>\n<polygon fill=\"#e58139\" stroke=\"black\" points=\"4131,-298.5 4031,-298.5 4031,-230.5 4131,-230.5 4131,-298.5\"/>\n<text text-anchor=\"middle\" x=\"4081\" y=\"-283.3\" font-family=\"Helvetica,sans-Serif\" font-size=\"14.00\">entropy = 0.0</text>\n<text text-anchor=\"middle\" x=\"4081\" y=\"-268.3\" font-family=\"Helvetica,sans-Serif\" font-size=\"14.00\">samples = 9</text>\n<text text-anchor=\"middle\" x=\"4081\" y=\"-253.3\" font-family=\"Helvetica,sans-Serif\" font-size=\"14.00\">value = [9, 0]</text>\n<text text-anchor=\"middle\" x=\"4081\" y=\"-238.3\" font-family=\"Helvetica,sans-Serif\" font-size=\"14.00\">class = Died</text>\n</g>\n<!-- 122&#45;&gt;124 -->\n<g id=\"edge124\" class=\"edge\">\n<title>122-&gt;124</title>\n<path fill=\"none\" stroke=\"black\" d=\"M4039.38,-341.58C4045.18,-330.99 4051.43,-319.56 4057.29,-308.85\"/>\n<polygon fill=\"black\" stroke=\"black\" points=\"4060.3,-310.64 4062.02,-300.19 4054.16,-307.28 4060.3,-310.64\"/>\n</g>\n</g>\n</svg>",
      "text/plain": [
       "<IPython.core.display.SVG object>"
      ]
     },
     "metadata": {},
     "output_type": "display_data"
    }
   ],
   "source": [
    "graph = Source(tree.export_graphviz(best_clf, out_file=None, feature_names=list(X_train), \\\n",
    "    class_names=['Died', 'Survived'], filled=True))\n",
    "display(SVG(graph.pipe(format='svg')))"
   ]
  },
  {
   "cell_type": "code",
   "execution_count": 98,
   "metadata": {},
   "outputs": [],
   "source": [
    "predictions = best_clf.predict(X_test)"
   ]
  },
  {
   "cell_type": "code",
   "execution_count": 99,
   "metadata": {},
   "outputs": [
    {
     "data": {
      "text/html": [
       "<div>\n",
       "<style scoped>\n",
       "    .dataframe tbody tr th:only-of-type {\n",
       "        vertical-align: middle;\n",
       "    }\n",
       "\n",
       "    .dataframe tbody tr th {\n",
       "        vertical-align: top;\n",
       "    }\n",
       "\n",
       "    .dataframe thead th {\n",
       "        text-align: right;\n",
       "    }\n",
       "</style>\n",
       "<table border=\"1\" class=\"dataframe\">\n",
       "  <thead>\n",
       "    <tr style=\"text-align: right;\">\n",
       "      <th></th>\n",
       "      <th>Survived</th>\n",
       "    </tr>\n",
       "    <tr>\n",
       "      <th>PassengerId</th>\n",
       "      <th></th>\n",
       "    </tr>\n",
       "  </thead>\n",
       "  <tbody>\n",
       "    <tr>\n",
       "      <th>892</th>\n",
       "      <td>0</td>\n",
       "    </tr>\n",
       "    <tr>\n",
       "      <th>893</th>\n",
       "      <td>0</td>\n",
       "    </tr>\n",
       "    <tr>\n",
       "      <th>894</th>\n",
       "      <td>0</td>\n",
       "    </tr>\n",
       "    <tr>\n",
       "      <th>895</th>\n",
       "      <td>0</td>\n",
       "    </tr>\n",
       "    <tr>\n",
       "      <th>896</th>\n",
       "      <td>1</td>\n",
       "    </tr>\n",
       "  </tbody>\n",
       "</table>\n",
       "</div>"
      ],
      "text/plain": [
       "             Survived\n",
       "PassengerId          \n",
       "892                 0\n",
       "893                 0\n",
       "894                 0\n",
       "895                 0\n",
       "896                 1"
      ]
     },
     "execution_count": 99,
     "metadata": {},
     "output_type": "execute_result"
    }
   ],
   "source": [
    "y_test = pd.DataFrame({'Survived': predictions}, index=X_test.index)\n",
    "y_test.head()"
   ]
  },
  {
   "cell_type": "code",
   "execution_count": 101,
   "metadata": {},
   "outputs": [
    {
     "data": {
      "text/plain": [
       "0.8732057416267942"
      ]
     },
     "execution_count": 101,
     "metadata": {},
     "output_type": "execute_result"
    }
   ],
   "source": [
    "best_clf.score(X_test, y)"
   ]
  },
  {
   "cell_type": "code",
   "execution_count": 103,
   "metadata": {},
   "outputs": [],
   "source": [
    "y_test.to_csv('submission_tree.csv')"
   ]
  },
  {
   "attachments": {},
   "cell_type": "markdown",
   "metadata": {},
   "source": [
    "# Random Forest"
   ]
  },
  {
   "cell_type": "code",
   "execution_count": null,
   "metadata": {},
   "outputs": [],
   "source": [
    "from sklearn.ensemble import RandomForestClassifier"
   ]
  },
  {
   "cell_type": "code",
   "execution_count": null,
   "metadata": {},
   "outputs": [],
   "source": []
  },
  {
   "cell_type": "code",
   "execution_count": null,
   "metadata": {},
   "outputs": [],
   "source": []
  }
 ],
 "metadata": {
  "kernelspec": {
   "display_name": "Python 3",
   "language": "python",
   "name": "python3"
  },
  "language_info": {
   "codemirror_mode": {
    "name": "ipython",
    "version": 3
   },
   "file_extension": ".py",
   "mimetype": "text/x-python",
   "name": "python",
   "nbconvert_exporter": "python",
   "pygments_lexer": "ipython3",
   "version": "3.8.10 (tags/v3.8.10:3d8993a, May  3 2021, 11:48:03) [MSC v.1928 64 bit (AMD64)]"
  },
  "orig_nbformat": 4,
  "vscode": {
   "interpreter": {
    "hash": "9650cb4e16cdd4a8e8e2d128bf38d875813998db22a3c986335f89e0cb4d7bb2"
   }
  }
 },
 "nbformat": 4,
 "nbformat_minor": 2
}
